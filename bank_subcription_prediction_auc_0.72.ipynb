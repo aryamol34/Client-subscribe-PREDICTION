{
 "cells": [
  {
   "cell_type": "code",
   "execution_count": 1,
   "id": "2d4b9f74",
   "metadata": {},
   "outputs": [],
   "source": [
    "#importing neccessary libraries\n",
    "import pandas as pd\n",
    "import numpy as np\n",
    "import matplotlib.pyplot as plt\n",
    "%matplotlib inline\n",
    "import seaborn as sns"
   ]
  },
  {
   "cell_type": "code",
   "execution_count": 2,
   "id": "c258f0d2",
   "metadata": {},
   "outputs": [],
   "source": [
    "df_train = pd.read_csv('C:/Users/Admin/Desktop/Ecolab_hackathon/train.csv')"
   ]
  },
  {
   "cell_type": "code",
   "execution_count": 3,
   "id": "f01405e5",
   "metadata": {},
   "outputs": [
    {
     "data": {
      "text/plain": [
       "(33908, 17)"
      ]
     },
     "execution_count": 3,
     "metadata": {},
     "output_type": "execute_result"
    }
   ],
   "source": [
    "df_train.shape"
   ]
  },
  {
   "cell_type": "code",
   "execution_count": 4,
   "id": "509340d2",
   "metadata": {},
   "outputs": [
    {
     "name": "stdout",
     "output_type": "stream",
     "text": [
      "<class 'pandas.core.frame.DataFrame'>\n",
      "RangeIndex: 33908 entries, 0 to 33907\n",
      "Data columns (total 17 columns):\n",
      " #   Column     Non-Null Count  Dtype \n",
      "---  ------     --------------  ----- \n",
      " 0   age        33908 non-null  int64 \n",
      " 1   job        33908 non-null  object\n",
      " 2   marital    33908 non-null  object\n",
      " 3   education  33908 non-null  object\n",
      " 4   default    33908 non-null  object\n",
      " 5   balance    33908 non-null  int64 \n",
      " 6   housing    33908 non-null  object\n",
      " 7   loan       33908 non-null  object\n",
      " 8   contact    33908 non-null  object\n",
      " 9   day        33908 non-null  int64 \n",
      " 10  month      33908 non-null  object\n",
      " 11  duration   33908 non-null  int64 \n",
      " 12  campaign   33908 non-null  int64 \n",
      " 13  pdays      33908 non-null  int64 \n",
      " 14  previous   33908 non-null  int64 \n",
      " 15  poutcome   33908 non-null  object\n",
      " 16  y          33908 non-null  object\n",
      "dtypes: int64(7), object(10)\n",
      "memory usage: 4.4+ MB\n"
     ]
    }
   ],
   "source": [
    "df_train.info()"
   ]
  },
  {
   "cell_type": "markdown",
   "id": "a7f16e90",
   "metadata": {},
   "source": [
    "-We see 7 numeric values and 10 objects(categorical variable) in the given Dataset."
   ]
  },
  {
   "cell_type": "markdown",
   "id": "342cfa3a",
   "metadata": {},
   "source": [
    "-Given Dataset has 7 numeric values and 9 objects(categorical variable) and doesnt have Target variable.We Would need to find and append the Target Variable using a best ML model."
   ]
  },
  {
   "cell_type": "code",
   "execution_count": 5,
   "id": "c0367918",
   "metadata": {},
   "outputs": [
    {
     "data": {
      "text/html": [
       "<div>\n",
       "<style scoped>\n",
       "    .dataframe tbody tr th:only-of-type {\n",
       "        vertical-align: middle;\n",
       "    }\n",
       "\n",
       "    .dataframe tbody tr th {\n",
       "        vertical-align: top;\n",
       "    }\n",
       "\n",
       "    .dataframe thead th {\n",
       "        text-align: right;\n",
       "    }\n",
       "</style>\n",
       "<table border=\"1\" class=\"dataframe\">\n",
       "  <thead>\n",
       "    <tr style=\"text-align: right;\">\n",
       "      <th></th>\n",
       "      <th>age</th>\n",
       "      <th>job</th>\n",
       "      <th>marital</th>\n",
       "      <th>education</th>\n",
       "      <th>default</th>\n",
       "      <th>balance</th>\n",
       "      <th>housing</th>\n",
       "      <th>loan</th>\n",
       "      <th>contact</th>\n",
       "      <th>day</th>\n",
       "      <th>month</th>\n",
       "      <th>duration</th>\n",
       "      <th>campaign</th>\n",
       "      <th>pdays</th>\n",
       "      <th>previous</th>\n",
       "      <th>poutcome</th>\n",
       "      <th>y</th>\n",
       "    </tr>\n",
       "  </thead>\n",
       "  <tbody>\n",
       "    <tr>\n",
       "      <th>0</th>\n",
       "      <td>58</td>\n",
       "      <td>retired</td>\n",
       "      <td>married</td>\n",
       "      <td>secondary</td>\n",
       "      <td>no</td>\n",
       "      <td>166</td>\n",
       "      <td>no</td>\n",
       "      <td>yes</td>\n",
       "      <td>unknown</td>\n",
       "      <td>3</td>\n",
       "      <td>jul</td>\n",
       "      <td>211</td>\n",
       "      <td>1</td>\n",
       "      <td>-1</td>\n",
       "      <td>0</td>\n",
       "      <td>unknown</td>\n",
       "      <td>no</td>\n",
       "    </tr>\n",
       "    <tr>\n",
       "      <th>1</th>\n",
       "      <td>51</td>\n",
       "      <td>blue-collar</td>\n",
       "      <td>married</td>\n",
       "      <td>primary</td>\n",
       "      <td>no</td>\n",
       "      <td>2995</td>\n",
       "      <td>yes</td>\n",
       "      <td>no</td>\n",
       "      <td>unknown</td>\n",
       "      <td>11</td>\n",
       "      <td>jun</td>\n",
       "      <td>93</td>\n",
       "      <td>2</td>\n",
       "      <td>-1</td>\n",
       "      <td>0</td>\n",
       "      <td>unknown</td>\n",
       "      <td>no</td>\n",
       "    </tr>\n",
       "    <tr>\n",
       "      <th>2</th>\n",
       "      <td>50</td>\n",
       "      <td>management</td>\n",
       "      <td>married</td>\n",
       "      <td>tertiary</td>\n",
       "      <td>no</td>\n",
       "      <td>569</td>\n",
       "      <td>no</td>\n",
       "      <td>yes</td>\n",
       "      <td>cellular</td>\n",
       "      <td>18</td>\n",
       "      <td>aug</td>\n",
       "      <td>452</td>\n",
       "      <td>4</td>\n",
       "      <td>-1</td>\n",
       "      <td>0</td>\n",
       "      <td>unknown</td>\n",
       "      <td>no</td>\n",
       "    </tr>\n",
       "    <tr>\n",
       "      <th>3</th>\n",
       "      <td>27</td>\n",
       "      <td>admin.</td>\n",
       "      <td>married</td>\n",
       "      <td>secondary</td>\n",
       "      <td>no</td>\n",
       "      <td>73</td>\n",
       "      <td>yes</td>\n",
       "      <td>no</td>\n",
       "      <td>cellular</td>\n",
       "      <td>5</td>\n",
       "      <td>feb</td>\n",
       "      <td>140</td>\n",
       "      <td>1</td>\n",
       "      <td>-1</td>\n",
       "      <td>0</td>\n",
       "      <td>unknown</td>\n",
       "      <td>no</td>\n",
       "    </tr>\n",
       "    <tr>\n",
       "      <th>4</th>\n",
       "      <td>38</td>\n",
       "      <td>self-employed</td>\n",
       "      <td>divorced</td>\n",
       "      <td>tertiary</td>\n",
       "      <td>no</td>\n",
       "      <td>6447</td>\n",
       "      <td>no</td>\n",
       "      <td>no</td>\n",
       "      <td>cellular</td>\n",
       "      <td>12</td>\n",
       "      <td>jan</td>\n",
       "      <td>296</td>\n",
       "      <td>1</td>\n",
       "      <td>-1</td>\n",
       "      <td>0</td>\n",
       "      <td>unknown</td>\n",
       "      <td>no</td>\n",
       "    </tr>\n",
       "  </tbody>\n",
       "</table>\n",
       "</div>"
      ],
      "text/plain": [
       "   age            job   marital  education default  balance housing loan  \\\n",
       "0   58        retired   married  secondary      no      166      no  yes   \n",
       "1   51    blue-collar   married    primary      no     2995     yes   no   \n",
       "2   50     management   married   tertiary      no      569      no  yes   \n",
       "3   27         admin.   married  secondary      no       73     yes   no   \n",
       "4   38  self-employed  divorced   tertiary      no     6447      no   no   \n",
       "\n",
       "    contact  day month  duration  campaign  pdays  previous poutcome   y  \n",
       "0   unknown    3   jul       211         1     -1         0  unknown  no  \n",
       "1   unknown   11   jun        93         2     -1         0  unknown  no  \n",
       "2  cellular   18   aug       452         4     -1         0  unknown  no  \n",
       "3  cellular    5   feb       140         1     -1         0  unknown  no  \n",
       "4  cellular   12   jan       296         1     -1         0  unknown  no  "
      ]
     },
     "execution_count": 5,
     "metadata": {},
     "output_type": "execute_result"
    }
   ],
   "source": [
    "df_train.head()"
   ]
  },
  {
   "cell_type": "code",
   "execution_count": 6,
   "id": "f074b7a9",
   "metadata": {},
   "outputs": [
    {
     "data": {
      "text/html": [
       "<div>\n",
       "<style scoped>\n",
       "    .dataframe tbody tr th:only-of-type {\n",
       "        vertical-align: middle;\n",
       "    }\n",
       "\n",
       "    .dataframe tbody tr th {\n",
       "        vertical-align: top;\n",
       "    }\n",
       "\n",
       "    .dataframe thead th {\n",
       "        text-align: right;\n",
       "    }\n",
       "</style>\n",
       "<table border=\"1\" class=\"dataframe\">\n",
       "  <thead>\n",
       "    <tr style=\"text-align: right;\">\n",
       "      <th></th>\n",
       "      <th>age</th>\n",
       "      <th>balance</th>\n",
       "      <th>day</th>\n",
       "      <th>duration</th>\n",
       "      <th>campaign</th>\n",
       "      <th>pdays</th>\n",
       "      <th>previous</th>\n",
       "    </tr>\n",
       "  </thead>\n",
       "  <tbody>\n",
       "    <tr>\n",
       "      <th>count</th>\n",
       "      <td>33908.000000</td>\n",
       "      <td>33908.000000</td>\n",
       "      <td>33908.000000</td>\n",
       "      <td>33908.000000</td>\n",
       "      <td>33908.000000</td>\n",
       "      <td>33908.000000</td>\n",
       "      <td>33908.000000</td>\n",
       "    </tr>\n",
       "    <tr>\n",
       "      <th>mean</th>\n",
       "      <td>40.966763</td>\n",
       "      <td>1370.713136</td>\n",
       "      <td>15.803763</td>\n",
       "      <td>257.899227</td>\n",
       "      <td>2.752920</td>\n",
       "      <td>40.168515</td>\n",
       "      <td>0.581987</td>\n",
       "    </tr>\n",
       "    <tr>\n",
       "      <th>std</th>\n",
       "      <td>10.613701</td>\n",
       "      <td>3111.689069</td>\n",
       "      <td>8.314558</td>\n",
       "      <td>258.607105</td>\n",
       "      <td>3.068299</td>\n",
       "      <td>99.892114</td>\n",
       "      <td>2.412482</td>\n",
       "    </tr>\n",
       "    <tr>\n",
       "      <th>min</th>\n",
       "      <td>18.000000</td>\n",
       "      <td>-8019.000000</td>\n",
       "      <td>1.000000</td>\n",
       "      <td>0.000000</td>\n",
       "      <td>1.000000</td>\n",
       "      <td>-1.000000</td>\n",
       "      <td>0.000000</td>\n",
       "    </tr>\n",
       "    <tr>\n",
       "      <th>25%</th>\n",
       "      <td>33.000000</td>\n",
       "      <td>74.000000</td>\n",
       "      <td>8.000000</td>\n",
       "      <td>103.000000</td>\n",
       "      <td>1.000000</td>\n",
       "      <td>-1.000000</td>\n",
       "      <td>0.000000</td>\n",
       "    </tr>\n",
       "    <tr>\n",
       "      <th>50%</th>\n",
       "      <td>39.000000</td>\n",
       "      <td>450.000000</td>\n",
       "      <td>16.000000</td>\n",
       "      <td>179.000000</td>\n",
       "      <td>2.000000</td>\n",
       "      <td>-1.000000</td>\n",
       "      <td>0.000000</td>\n",
       "    </tr>\n",
       "    <tr>\n",
       "      <th>75%</th>\n",
       "      <td>48.000000</td>\n",
       "      <td>1430.000000</td>\n",
       "      <td>21.000000</td>\n",
       "      <td>318.000000</td>\n",
       "      <td>3.000000</td>\n",
       "      <td>-1.000000</td>\n",
       "      <td>0.000000</td>\n",
       "    </tr>\n",
       "    <tr>\n",
       "      <th>max</th>\n",
       "      <td>95.000000</td>\n",
       "      <td>102127.000000</td>\n",
       "      <td>31.000000</td>\n",
       "      <td>4918.000000</td>\n",
       "      <td>63.000000</td>\n",
       "      <td>871.000000</td>\n",
       "      <td>275.000000</td>\n",
       "    </tr>\n",
       "  </tbody>\n",
       "</table>\n",
       "</div>"
      ],
      "text/plain": [
       "                age        balance           day      duration      campaign  \\\n",
       "count  33908.000000   33908.000000  33908.000000  33908.000000  33908.000000   \n",
       "mean      40.966763    1370.713136     15.803763    257.899227      2.752920   \n",
       "std       10.613701    3111.689069      8.314558    258.607105      3.068299   \n",
       "min       18.000000   -8019.000000      1.000000      0.000000      1.000000   \n",
       "25%       33.000000      74.000000      8.000000    103.000000      1.000000   \n",
       "50%       39.000000     450.000000     16.000000    179.000000      2.000000   \n",
       "75%       48.000000    1430.000000     21.000000    318.000000      3.000000   \n",
       "max       95.000000  102127.000000     31.000000   4918.000000     63.000000   \n",
       "\n",
       "              pdays      previous  \n",
       "count  33908.000000  33908.000000  \n",
       "mean      40.168515      0.581987  \n",
       "std       99.892114      2.412482  \n",
       "min       -1.000000      0.000000  \n",
       "25%       -1.000000      0.000000  \n",
       "50%       -1.000000      0.000000  \n",
       "75%       -1.000000      0.000000  \n",
       "max      871.000000    275.000000  "
      ]
     },
     "execution_count": 6,
     "metadata": {},
     "output_type": "execute_result"
    }
   ],
   "source": [
    "df_train.describe()"
   ]
  },
  {
   "cell_type": "markdown",
   "id": "04a7faa1",
   "metadata": {},
   "source": [
    "### Univariate analysis"
   ]
  },
  {
   "cell_type": "code",
   "execution_count": 7,
   "id": "2b740415",
   "metadata": {},
   "outputs": [],
   "source": [
    "#bifurcating Numerical and Categorical variables from Training dataset\n",
    "df_numerical  = df_train[['age','balance','day','duration','campaign','previous','pdays']] # Will use histogram to analyze\n"
   ]
  },
  {
   "cell_type": "code",
   "execution_count": 8,
   "id": "34c4c51e",
   "metadata": {},
   "outputs": [],
   "source": [
    "df_numerical = df_train.select_dtypes(include=[np.number])#numericaL feature\n",
    "df_categorical = df_train.select_dtypes(exclude=[np.number])#categorical feature"
   ]
  },
  {
   "cell_type": "code",
   "execution_count": 9,
   "id": "fc4acc0b",
   "metadata": {},
   "outputs": [
    {
     "data": {
      "text/html": [
       "<div>\n",
       "<style scoped>\n",
       "    .dataframe tbody tr th:only-of-type {\n",
       "        vertical-align: middle;\n",
       "    }\n",
       "\n",
       "    .dataframe tbody tr th {\n",
       "        vertical-align: top;\n",
       "    }\n",
       "\n",
       "    .dataframe thead th {\n",
       "        text-align: right;\n",
       "    }\n",
       "</style>\n",
       "<table border=\"1\" class=\"dataframe\">\n",
       "  <thead>\n",
       "    <tr style=\"text-align: right;\">\n",
       "      <th></th>\n",
       "      <th>job</th>\n",
       "      <th>marital</th>\n",
       "      <th>education</th>\n",
       "      <th>default</th>\n",
       "      <th>housing</th>\n",
       "      <th>loan</th>\n",
       "      <th>contact</th>\n",
       "      <th>month</th>\n",
       "      <th>poutcome</th>\n",
       "      <th>y</th>\n",
       "    </tr>\n",
       "  </thead>\n",
       "  <tbody>\n",
       "    <tr>\n",
       "      <th>0</th>\n",
       "      <td>retired</td>\n",
       "      <td>married</td>\n",
       "      <td>secondary</td>\n",
       "      <td>no</td>\n",
       "      <td>no</td>\n",
       "      <td>yes</td>\n",
       "      <td>unknown</td>\n",
       "      <td>jul</td>\n",
       "      <td>unknown</td>\n",
       "      <td>no</td>\n",
       "    </tr>\n",
       "    <tr>\n",
       "      <th>1</th>\n",
       "      <td>blue-collar</td>\n",
       "      <td>married</td>\n",
       "      <td>primary</td>\n",
       "      <td>no</td>\n",
       "      <td>yes</td>\n",
       "      <td>no</td>\n",
       "      <td>unknown</td>\n",
       "      <td>jun</td>\n",
       "      <td>unknown</td>\n",
       "      <td>no</td>\n",
       "    </tr>\n",
       "    <tr>\n",
       "      <th>2</th>\n",
       "      <td>management</td>\n",
       "      <td>married</td>\n",
       "      <td>tertiary</td>\n",
       "      <td>no</td>\n",
       "      <td>no</td>\n",
       "      <td>yes</td>\n",
       "      <td>cellular</td>\n",
       "      <td>aug</td>\n",
       "      <td>unknown</td>\n",
       "      <td>no</td>\n",
       "    </tr>\n",
       "    <tr>\n",
       "      <th>3</th>\n",
       "      <td>admin.</td>\n",
       "      <td>married</td>\n",
       "      <td>secondary</td>\n",
       "      <td>no</td>\n",
       "      <td>yes</td>\n",
       "      <td>no</td>\n",
       "      <td>cellular</td>\n",
       "      <td>feb</td>\n",
       "      <td>unknown</td>\n",
       "      <td>no</td>\n",
       "    </tr>\n",
       "    <tr>\n",
       "      <th>4</th>\n",
       "      <td>self-employed</td>\n",
       "      <td>divorced</td>\n",
       "      <td>tertiary</td>\n",
       "      <td>no</td>\n",
       "      <td>no</td>\n",
       "      <td>no</td>\n",
       "      <td>cellular</td>\n",
       "      <td>jan</td>\n",
       "      <td>unknown</td>\n",
       "      <td>no</td>\n",
       "    </tr>\n",
       "    <tr>\n",
       "      <th>...</th>\n",
       "      <td>...</td>\n",
       "      <td>...</td>\n",
       "      <td>...</td>\n",
       "      <td>...</td>\n",
       "      <td>...</td>\n",
       "      <td>...</td>\n",
       "      <td>...</td>\n",
       "      <td>...</td>\n",
       "      <td>...</td>\n",
       "      <td>...</td>\n",
       "    </tr>\n",
       "    <tr>\n",
       "      <th>33903</th>\n",
       "      <td>admin.</td>\n",
       "      <td>single</td>\n",
       "      <td>secondary</td>\n",
       "      <td>no</td>\n",
       "      <td>no</td>\n",
       "      <td>yes</td>\n",
       "      <td>cellular</td>\n",
       "      <td>apr</td>\n",
       "      <td>unknown</td>\n",
       "      <td>yes</td>\n",
       "    </tr>\n",
       "    <tr>\n",
       "      <th>33904</th>\n",
       "      <td>management</td>\n",
       "      <td>married</td>\n",
       "      <td>tertiary</td>\n",
       "      <td>no</td>\n",
       "      <td>yes</td>\n",
       "      <td>no</td>\n",
       "      <td>cellular</td>\n",
       "      <td>aug</td>\n",
       "      <td>unknown</td>\n",
       "      <td>no</td>\n",
       "    </tr>\n",
       "    <tr>\n",
       "      <th>33905</th>\n",
       "      <td>technician</td>\n",
       "      <td>single</td>\n",
       "      <td>secondary</td>\n",
       "      <td>no</td>\n",
       "      <td>yes</td>\n",
       "      <td>no</td>\n",
       "      <td>unknown</td>\n",
       "      <td>may</td>\n",
       "      <td>unknown</td>\n",
       "      <td>no</td>\n",
       "    </tr>\n",
       "    <tr>\n",
       "      <th>33906</th>\n",
       "      <td>technician</td>\n",
       "      <td>married</td>\n",
       "      <td>tertiary</td>\n",
       "      <td>no</td>\n",
       "      <td>no</td>\n",
       "      <td>no</td>\n",
       "      <td>cellular</td>\n",
       "      <td>aug</td>\n",
       "      <td>unknown</td>\n",
       "      <td>no</td>\n",
       "    </tr>\n",
       "    <tr>\n",
       "      <th>33907</th>\n",
       "      <td>retired</td>\n",
       "      <td>married</td>\n",
       "      <td>primary</td>\n",
       "      <td>no</td>\n",
       "      <td>yes</td>\n",
       "      <td>no</td>\n",
       "      <td>unknown</td>\n",
       "      <td>may</td>\n",
       "      <td>unknown</td>\n",
       "      <td>no</td>\n",
       "    </tr>\n",
       "  </tbody>\n",
       "</table>\n",
       "<p>33908 rows × 10 columns</p>\n",
       "</div>"
      ],
      "text/plain": [
       "                 job   marital  education default housing loan   contact  \\\n",
       "0            retired   married  secondary      no      no  yes   unknown   \n",
       "1        blue-collar   married    primary      no     yes   no   unknown   \n",
       "2         management   married   tertiary      no      no  yes  cellular   \n",
       "3             admin.   married  secondary      no     yes   no  cellular   \n",
       "4      self-employed  divorced   tertiary      no      no   no  cellular   \n",
       "...              ...       ...        ...     ...     ...  ...       ...   \n",
       "33903         admin.    single  secondary      no      no  yes  cellular   \n",
       "33904     management   married   tertiary      no     yes   no  cellular   \n",
       "33905     technician    single  secondary      no     yes   no   unknown   \n",
       "33906     technician   married   tertiary      no      no   no  cellular   \n",
       "33907        retired   married    primary      no     yes   no   unknown   \n",
       "\n",
       "      month poutcome    y  \n",
       "0       jul  unknown   no  \n",
       "1       jun  unknown   no  \n",
       "2       aug  unknown   no  \n",
       "3       feb  unknown   no  \n",
       "4       jan  unknown   no  \n",
       "...     ...      ...  ...  \n",
       "33903   apr  unknown  yes  \n",
       "33904   aug  unknown   no  \n",
       "33905   may  unknown   no  \n",
       "33906   aug  unknown   no  \n",
       "33907   may  unknown   no  \n",
       "\n",
       "[33908 rows x 10 columns]"
      ]
     },
     "execution_count": 9,
     "metadata": {},
     "output_type": "execute_result"
    }
   ],
   "source": [
    "df_categorical"
   ]
  },
  {
   "cell_type": "code",
   "execution_count": 10,
   "id": "e64959f7",
   "metadata": {},
   "outputs": [
    {
     "data": {
      "text/html": [
       "<div>\n",
       "<style scoped>\n",
       "    .dataframe tbody tr th:only-of-type {\n",
       "        vertical-align: middle;\n",
       "    }\n",
       "\n",
       "    .dataframe tbody tr th {\n",
       "        vertical-align: top;\n",
       "    }\n",
       "\n",
       "    .dataframe thead th {\n",
       "        text-align: right;\n",
       "    }\n",
       "</style>\n",
       "<table border=\"1\" class=\"dataframe\">\n",
       "  <thead>\n",
       "    <tr style=\"text-align: right;\">\n",
       "      <th></th>\n",
       "      <th>age</th>\n",
       "      <th>balance</th>\n",
       "      <th>day</th>\n",
       "      <th>duration</th>\n",
       "      <th>campaign</th>\n",
       "      <th>pdays</th>\n",
       "      <th>previous</th>\n",
       "    </tr>\n",
       "  </thead>\n",
       "  <tbody>\n",
       "    <tr>\n",
       "      <th>0</th>\n",
       "      <td>58</td>\n",
       "      <td>166</td>\n",
       "      <td>3</td>\n",
       "      <td>211</td>\n",
       "      <td>1</td>\n",
       "      <td>-1</td>\n",
       "      <td>0</td>\n",
       "    </tr>\n",
       "    <tr>\n",
       "      <th>1</th>\n",
       "      <td>51</td>\n",
       "      <td>2995</td>\n",
       "      <td>11</td>\n",
       "      <td>93</td>\n",
       "      <td>2</td>\n",
       "      <td>-1</td>\n",
       "      <td>0</td>\n",
       "    </tr>\n",
       "    <tr>\n",
       "      <th>2</th>\n",
       "      <td>50</td>\n",
       "      <td>569</td>\n",
       "      <td>18</td>\n",
       "      <td>452</td>\n",
       "      <td>4</td>\n",
       "      <td>-1</td>\n",
       "      <td>0</td>\n",
       "    </tr>\n",
       "    <tr>\n",
       "      <th>3</th>\n",
       "      <td>27</td>\n",
       "      <td>73</td>\n",
       "      <td>5</td>\n",
       "      <td>140</td>\n",
       "      <td>1</td>\n",
       "      <td>-1</td>\n",
       "      <td>0</td>\n",
       "    </tr>\n",
       "    <tr>\n",
       "      <th>4</th>\n",
       "      <td>38</td>\n",
       "      <td>6447</td>\n",
       "      <td>12</td>\n",
       "      <td>296</td>\n",
       "      <td>1</td>\n",
       "      <td>-1</td>\n",
       "      <td>0</td>\n",
       "    </tr>\n",
       "    <tr>\n",
       "      <th>...</th>\n",
       "      <td>...</td>\n",
       "      <td>...</td>\n",
       "      <td>...</td>\n",
       "      <td>...</td>\n",
       "      <td>...</td>\n",
       "      <td>...</td>\n",
       "      <td>...</td>\n",
       "    </tr>\n",
       "    <tr>\n",
       "      <th>33903</th>\n",
       "      <td>32</td>\n",
       "      <td>471</td>\n",
       "      <td>2</td>\n",
       "      <td>243</td>\n",
       "      <td>3</td>\n",
       "      <td>-1</td>\n",
       "      <td>0</td>\n",
       "    </tr>\n",
       "    <tr>\n",
       "      <th>33904</th>\n",
       "      <td>44</td>\n",
       "      <td>0</td>\n",
       "      <td>20</td>\n",
       "      <td>141</td>\n",
       "      <td>3</td>\n",
       "      <td>-1</td>\n",
       "      <td>0</td>\n",
       "    </tr>\n",
       "    <tr>\n",
       "      <th>33905</th>\n",
       "      <td>42</td>\n",
       "      <td>0</td>\n",
       "      <td>6</td>\n",
       "      <td>293</td>\n",
       "      <td>1</td>\n",
       "      <td>-1</td>\n",
       "      <td>0</td>\n",
       "    </tr>\n",
       "    <tr>\n",
       "      <th>33906</th>\n",
       "      <td>34</td>\n",
       "      <td>116</td>\n",
       "      <td>11</td>\n",
       "      <td>145</td>\n",
       "      <td>2</td>\n",
       "      <td>-1</td>\n",
       "      <td>0</td>\n",
       "    </tr>\n",
       "    <tr>\n",
       "      <th>33907</th>\n",
       "      <td>60</td>\n",
       "      <td>60</td>\n",
       "      <td>5</td>\n",
       "      <td>219</td>\n",
       "      <td>1</td>\n",
       "      <td>-1</td>\n",
       "      <td>0</td>\n",
       "    </tr>\n",
       "  </tbody>\n",
       "</table>\n",
       "<p>33908 rows × 7 columns</p>\n",
       "</div>"
      ],
      "text/plain": [
       "       age  balance  day  duration  campaign  pdays  previous\n",
       "0       58      166    3       211         1     -1         0\n",
       "1       51     2995   11        93         2     -1         0\n",
       "2       50      569   18       452         4     -1         0\n",
       "3       27       73    5       140         1     -1         0\n",
       "4       38     6447   12       296         1     -1         0\n",
       "...    ...      ...  ...       ...       ...    ...       ...\n",
       "33903   32      471    2       243         3     -1         0\n",
       "33904   44        0   20       141         3     -1         0\n",
       "33905   42        0    6       293         1     -1         0\n",
       "33906   34      116   11       145         2     -1         0\n",
       "33907   60       60    5       219         1     -1         0\n",
       "\n",
       "[33908 rows x 7 columns]"
      ]
     },
     "execution_count": 10,
     "metadata": {},
     "output_type": "execute_result"
    }
   ],
   "source": [
    "df_numerical"
   ]
  },
  {
   "cell_type": "code",
   "execution_count": 11,
   "id": "095b3d9d",
   "metadata": {},
   "outputs": [
    {
     "data": {
      "image/png": "[encoded data removed]",
      "text/plain": [
       "<Figure size 432x288 with 1 Axes>"
      ]
     },
     "metadata": {
      "needs_background": "light"
     },
     "output_type": "display_data"
    },
    {
     "data": {
      "image/png": "[encoded data removed]",
      "text/plain": [
       "<Figure size 432x288 with 1 Axes>"
      ]
     },
     "metadata": {
      "needs_background": "light"
     },
     "output_type": "display_data"
    },
    {
     "data": {
      "image/png": "[encoded data removed]",
      "text/plain": [
       "<Figure size 432x288 with 1 Axes>"
      ]
     },
     "metadata": {
      "needs_background": "light"
     },
     "output_type": "display_data"
    },
    {
     "data": {
      "image/png": "[encoded data removed]",
      "text/plain": [
       "<Figure size 432x288 with 1 Axes>"
      ]
     },
     "metadata": {
      "needs_background": "light"
     },
     "output_type": "display_data"
    },
    {
     "data": {
      "image/png": "[encoded data removed]",
      "text/plain": [
       "<Figure size 432x288 with 1 Axes>"
      ]
     },
     "metadata": {
      "needs_background": "light"
     },
     "output_type": "display_data"
    },
    {
     "data": {
      "image/png": "[encoded data removed]",
      "text/plain": [
       "<Figure size 432x288 with 1 Axes>"
      ]
     },
     "metadata": {
      "needs_background": "light"
     },
     "output_type": "display_data"
    },
    {
     "data": {
      "image/png": "[encoded data removed]",
      "text/plain": [
       "<Figure size 432x288 with 1 Axes>"
      ]
     },
     "metadata": {
      "needs_background": "light"
     },
     "output_type": "display_data"
    }
   ],
   "source": [
    "#displaying numeric variables to get insights  \n",
    "for i in df_numerical.columns:\n",
    "    plt.hist(df_numerical[i])\n",
    "    plt.title(i)\n",
    "    plt.show()"
   ]
  },
  {
   "cell_type": "markdown",
   "id": "0d263dcc",
   "metadata": {},
   "source": [
    "## 1.EDA & Data cleaning"
   ]
  },
  {
   "cell_type": "code",
   "execution_count": 12,
   "id": "805d7220",
   "metadata": {},
   "outputs": [
    {
     "name": "stdout",
     "output_type": "stream",
     "text": [
      "['age', 'balance', 'day', 'duration', 'campaign', 'pdays', 'previous']\n"
     ]
    },
    {
     "name": "stderr",
     "output_type": "stream",
     "text": [
      "C:\\Users\\Admin\\anaconda3\\lib\\site-packages\\seaborn\\_decorators.py:36: FutureWarning: Pass the following variable as a keyword arg: x. From version 0.12, the only valid positional argument will be `data`, and passing other arguments without an explicit keyword will result in an error or misinterpretation.\n",
      "  warnings.warn(\n",
      "C:\\Users\\Admin\\anaconda3\\lib\\site-packages\\seaborn\\_decorators.py:36: FutureWarning: Pass the following variable as a keyword arg: x. From version 0.12, the only valid positional argument will be `data`, and passing other arguments without an explicit keyword will result in an error or misinterpretation.\n",
      "  warnings.warn(\n",
      "C:\\Users\\Admin\\anaconda3\\lib\\site-packages\\seaborn\\_decorators.py:36: FutureWarning: Pass the following variable as a keyword arg: x. From version 0.12, the only valid positional argument will be `data`, and passing other arguments without an explicit keyword will result in an error or misinterpretation.\n",
      "  warnings.warn(\n",
      "C:\\Users\\Admin\\anaconda3\\lib\\site-packages\\seaborn\\_decorators.py:36: FutureWarning: Pass the following variable as a keyword arg: x. From version 0.12, the only valid positional argument will be `data`, and passing other arguments without an explicit keyword will result in an error or misinterpretation.\n",
      "  warnings.warn(\n",
      "C:\\Users\\Admin\\anaconda3\\lib\\site-packages\\seaborn\\_decorators.py:36: FutureWarning: Pass the following variable as a keyword arg: x. From version 0.12, the only valid positional argument will be `data`, and passing other arguments without an explicit keyword will result in an error or misinterpretation.\n",
      "  warnings.warn(\n",
      "C:\\Users\\Admin\\anaconda3\\lib\\site-packages\\seaborn\\_decorators.py:36: FutureWarning: Pass the following variable as a keyword arg: x. From version 0.12, the only valid positional argument will be `data`, and passing other arguments without an explicit keyword will result in an error or misinterpretation.\n",
      "  warnings.warn(\n",
      "C:\\Users\\Admin\\anaconda3\\lib\\site-packages\\seaborn\\_decorators.py:36: FutureWarning: Pass the following variable as a keyword arg: x. From version 0.12, the only valid positional argument will be `data`, and passing other arguments without an explicit keyword will result in an error or misinterpretation.\n",
      "  warnings.warn(\n"
     ]
    },
    {
     "data": {
      "image/png": "[encoded data removed]",
      "text/plain": [
       "<Figure size 432x288 with 1 Axes>"
      ]
     },
     "metadata": {
      "needs_background": "light"
     },
     "output_type": "display_data"
    },
    {
     "data": {
      "image/png": "[encoded data removed]",
      "text/plain": [
       "<Figure size 432x288 with 1 Axes>"
      ]
     },
     "metadata": {
      "needs_background": "light"
     },
     "output_type": "display_data"
    },
    {
     "data": {
      "image/png": "[encoded data removed]",
      "text/plain": [
       "<Figure size 432x288 with 1 Axes>"
      ]
     },
     "metadata": {
      "needs_background": "light"
     },
     "output_type": "display_data"
    },
    {
     "data": {
      "image/png": "[encoded data removed]",
      "text/plain": [
       "<Figure size 432x288 with 1 Axes>"
      ]
     },
     "metadata": {
      "needs_background": "light"
     },
     "output_type": "display_data"
    },
    {
     "data": {
      "image/png": "[encoded data removed]",
      "text/plain": [
       "<Figure size 432x288 with 1 Axes>"
      ]
     },
     "metadata": {
      "needs_background": "light"
     },
     "output_type": "display_data"
    },
    {
     "data": {
      "image/png": "[encoded data removed]",
      "text/plain": [
       "<Figure size 432x288 with 1 Axes>"
      ]
     },
     "metadata": {
      "needs_background": "light"
     },
     "output_type": "display_data"
    },
    {
     "data": {
      "image/png": "[encoded data removed]",
      "text/plain": [
       "<Figure size 432x288 with 1 Axes>"
      ]
     },
     "metadata": {
      "needs_background": "light"
     },
     "output_type": "display_data"
    }
   ],
   "source": [
    "my_test=[]\n",
    "for col in df_numerical.columns:\n",
    "    my_test.append(col)\n",
    "    \n",
    "print(my_test)\n",
    "\n",
    "for i in my_test:\n",
    "    plt.figure(i)\n",
    "    sns.boxplot(df_numerical[i])\n",
    "plt.show()"
   ]
  },
  {
   "cell_type": "markdown",
   "id": "5466996a",
   "metadata": {},
   "source": [
    "#### Outlier treatment-IQR for cleanup "
   ]
  },
  {
   "cell_type": "code",
   "execution_count": 13,
   "id": "5258bb99",
   "metadata": {},
   "outputs": [
    {
     "name": "stdout",
     "output_type": "stream",
     "text": [
      "33.0 48.0\n",
      "Iqr: 15.0\n",
      "lower_fence = 10.5 higher_fence= 70.5\n"
     ]
    }
   ],
   "source": [
    "#age\n",
    "#outlier treatment-IQR\n",
    "#IQR-for removing outliers\n",
    "dataset = sorted(df_train.age)\n",
    "q1,q3 = np.percentile(dataset,[25,75])\n",
    "print(q1,q3)\n",
    "iqr = q3 -q1\n",
    "print('Iqr:',iqr)\n",
    "lower_fence = q1 -(1.5*iqr)\n",
    "higher_fence = q3+(1.5*iqr)\n",
    "print('lower_fence =',lower_fence,'higher_fence=',higher_fence)"
   ]
  },
  {
   "cell_type": "code",
   "execution_count": 14,
   "id": "889c14ac",
   "metadata": {},
   "outputs": [],
   "source": [
    "#Outlier Treatment\n",
    "df_train.age = np.where(df_train.age>higher_fence,higher_fence,df_train.age)\n"
   ]
  },
  {
   "cell_type": "code",
   "execution_count": 15,
   "id": "e6fd5931",
   "metadata": {},
   "outputs": [
    {
     "data": {
      "text/plain": [
       "Text(0.5, 1.0, 'Box plot of outliers free-Age')"
      ]
     },
     "execution_count": 15,
     "metadata": {},
     "output_type": "execute_result"
    },
    {
     "data": {
      "image/png": "[encoded data removed]",
      "text/plain": [
       "<Figure size 432x288 with 1 Axes>"
      ]
     },
     "metadata": {
      "needs_background": "light"
     },
     "output_type": "display_data"
    }
   ],
   "source": [
    "sns.boxplot(x=df_train.age,data=df_train)\n",
    "plt.title('Box plot of outliers free-Age') "
   ]
  },
  {
   "cell_type": "code",
   "execution_count": 16,
   "id": "a44739c7",
   "metadata": {},
   "outputs": [
    {
     "name": "stdout",
     "output_type": "stream",
     "text": [
      "74.0 1430.0\n",
      "Iqr: 1356.0\n",
      "lower_fence = -1960.0 higher_fence= 3464.0\n"
     ]
    }
   ],
   "source": [
    "#balance\n",
    "#outlier treatment-IQR\n",
    "#IQR-for removing outliers\n",
    "dataset = sorted(df_train.balance)\n",
    "q1,q3 = np.percentile(dataset,[25,75])\n",
    "print(q1,q3)\n",
    "iqr = q3 -q1\n",
    "print('Iqr:',iqr)\n",
    "lower_fence = q1 -(1.5*iqr)\n",
    "higher_fence = q3+(1.5*iqr)\n",
    "print('lower_fence =',lower_fence,'higher_fence=',higher_fence)"
   ]
  },
  {
   "cell_type": "code",
   "execution_count": 17,
   "id": "02246cc9",
   "metadata": {},
   "outputs": [],
   "source": [
    "df_train.balance = np.where(df_train.balance>higher_fence,higher_fence,df_train.balance)"
   ]
  },
  {
   "cell_type": "code",
   "execution_count": 18,
   "id": "83a6920f",
   "metadata": {},
   "outputs": [],
   "source": [
    "df_train['balance'] = np.where(df_train['balance'] < lower_fence, lower_fence, df_train['balance'])"
   ]
  },
  {
   "cell_type": "code",
   "execution_count": 19,
   "id": "17fe8c0b",
   "metadata": {},
   "outputs": [
    {
     "data": {
      "text/plain": [
       "Text(0.5, 1.0, 'Box plot of outliers free-balance')"
      ]
     },
     "execution_count": 19,
     "metadata": {},
     "output_type": "execute_result"
    },
    {
     "data": {
      "image/png": "[encoded data removed]",
      "text/plain": [
       "<Figure size 432x288 with 1 Axes>"
      ]
     },
     "metadata": {
      "needs_background": "light"
     },
     "output_type": "display_data"
    }
   ],
   "source": [
    "sns.boxplot(x=df_train.balance,data=df_train)\n",
    "plt.title('Box plot of outliers free-balance')"
   ]
  },
  {
   "cell_type": "code",
   "execution_count": 20,
   "id": "39137e95",
   "metadata": {},
   "outputs": [
    {
     "name": "stdout",
     "output_type": "stream",
     "text": [
      "103.0 318.0\n",
      "Iqr: 215.0\n",
      "lower_fence = -219.5 higher_fence= 640.5\n"
     ]
    }
   ],
   "source": [
    "#duration\n",
    "\n",
    "#outlier treatment-IQR\n",
    "#IQR-for removing outliers\n",
    "dataset = sorted(df_train.duration)\n",
    "q1,q3 = np.percentile(dataset,[25,75])\n",
    "print(q1,q3)\n",
    "iqr = q3 -q1\n",
    "print('Iqr:',iqr)\n",
    "lower_fence = q1 -(1.5*iqr)\n",
    "higher_fence = q3+(1.5*iqr)\n",
    "print('lower_fence =',lower_fence,'higher_fence=',higher_fence)"
   ]
  },
  {
   "cell_type": "code",
   "execution_count": 21,
   "id": "19115e02",
   "metadata": {},
   "outputs": [],
   "source": [
    "df_train['duration'] = np.where(df_train['duration'] > higher_fence, higher_fence, df_train['duration'])"
   ]
  },
  {
   "cell_type": "code",
   "execution_count": 22,
   "id": "e0830108",
   "metadata": {},
   "outputs": [
    {
     "data": {
      "text/plain": [
       "Text(0.5, 1.0, 'Box plot of outliers free-duration')"
      ]
     },
     "execution_count": 22,
     "metadata": {},
     "output_type": "execute_result"
    },
    {
     "data": {
      "image/png": "[encoded data removed]",
      "text/plain": [
       "<Figure size 432x288 with 1 Axes>"
      ]
     },
     "metadata": {
      "needs_background": "light"
     },
     "output_type": "display_data"
    }
   ],
   "source": [
    "sns.boxplot(x=df_train.duration,data=df_train)\n",
    "plt.title('Box plot of outliers free-duration') "
   ]
  },
  {
   "cell_type": "code",
   "execution_count": 23,
   "id": "29f876c0",
   "metadata": {},
   "outputs": [
    {
     "name": "stdout",
     "output_type": "stream",
     "text": [
      "1.0 3.0\n",
      "Iqr: 2.0\n",
      "lower_fence = -2.0 higher_fence= 6.0\n"
     ]
    }
   ],
   "source": [
    "#campaign\n",
    "#outlier treatment-IQR\n",
    "#IQR-for removing outliers\n",
    "dataset = sorted(df_train.campaign)\n",
    "q1,q3 = np.percentile(dataset,[25,75])\n",
    "print(q1,q3)\n",
    "iqr = q3 -q1\n",
    "print('Iqr:',iqr)\n",
    "lower_fence = q1 -(1.5*iqr)\n",
    "higher_fence = q3+(1.5*iqr)\n",
    "print('lower_fence =',lower_fence,'higher_fence=',higher_fence)"
   ]
  },
  {
   "cell_type": "code",
   "execution_count": 24,
   "id": "b9495ee4",
   "metadata": {},
   "outputs": [],
   "source": [
    "df_train.campaign = np.where(df_train.campaign>higher_fence,higher_fence,df_train.campaign)"
   ]
  },
  {
   "cell_type": "code",
   "execution_count": 25,
   "id": "59387822",
   "metadata": {},
   "outputs": [
    {
     "data": {
      "text/plain": [
       "Text(0.5, 1.0, 'Box plot of outliers free-campaign')"
      ]
     },
     "execution_count": 25,
     "metadata": {},
     "output_type": "execute_result"
    },
    {
     "data": {
      "image/png": "[encoded data removed]",
      "text/plain": [
       "<Figure size 432x288 with 1 Axes>"
      ]
     },
     "metadata": {
      "needs_background": "light"
     },
     "output_type": "display_data"
    }
   ],
   "source": [
    "sns.boxplot(x=df_train.campaign,data=df_train)\n",
    "plt.title('Box plot of outliers free-campaign') \n"
   ]
  },
  {
   "cell_type": "code",
   "execution_count": 26,
   "id": "b8e5f650",
   "metadata": {},
   "outputs": [
    {
     "name": "stdout",
     "output_type": "stream",
     "text": [
      "-1.0 -1.0\n",
      "Iqr: 0.0\n",
      "lower_fence = -1.0 higher_fence= -1.0\n"
     ]
    }
   ],
   "source": [
    "#pdays\n",
    "\n",
    "#outlier treatment-IQR\n",
    "#IQR-for removing outliers\n",
    "dataset = sorted(df_train.pdays)\n",
    "q1,q3 = np.percentile(dataset,[25,75])\n",
    "print(q1,q3)\n",
    "iqr = q3 -q1\n",
    "print('Iqr:',iqr)\n",
    "lower_fence = q1 -(1.5*iqr)\n",
    "higher_fence = q3+(1.5*iqr)\n",
    "print('lower_fence =',lower_fence,'higher_fence=',higher_fence)"
   ]
  },
  {
   "cell_type": "code",
   "execution_count": 27,
   "id": "7e3eb3ed",
   "metadata": {},
   "outputs": [],
   "source": [
    "df_train.pdays = np.where(df_train.pdays>higher_fence,higher_fence,df_train.pdays)"
   ]
  },
  {
   "cell_type": "code",
   "execution_count": 28,
   "id": "0390854f",
   "metadata": {},
   "outputs": [
    {
     "data": {
      "text/plain": [
       "Text(0.5, 1.0, 'Box plot of outliers free-pdays')"
      ]
     },
     "execution_count": 28,
     "metadata": {},
     "output_type": "execute_result"
    },
    {
     "data": {
      "image/png": "[encoded data removed]",
      "text/plain": [
       "<Figure size 432x288 with 1 Axes>"
      ]
     },
     "metadata": {
      "needs_background": "light"
     },
     "output_type": "display_data"
    }
   ],
   "source": [
    "sns.boxplot(x=df_train.pdays,data=df_train)\n",
    "plt.title('Box plot of outliers free-pdays') \n"
   ]
  },
  {
   "cell_type": "markdown",
   "id": "060a3afd",
   "metadata": {},
   "source": [
    "#\"pdays\" doesnt provide any relevant information,while checking corralation,if it hasnt any significance we may remove this variable"
   ]
  },
  {
   "cell_type": "code",
   "execution_count": 29,
   "id": "501cb4f8",
   "metadata": {},
   "outputs": [
    {
     "name": "stdout",
     "output_type": "stream",
     "text": [
      "0.0 0.0\n",
      "Iqr: 0.0\n",
      "lower_fence = 0.0 higher_fence= 0.0\n"
     ]
    }
   ],
   "source": [
    "#previous\n",
    "\n",
    "\n",
    "#outlier treatment-IQR\n",
    "#IQR-for removing outliers\n",
    "dataset = sorted(df_train.previous)\n",
    "q1,q3 = np.percentile(dataset,[25,75])\n",
    "print(q1,q3)\n",
    "iqr = q3 -q1\n",
    "print('Iqr:',iqr)\n",
    "lower_fence = q1 -(1.5*iqr)\n",
    "higher_fence = q3+(1.5*iqr)\n",
    "print('lower_fence =',lower_fence,'higher_fence=',higher_fence)"
   ]
  },
  {
   "cell_type": "code",
   "execution_count": 30,
   "id": "a99b49c7",
   "metadata": {},
   "outputs": [],
   "source": [
    "df_train.previous = np.where(df_train.previous>higher_fence,higher_fence,df_train.previous)"
   ]
  },
  {
   "cell_type": "code",
   "execution_count": 31,
   "id": "c46ff8ef",
   "metadata": {},
   "outputs": [
    {
     "data": {
      "text/plain": [
       "Text(0.5, 1.0, 'Box plot of outliers free-previous')"
      ]
     },
     "execution_count": 31,
     "metadata": {},
     "output_type": "execute_result"
    },
    {
     "data": {
      "image/png": "[encoded data removed]",
      "text/plain": [
       "<Figure size 432x288 with 1 Axes>"
      ]
     },
     "metadata": {
      "needs_background": "light"
     },
     "output_type": "display_data"
    }
   ],
   "source": [
    "sns.boxplot(x=df_train.previous,data=df_train)\n",
    "plt.title('Box plot of outliers free-previous') "
   ]
  },
  {
   "cell_type": "markdown",
   "id": "ce52e3e6",
   "metadata": {},
   "source": [
    "#\"previous\" is not providing any relevant information and is showing same behaviour as\"pdays\"."
   ]
  },
  {
   "cell_type": "code",
   "execution_count": 32,
   "id": "4f9d1a54",
   "metadata": {},
   "outputs": [
    {
     "name": "stdout",
     "output_type": "stream",
     "text": [
      "               age   balance       day  duration  campaign     pdays  previous\n",
      "age       1.000000  0.102939 -0.008155 -0.004268  0.008213 -0.022193  0.003809\n",
      "balance   0.102939  1.000000  0.004267  0.021571 -0.012657  0.000708  0.013100\n",
      "day      -0.008155  0.004267  1.000000 -0.030962  0.161459 -0.089750 -0.050045\n",
      "duration -0.004268  0.021571 -0.030962  1.000000 -0.082323 -0.003559 -0.002274\n",
      "campaign  0.008213 -0.012657  0.161459 -0.082323  1.000000 -0.087911 -0.030655\n",
      "pdays    -0.022193  0.000708 -0.089750 -0.003559 -0.087911  1.000000  0.436730\n",
      "previous  0.003809  0.013100 -0.050045 -0.002274 -0.030655  0.436730  1.000000\n"
     ]
    },
    {
     "data": {
      "text/plain": [
       "<AxesSubplot:>"
      ]
     },
     "execution_count": 32,
     "metadata": {},
     "output_type": "execute_result"
    },
    {
     "data": {
      "image/png": "[encoded data removed]",
      "text/plain": [
       "<Figure size 432x288 with 2 Axes>"
      ]
     },
     "metadata": {
      "needs_background": "light"
     },
     "output_type": "display_data"
    }
   ],
   "source": [
    "print(df_numerical.corr())\n",
    "sns.heatmap(df_numerical.corr())"
   ]
  },
  {
   "cell_type": "markdown",
   "id": "8d30a954",
   "metadata": {},
   "source": [
    "#As shown in the above heatmap previous & pdays show some kind of correlation\n",
    "\n"
   ]
  },
  {
   "cell_type": "markdown",
   "id": "6e9c3dbe",
   "metadata": {},
   "source": [
    "### 2.DATA MANIPULATION"
   ]
  },
  {
   "cell_type": "code",
   "execution_count": 33,
   "id": "075b9305",
   "metadata": {},
   "outputs": [],
   "source": [
    "#changing required catagorical values \n",
    "df_train['job'].replace('admin.','admin',inplace=True)"
   ]
  },
  {
   "cell_type": "code",
   "execution_count": 34,
   "id": "16292707",
   "metadata": {},
   "outputs": [],
   "source": [
    "df_train['job'].replace('blue-collar','blue collar',inplace=True)"
   ]
  },
  {
   "cell_type": "code",
   "execution_count": 35,
   "id": "f3b90ef1",
   "metadata": {},
   "outputs": [
    {
     "data": {
      "text/html": [
       "<div>\n",
       "<style scoped>\n",
       "    .dataframe tbody tr th:only-of-type {\n",
       "        vertical-align: middle;\n",
       "    }\n",
       "\n",
       "    .dataframe tbody tr th {\n",
       "        vertical-align: top;\n",
       "    }\n",
       "\n",
       "    .dataframe thead th {\n",
       "        text-align: right;\n",
       "    }\n",
       "</style>\n",
       "<table border=\"1\" class=\"dataframe\">\n",
       "  <thead>\n",
       "    <tr style=\"text-align: right;\">\n",
       "      <th></th>\n",
       "      <th>age</th>\n",
       "      <th>job</th>\n",
       "      <th>marital</th>\n",
       "      <th>education</th>\n",
       "      <th>default</th>\n",
       "      <th>balance</th>\n",
       "      <th>housing</th>\n",
       "      <th>loan</th>\n",
       "      <th>contact</th>\n",
       "      <th>day</th>\n",
       "      <th>month</th>\n",
       "      <th>duration</th>\n",
       "      <th>campaign</th>\n",
       "      <th>pdays</th>\n",
       "      <th>previous</th>\n",
       "      <th>poutcome</th>\n",
       "      <th>y</th>\n",
       "    </tr>\n",
       "  </thead>\n",
       "  <tbody>\n",
       "    <tr>\n",
       "      <th>0</th>\n",
       "      <td>58.0</td>\n",
       "      <td>retired</td>\n",
       "      <td>married</td>\n",
       "      <td>secondary</td>\n",
       "      <td>no</td>\n",
       "      <td>166.0</td>\n",
       "      <td>no</td>\n",
       "      <td>yes</td>\n",
       "      <td>unknown</td>\n",
       "      <td>3</td>\n",
       "      <td>jul</td>\n",
       "      <td>211.0</td>\n",
       "      <td>1.0</td>\n",
       "      <td>-1.0</td>\n",
       "      <td>0.0</td>\n",
       "      <td>unknown</td>\n",
       "      <td>no</td>\n",
       "    </tr>\n",
       "    <tr>\n",
       "      <th>1</th>\n",
       "      <td>51.0</td>\n",
       "      <td>blue collar</td>\n",
       "      <td>married</td>\n",
       "      <td>primary</td>\n",
       "      <td>no</td>\n",
       "      <td>2995.0</td>\n",
       "      <td>yes</td>\n",
       "      <td>no</td>\n",
       "      <td>unknown</td>\n",
       "      <td>11</td>\n",
       "      <td>jun</td>\n",
       "      <td>93.0</td>\n",
       "      <td>2.0</td>\n",
       "      <td>-1.0</td>\n",
       "      <td>0.0</td>\n",
       "      <td>unknown</td>\n",
       "      <td>no</td>\n",
       "    </tr>\n",
       "    <tr>\n",
       "      <th>2</th>\n",
       "      <td>50.0</td>\n",
       "      <td>management</td>\n",
       "      <td>married</td>\n",
       "      <td>tertiary</td>\n",
       "      <td>no</td>\n",
       "      <td>569.0</td>\n",
       "      <td>no</td>\n",
       "      <td>yes</td>\n",
       "      <td>cellular</td>\n",
       "      <td>18</td>\n",
       "      <td>aug</td>\n",
       "      <td>452.0</td>\n",
       "      <td>4.0</td>\n",
       "      <td>-1.0</td>\n",
       "      <td>0.0</td>\n",
       "      <td>unknown</td>\n",
       "      <td>no</td>\n",
       "    </tr>\n",
       "    <tr>\n",
       "      <th>3</th>\n",
       "      <td>27.0</td>\n",
       "      <td>admin</td>\n",
       "      <td>married</td>\n",
       "      <td>secondary</td>\n",
       "      <td>no</td>\n",
       "      <td>73.0</td>\n",
       "      <td>yes</td>\n",
       "      <td>no</td>\n",
       "      <td>cellular</td>\n",
       "      <td>5</td>\n",
       "      <td>feb</td>\n",
       "      <td>140.0</td>\n",
       "      <td>1.0</td>\n",
       "      <td>-1.0</td>\n",
       "      <td>0.0</td>\n",
       "      <td>unknown</td>\n",
       "      <td>no</td>\n",
       "    </tr>\n",
       "    <tr>\n",
       "      <th>4</th>\n",
       "      <td>38.0</td>\n",
       "      <td>self-employed</td>\n",
       "      <td>divorced</td>\n",
       "      <td>tertiary</td>\n",
       "      <td>no</td>\n",
       "      <td>3464.0</td>\n",
       "      <td>no</td>\n",
       "      <td>no</td>\n",
       "      <td>cellular</td>\n",
       "      <td>12</td>\n",
       "      <td>jan</td>\n",
       "      <td>296.0</td>\n",
       "      <td>1.0</td>\n",
       "      <td>-1.0</td>\n",
       "      <td>0.0</td>\n",
       "      <td>unknown</td>\n",
       "      <td>no</td>\n",
       "    </tr>\n",
       "  </tbody>\n",
       "</table>\n",
       "</div>"
      ],
      "text/plain": [
       "    age            job   marital  education default  balance housing loan  \\\n",
       "0  58.0        retired   married  secondary      no    166.0      no  yes   \n",
       "1  51.0    blue collar   married    primary      no   2995.0     yes   no   \n",
       "2  50.0     management   married   tertiary      no    569.0      no  yes   \n",
       "3  27.0          admin   married  secondary      no     73.0     yes   no   \n",
       "4  38.0  self-employed  divorced   tertiary      no   3464.0      no   no   \n",
       "\n",
       "    contact  day month  duration  campaign  pdays  previous poutcome   y  \n",
       "0   unknown    3   jul     211.0       1.0   -1.0       0.0  unknown  no  \n",
       "1   unknown   11   jun      93.0       2.0   -1.0       0.0  unknown  no  \n",
       "2  cellular   18   aug     452.0       4.0   -1.0       0.0  unknown  no  \n",
       "3  cellular    5   feb     140.0       1.0   -1.0       0.0  unknown  no  \n",
       "4  cellular   12   jan     296.0       1.0   -1.0       0.0  unknown  no  "
      ]
     },
     "execution_count": 35,
     "metadata": {},
     "output_type": "execute_result"
    }
   ],
   "source": [
    "df_train.head()"
   ]
  },
  {
   "cell_type": "markdown",
   "id": "8066c73e",
   "metadata": {},
   "source": [
    "#### Checking categorical variables."
   ]
  },
  {
   "cell_type": "code",
   "execution_count": 36,
   "id": "25976fda",
   "metadata": {},
   "outputs": [],
   "source": [
    "df_categorical = df_train[['job', 'marital', 'education', 'default','housing','loan', 'contact','month','poutcome','y']]"
   ]
  },
  {
   "cell_type": "code",
   "execution_count": 37,
   "id": "74f5078a",
   "metadata": {},
   "outputs": [
    {
     "name": "stderr",
     "output_type": "stream",
     "text": [
      "C:\\Users\\Admin\\anaconda3\\lib\\site-packages\\seaborn\\_decorators.py:36: FutureWarning: Pass the following variables as keyword args: x, y. From version 0.12, the only valid positional argument will be `data`, and passing other arguments without an explicit keyword will result in an error or misinterpretation.\n",
      "  warnings.warn(\n"
     ]
    },
    {
     "data": {
      "image/png": "[encoded data removed]",
      "text/plain": [
       "<Figure size 432x288 with 1 Axes>"
      ]
     },
     "metadata": {
      "needs_background": "light"
     },
     "output_type": "display_data"
    },
    {
     "name": "stderr",
     "output_type": "stream",
     "text": [
      "C:\\Users\\Admin\\anaconda3\\lib\\site-packages\\seaborn\\_decorators.py:36: FutureWarning: Pass the following variables as keyword args: x, y. From version 0.12, the only valid positional argument will be `data`, and passing other arguments without an explicit keyword will result in an error or misinterpretation.\n",
      "  warnings.warn(\n"
     ]
    },
    {
     "data": {
      "image/png": "[encoded data removed]",
      "text/plain": [
       "<Figure size 432x288 with 1 Axes>"
      ]
     },
     "metadata": {
      "needs_background": "light"
     },
     "output_type": "display_data"
    },
    {
     "name": "stderr",
     "output_type": "stream",
     "text": [
      "C:\\Users\\Admin\\anaconda3\\lib\\site-packages\\seaborn\\_decorators.py:36: FutureWarning: Pass the following variables as keyword args: x, y. From version 0.12, the only valid positional argument will be `data`, and passing other arguments without an explicit keyword will result in an error or misinterpretation.\n",
      "  warnings.warn(\n"
     ]
    },
    {
     "data": {
      "image/png": "[encoded data removed]",
      "text/plain": [
       "<Figure size 432x288 with 1 Axes>"
      ]
     },
     "metadata": {
      "needs_background": "light"
     },
     "output_type": "display_data"
    },
    {
     "name": "stderr",
     "output_type": "stream",
     "text": [
      "C:\\Users\\Admin\\anaconda3\\lib\\site-packages\\seaborn\\_decorators.py:36: FutureWarning: Pass the following variables as keyword args: x, y. From version 0.12, the only valid positional argument will be `data`, and passing other arguments without an explicit keyword will result in an error or misinterpretation.\n",
      "  warnings.warn(\n"
     ]
    },
    {
     "data": {
      "image/png": "[encoded data removed]",
      "text/plain": [
       "<Figure size 432x288 with 1 Axes>"
      ]
     },
     "metadata": {
      "needs_background": "light"
     },
     "output_type": "display_data"
    },
    {
     "name": "stderr",
     "output_type": "stream",
     "text": [
      "C:\\Users\\Admin\\anaconda3\\lib\\site-packages\\seaborn\\_decorators.py:36: FutureWarning: Pass the following variables as keyword args: x, y. From version 0.12, the only valid positional argument will be `data`, and passing other arguments without an explicit keyword will result in an error or misinterpretation.\n",
      "  warnings.warn(\n"
     ]
    },
    {
     "data": {
      "image/png": "[encoded data removed]",
      "text/plain": [
       "<Figure size 432x288 with 1 Axes>"
      ]
     },
     "metadata": {
      "needs_background": "light"
     },
     "output_type": "display_data"
    },
    {
     "name": "stderr",
     "output_type": "stream",
     "text": [
      "C:\\Users\\Admin\\anaconda3\\lib\\site-packages\\seaborn\\_decorators.py:36: FutureWarning: Pass the following variables as keyword args: x, y. From version 0.12, the only valid positional argument will be `data`, and passing other arguments without an explicit keyword will result in an error or misinterpretation.\n",
      "  warnings.warn(\n"
     ]
    },
    {
     "data": {
      "image/png": "[encoded data removed]",
      "text/plain": [
       "<Figure size 432x288 with 1 Axes>"
      ]
     },
     "metadata": {
      "needs_background": "light"
     },
     "output_type": "display_data"
    },
    {
     "name": "stderr",
     "output_type": "stream",
     "text": [
      "C:\\Users\\Admin\\anaconda3\\lib\\site-packages\\seaborn\\_decorators.py:36: FutureWarning: Pass the following variables as keyword args: x, y. From version 0.12, the only valid positional argument will be `data`, and passing other arguments without an explicit keyword will result in an error or misinterpretation.\n",
      "  warnings.warn(\n"
     ]
    },
    {
     "data": {
      "image/png": "[encoded data removed]",
      "text/plain": [
       "<Figure size 432x288 with 1 Axes>"
      ]
     },
     "metadata": {
      "needs_background": "light"
     },
     "output_type": "display_data"
    },
    {
     "name": "stderr",
     "output_type": "stream",
     "text": [
      "C:\\Users\\Admin\\anaconda3\\lib\\site-packages\\seaborn\\_decorators.py:36: FutureWarning: Pass the following variables as keyword args: x, y. From version 0.12, the only valid positional argument will be `data`, and passing other arguments without an explicit keyword will result in an error or misinterpretation.\n",
      "  warnings.warn(\n"
     ]
    },
    {
     "data": {
      "image/png": "[encoded data removed]",
      "text/plain": [
       "<Figure size 432x288 with 1 Axes>"
      ]
     },
     "metadata": {
      "needs_background": "light"
     },
     "output_type": "display_data"
    },
    {
     "name": "stderr",
     "output_type": "stream",
     "text": [
      "C:\\Users\\Admin\\anaconda3\\lib\\site-packages\\seaborn\\_decorators.py:36: FutureWarning: Pass the following variables as keyword args: x, y. From version 0.12, the only valid positional argument will be `data`, and passing other arguments without an explicit keyword will result in an error or misinterpretation.\n",
      "  warnings.warn(\n"
     ]
    },
    {
     "data": {
      "image/png": "[encoded data removed]",
      "text/plain": [
       "<Figure size 432x288 with 1 Axes>"
      ]
     },
     "metadata": {
      "needs_background": "light"
     },
     "output_type": "display_data"
    },
    {
     "name": "stderr",
     "output_type": "stream",
     "text": [
      "C:\\Users\\Admin\\anaconda3\\lib\\site-packages\\seaborn\\_decorators.py:36: FutureWarning: Pass the following variables as keyword args: x, y. From version 0.12, the only valid positional argument will be `data`, and passing other arguments without an explicit keyword will result in an error or misinterpretation.\n",
      "  warnings.warn(\n"
     ]
    },
    {
     "data": {
      "image/png": "[encoded data removed]",
      "text/plain": [
       "<Figure size 432x288 with 1 Axes>"
      ]
     },
     "metadata": {
      "needs_background": "light"
     },
     "output_type": "display_data"
    }
   ],
   "source": [
    "for i in df_categorical.columns:\n",
    "    sns.barplot(df_categorical[i].value_counts().index,df_categorical[i].value_counts()).set_title(i)\n",
    "    plt.show()"
   ]
  },
  {
   "cell_type": "markdown",
   "id": "5cf3e231",
   "metadata": {},
   "source": [
    "## Bivariate Analysis"
   ]
  },
  {
   "cell_type": "code",
   "execution_count": 38,
   "id": "76a40a9c",
   "metadata": {},
   "outputs": [
    {
     "data": {
      "text/plain": [
       "<AxesSubplot:xlabel='count', ylabel='education'>"
      ]
     },
     "execution_count": 38,
     "metadata": {},
     "output_type": "execute_result"
    },
    {
     "data": {
      "image/png": "[encoded data removed]",
      "text/plain": [
       "<Figure size 432x288 with 1 Axes>"
      ]
     },
     "metadata": {
      "needs_background": "light"
     },
     "output_type": "display_data"
    }
   ],
   "source": [
    "sns.countplot(y ='education', hue = \"housing\", data = df_train)"
   ]
  },
  {
   "cell_type": "markdown",
   "id": "b068d5a4",
   "metadata": {},
   "source": [
    "#People with secondary education and tertiary education top the list of housing loan."
   ]
  },
  {
   "cell_type": "code",
   "execution_count": 39,
   "id": "ffaa2d61",
   "metadata": {},
   "outputs": [
    {
     "data": {
      "text/plain": [
       "<AxesSubplot:xlabel='count', ylabel='marital'>"
      ]
     },
     "execution_count": 39,
     "metadata": {},
     "output_type": "execute_result"
    },
    {
     "data": {
      "image/png": "[encoded data removed]",
      "text/plain": [
       "<Figure size 432x288 with 1 Axes>"
      ]
     },
     "metadata": {
      "needs_background": "light"
     },
     "output_type": "display_data"
    }
   ],
   "source": [
    "sns.countplot(y ='marital', hue = \"loan\", data = df_train)"
   ]
  },
  {
   "cell_type": "markdown",
   "id": "454f9d03",
   "metadata": {},
   "source": [
    "#Majority of the people dont have any personal loan.high number of personal loans holders belong to married catogory."
   ]
  },
  {
   "cell_type": "code",
   "execution_count": 40,
   "id": "d039a3fd",
   "metadata": {},
   "outputs": [
    {
     "data": {
      "text/plain": [
       "<AxesSubplot:xlabel='y', ylabel='balance'>"
      ]
     },
     "execution_count": 40,
     "metadata": {},
     "output_type": "execute_result"
    },
    {
     "data": {
      "image/png": "[encoded data removed]",
      "text/plain": [
       "<Figure size 432x288 with 1 Axes>"
      ]
     },
     "metadata": {
      "needs_background": "light"
     },
     "output_type": "display_data"
    }
   ],
   "source": [
    "sns.stripplot(y='balance',x='y',data =df_train)"
   ]
  },
  {
   "cell_type": "markdown",
   "id": "6c275e27",
   "metadata": {},
   "source": [
    "#negative balance account holders are in more number and are non subscribers.We also see few subscribers with negative balance."
   ]
  },
  {
   "cell_type": "code",
   "execution_count": 41,
   "id": "9a2eb1d9",
   "metadata": {},
   "outputs": [
    {
     "data": {
      "text/plain": [
       "<AxesSubplot:xlabel='marital', ylabel='age'>"
      ]
     },
     "execution_count": 41,
     "metadata": {},
     "output_type": "execute_result"
    },
    {
     "data": {
      "image/png": "[encoded data removed]",
      "text/plain": [
       "<Figure size 432x288 with 1 Axes>"
      ]
     },
     "metadata": {
      "needs_background": "light"
     },
     "output_type": "display_data"
    }
   ],
   "source": [
    "sns.stripplot(y='age',x='marital',data =df_train)"
   ]
  },
  {
   "cell_type": "markdown",
   "id": "d9338823",
   "metadata": {},
   "source": [
    "#People in the age group of 25 to 70 are mostly married. Divocees and single people are less in age range of 60 & 70."
   ]
  },
  {
   "cell_type": "markdown",
   "id": "dfad8516",
   "metadata": {},
   "source": [
    "## Multivariate Analysis"
   ]
  },
  {
   "cell_type": "markdown",
   "id": "2c1b8f03",
   "metadata": {},
   "source": [
    "#Ploting pivot tables to  see Target Variable counts in heap of multiple variables ."
   ]
  },
  {
   "cell_type": "code",
   "execution_count": 42,
   "id": "41ab1e9f",
   "metadata": {},
   "outputs": [
    {
     "data": {
      "text/html": [
       "<div>\n",
       "<style scoped>\n",
       "    .dataframe tbody tr th:only-of-type {\n",
       "        vertical-align: middle;\n",
       "    }\n",
       "\n",
       "    .dataframe tbody tr th {\n",
       "        vertical-align: top;\n",
       "    }\n",
       "\n",
       "    .dataframe thead th {\n",
       "        text-align: right;\n",
       "    }\n",
       "</style>\n",
       "<table border=\"1\" class=\"dataframe\">\n",
       "  <thead>\n",
       "    <tr style=\"text-align: right;\">\n",
       "      <th></th>\n",
       "      <th>age</th>\n",
       "      <th>balance</th>\n",
       "      <th>campaign</th>\n",
       "      <th>day</th>\n",
       "      <th>duration</th>\n",
       "      <th>previous</th>\n",
       "    </tr>\n",
       "    <tr>\n",
       "      <th>y</th>\n",
       "      <th></th>\n",
       "      <th></th>\n",
       "      <th></th>\n",
       "      <th></th>\n",
       "      <th></th>\n",
       "      <th></th>\n",
       "    </tr>\n",
       "  </thead>\n",
       "  <tbody>\n",
       "    <tr>\n",
       "      <th>no</th>\n",
       "      <td>40.817892</td>\n",
       "      <td>896.707926</td>\n",
       "      <td>2.436659</td>\n",
       "      <td>15.887679</td>\n",
       "      <td>209.276293</td>\n",
       "      <td>0.0</td>\n",
       "    </tr>\n",
       "    <tr>\n",
       "      <th>yes</th>\n",
       "      <td>41.503151</td>\n",
       "      <td>1234.701034</td>\n",
       "      <td>2.031258</td>\n",
       "      <td>15.170406</td>\n",
       "      <td>424.344467</td>\n",
       "      <td>0.0</td>\n",
       "    </tr>\n",
       "  </tbody>\n",
       "</table>\n",
       "</div>"
      ],
      "text/plain": [
       "           age      balance  campaign        day    duration  previous\n",
       "y                                                                     \n",
       "no   40.817892   896.707926  2.436659  15.887679  209.276293       0.0\n",
       "yes  41.503151  1234.701034  2.031258  15.170406  424.344467       0.0"
      ]
     },
     "execution_count": 42,
     "metadata": {},
     "output_type": "execute_result"
    }
   ],
   "source": [
    "pd.pivot_table (df_train, index = \"y\", values = ['age','balance','day','duration','campaign','previous'])"
   ]
  },
  {
   "cell_type": "code",
   "execution_count": 43,
   "id": "5e9ed6e0",
   "metadata": {},
   "outputs": [
    {
     "data": {
      "text/html": [
       "<div>\n",
       "<style scoped>\n",
       "    .dataframe tbody tr th:only-of-type {\n",
       "        vertical-align: middle;\n",
       "    }\n",
       "\n",
       "    .dataframe tbody tr th {\n",
       "        vertical-align: top;\n",
       "    }\n",
       "\n",
       "    .dataframe thead th {\n",
       "        text-align: right;\n",
       "    }\n",
       "</style>\n",
       "<table border=\"1\" class=\"dataframe\">\n",
       "  <thead>\n",
       "    <tr style=\"text-align: right;\">\n",
       "      <th>marital</th>\n",
       "      <th>divorced</th>\n",
       "      <th>married</th>\n",
       "      <th>single</th>\n",
       "    </tr>\n",
       "    <tr>\n",
       "      <th>y</th>\n",
       "      <th></th>\n",
       "      <th></th>\n",
       "      <th></th>\n",
       "    </tr>\n",
       "  </thead>\n",
       "  <tbody>\n",
       "    <tr>\n",
       "      <th>no</th>\n",
       "      <td>3440</td>\n",
       "      <td>18320</td>\n",
       "      <td>8181</td>\n",
       "    </tr>\n",
       "    <tr>\n",
       "      <th>yes</th>\n",
       "      <td>468</td>\n",
       "      <td>2079</td>\n",
       "      <td>1420</td>\n",
       "    </tr>\n",
       "  </tbody>\n",
       "</table>\n",
       "</div>"
      ],
      "text/plain": [
       "marital  divorced  married  single\n",
       "y                                 \n",
       "no           3440    18320    8181\n",
       "yes           468     2079    1420"
      ]
     },
     "execution_count": 43,
     "metadata": {},
     "output_type": "execute_result"
    }
   ],
   "source": [
    "pd.pivot_table(df_train, index = 'y', columns = 'marital', values = 'balance', aggfunc = 'count')"
   ]
  },
  {
   "cell_type": "code",
   "execution_count": 44,
   "id": "88b3e50a",
   "metadata": {},
   "outputs": [
    {
     "data": {
      "text/html": [
       "<div>\n",
       "<style scoped>\n",
       "    .dataframe tbody tr th:only-of-type {\n",
       "        vertical-align: middle;\n",
       "    }\n",
       "\n",
       "    .dataframe tbody tr th {\n",
       "        vertical-align: top;\n",
       "    }\n",
       "\n",
       "    .dataframe thead th {\n",
       "        text-align: right;\n",
       "    }\n",
       "</style>\n",
       "<table border=\"1\" class=\"dataframe\">\n",
       "  <thead>\n",
       "    <tr style=\"text-align: right;\">\n",
       "      <th>education</th>\n",
       "      <th>primary</th>\n",
       "      <th>secondary</th>\n",
       "      <th>tertiary</th>\n",
       "      <th>unknown</th>\n",
       "    </tr>\n",
       "    <tr>\n",
       "      <th>y</th>\n",
       "      <th></th>\n",
       "      <th></th>\n",
       "      <th></th>\n",
       "      <th></th>\n",
       "    </tr>\n",
       "  </thead>\n",
       "  <tbody>\n",
       "    <tr>\n",
       "      <th>no</th>\n",
       "      <td>4658</td>\n",
       "      <td>15525</td>\n",
       "      <td>8560</td>\n",
       "      <td>1198</td>\n",
       "    </tr>\n",
       "    <tr>\n",
       "      <th>yes</th>\n",
       "      <td>440</td>\n",
       "      <td>1821</td>\n",
       "      <td>1519</td>\n",
       "      <td>187</td>\n",
       "    </tr>\n",
       "  </tbody>\n",
       "</table>\n",
       "</div>"
      ],
      "text/plain": [
       "education  primary  secondary  tertiary  unknown\n",
       "y                                               \n",
       "no            4658      15525      8560     1198\n",
       "yes            440       1821      1519      187"
      ]
     },
     "execution_count": 44,
     "metadata": {},
     "output_type": "execute_result"
    }
   ],
   "source": [
    "pd.pivot_table(df_train, index = 'y', columns = 'education', values = 'balance' ,aggfunc ='count')"
   ]
  },
  {
   "cell_type": "code",
   "execution_count": 45,
   "id": "a0a20fce",
   "metadata": {},
   "outputs": [
    {
     "data": {
      "text/html": [
       "<div>\n",
       "<style scoped>\n",
       "    .dataframe tbody tr th:only-of-type {\n",
       "        vertical-align: middle;\n",
       "    }\n",
       "\n",
       "    .dataframe tbody tr th {\n",
       "        vertical-align: top;\n",
       "    }\n",
       "\n",
       "    .dataframe thead th {\n",
       "        text-align: right;\n",
       "    }\n",
       "</style>\n",
       "<table border=\"1\" class=\"dataframe\">\n",
       "  <thead>\n",
       "    <tr style=\"text-align: right;\">\n",
       "      <th>housing</th>\n",
       "      <th>no</th>\n",
       "      <th>yes</th>\n",
       "    </tr>\n",
       "    <tr>\n",
       "      <th>y</th>\n",
       "      <th></th>\n",
       "      <th></th>\n",
       "    </tr>\n",
       "  </thead>\n",
       "  <tbody>\n",
       "    <tr>\n",
       "      <th>no</th>\n",
       "      <td>12507</td>\n",
       "      <td>17434</td>\n",
       "    </tr>\n",
       "    <tr>\n",
       "      <th>yes</th>\n",
       "      <td>2485</td>\n",
       "      <td>1482</td>\n",
       "    </tr>\n",
       "  </tbody>\n",
       "</table>\n",
       "</div>"
      ],
      "text/plain": [
       "housing     no    yes\n",
       "y                    \n",
       "no       12507  17434\n",
       "yes       2485   1482"
      ]
     },
     "execution_count": 45,
     "metadata": {},
     "output_type": "execute_result"
    }
   ],
   "source": [
    "pd.pivot_table(df_train, index = 'y', columns = 'housing', values = 'duration' ,aggfunc ='count')"
   ]
  },
  {
   "cell_type": "markdown",
   "id": "247d2769",
   "metadata": {},
   "source": [
    "### 3.Data cleaning"
   ]
  },
  {
   "cell_type": "code",
   "execution_count": 46,
   "id": "65f744b1",
   "metadata": {},
   "outputs": [],
   "source": [
    "#removing \"pdays\" column as it doesnt give any relevant insights or information\n",
    "#df_train = df_train.drop(['pdays'], axis = 1)"
   ]
  },
  {
   "cell_type": "code",
   "execution_count": 47,
   "id": "4a7950b6",
   "metadata": {},
   "outputs": [
    {
     "data": {
      "text/html": [
       "<div>\n",
       "<style scoped>\n",
       "    .dataframe tbody tr th:only-of-type {\n",
       "        vertical-align: middle;\n",
       "    }\n",
       "\n",
       "    .dataframe tbody tr th {\n",
       "        vertical-align: top;\n",
       "    }\n",
       "\n",
       "    .dataframe thead th {\n",
       "        text-align: right;\n",
       "    }\n",
       "</style>\n",
       "<table border=\"1\" class=\"dataframe\">\n",
       "  <thead>\n",
       "    <tr style=\"text-align: right;\">\n",
       "      <th></th>\n",
       "      <th>job</th>\n",
       "      <th>marital</th>\n",
       "      <th>education</th>\n",
       "      <th>default</th>\n",
       "      <th>housing</th>\n",
       "      <th>loan</th>\n",
       "      <th>contact</th>\n",
       "      <th>month</th>\n",
       "      <th>poutcome</th>\n",
       "      <th>y</th>\n",
       "    </tr>\n",
       "  </thead>\n",
       "  <tbody>\n",
       "    <tr>\n",
       "      <th>0</th>\n",
       "      <td>retired</td>\n",
       "      <td>married</td>\n",
       "      <td>secondary</td>\n",
       "      <td>no</td>\n",
       "      <td>no</td>\n",
       "      <td>yes</td>\n",
       "      <td>unknown</td>\n",
       "      <td>jul</td>\n",
       "      <td>unknown</td>\n",
       "      <td>no</td>\n",
       "    </tr>\n",
       "    <tr>\n",
       "      <th>1</th>\n",
       "      <td>blue collar</td>\n",
       "      <td>married</td>\n",
       "      <td>primary</td>\n",
       "      <td>no</td>\n",
       "      <td>yes</td>\n",
       "      <td>no</td>\n",
       "      <td>unknown</td>\n",
       "      <td>jun</td>\n",
       "      <td>unknown</td>\n",
       "      <td>no</td>\n",
       "    </tr>\n",
       "    <tr>\n",
       "      <th>2</th>\n",
       "      <td>management</td>\n",
       "      <td>married</td>\n",
       "      <td>tertiary</td>\n",
       "      <td>no</td>\n",
       "      <td>no</td>\n",
       "      <td>yes</td>\n",
       "      <td>cellular</td>\n",
       "      <td>aug</td>\n",
       "      <td>unknown</td>\n",
       "      <td>no</td>\n",
       "    </tr>\n",
       "    <tr>\n",
       "      <th>3</th>\n",
       "      <td>admin</td>\n",
       "      <td>married</td>\n",
       "      <td>secondary</td>\n",
       "      <td>no</td>\n",
       "      <td>yes</td>\n",
       "      <td>no</td>\n",
       "      <td>cellular</td>\n",
       "      <td>feb</td>\n",
       "      <td>unknown</td>\n",
       "      <td>no</td>\n",
       "    </tr>\n",
       "    <tr>\n",
       "      <th>4</th>\n",
       "      <td>self-employed</td>\n",
       "      <td>divorced</td>\n",
       "      <td>tertiary</td>\n",
       "      <td>no</td>\n",
       "      <td>no</td>\n",
       "      <td>no</td>\n",
       "      <td>cellular</td>\n",
       "      <td>jan</td>\n",
       "      <td>unknown</td>\n",
       "      <td>no</td>\n",
       "    </tr>\n",
       "    <tr>\n",
       "      <th>...</th>\n",
       "      <td>...</td>\n",
       "      <td>...</td>\n",
       "      <td>...</td>\n",
       "      <td>...</td>\n",
       "      <td>...</td>\n",
       "      <td>...</td>\n",
       "      <td>...</td>\n",
       "      <td>...</td>\n",
       "      <td>...</td>\n",
       "      <td>...</td>\n",
       "    </tr>\n",
       "    <tr>\n",
       "      <th>33903</th>\n",
       "      <td>admin</td>\n",
       "      <td>single</td>\n",
       "      <td>secondary</td>\n",
       "      <td>no</td>\n",
       "      <td>no</td>\n",
       "      <td>yes</td>\n",
       "      <td>cellular</td>\n",
       "      <td>apr</td>\n",
       "      <td>unknown</td>\n",
       "      <td>yes</td>\n",
       "    </tr>\n",
       "    <tr>\n",
       "      <th>33904</th>\n",
       "      <td>management</td>\n",
       "      <td>married</td>\n",
       "      <td>tertiary</td>\n",
       "      <td>no</td>\n",
       "      <td>yes</td>\n",
       "      <td>no</td>\n",
       "      <td>cellular</td>\n",
       "      <td>aug</td>\n",
       "      <td>unknown</td>\n",
       "      <td>no</td>\n",
       "    </tr>\n",
       "    <tr>\n",
       "      <th>33905</th>\n",
       "      <td>technician</td>\n",
       "      <td>single</td>\n",
       "      <td>secondary</td>\n",
       "      <td>no</td>\n",
       "      <td>yes</td>\n",
       "      <td>no</td>\n",
       "      <td>unknown</td>\n",
       "      <td>may</td>\n",
       "      <td>unknown</td>\n",
       "      <td>no</td>\n",
       "    </tr>\n",
       "    <tr>\n",
       "      <th>33906</th>\n",
       "      <td>technician</td>\n",
       "      <td>married</td>\n",
       "      <td>tertiary</td>\n",
       "      <td>no</td>\n",
       "      <td>no</td>\n",
       "      <td>no</td>\n",
       "      <td>cellular</td>\n",
       "      <td>aug</td>\n",
       "      <td>unknown</td>\n",
       "      <td>no</td>\n",
       "    </tr>\n",
       "    <tr>\n",
       "      <th>33907</th>\n",
       "      <td>retired</td>\n",
       "      <td>married</td>\n",
       "      <td>primary</td>\n",
       "      <td>no</td>\n",
       "      <td>yes</td>\n",
       "      <td>no</td>\n",
       "      <td>unknown</td>\n",
       "      <td>may</td>\n",
       "      <td>unknown</td>\n",
       "      <td>no</td>\n",
       "    </tr>\n",
       "  </tbody>\n",
       "</table>\n",
       "<p>33908 rows × 10 columns</p>\n",
       "</div>"
      ],
      "text/plain": [
       "                 job   marital  education default housing loan   contact  \\\n",
       "0            retired   married  secondary      no      no  yes   unknown   \n",
       "1        blue collar   married    primary      no     yes   no   unknown   \n",
       "2         management   married   tertiary      no      no  yes  cellular   \n",
       "3              admin   married  secondary      no     yes   no  cellular   \n",
       "4      self-employed  divorced   tertiary      no      no   no  cellular   \n",
       "...              ...       ...        ...     ...     ...  ...       ...   \n",
       "33903          admin    single  secondary      no      no  yes  cellular   \n",
       "33904     management   married   tertiary      no     yes   no  cellular   \n",
       "33905     technician    single  secondary      no     yes   no   unknown   \n",
       "33906     technician   married   tertiary      no      no   no  cellular   \n",
       "33907        retired   married    primary      no     yes   no   unknown   \n",
       "\n",
       "      month poutcome    y  \n",
       "0       jul  unknown   no  \n",
       "1       jun  unknown   no  \n",
       "2       aug  unknown   no  \n",
       "3       feb  unknown   no  \n",
       "4       jan  unknown   no  \n",
       "...     ...      ...  ...  \n",
       "33903   apr  unknown  yes  \n",
       "33904   aug  unknown   no  \n",
       "33905   may  unknown   no  \n",
       "33906   aug  unknown   no  \n",
       "33907   may  unknown   no  \n",
       "\n",
       "[33908 rows x 10 columns]"
      ]
     },
     "execution_count": 47,
     "metadata": {},
     "output_type": "execute_result"
    }
   ],
   "source": [
    "df_categorical"
   ]
  },
  {
   "cell_type": "markdown",
   "id": "5e5067e9",
   "metadata": {},
   "source": [
    "### 4.Feature engineering"
   ]
  },
  {
   "cell_type": "code",
   "execution_count": 88,
   "id": "b505a4ea",
   "metadata": {},
   "outputs": [
    {
     "name": "stderr",
     "output_type": "stream",
     "text": [
      "C:\\Users\\Admin\\AppData\\Local\\Temp/ipykernel_12060/2779611087.py:5: SettingWithCopyWarning: \n",
      "A value is trying to be set on a copy of a slice from a DataFrame.\n",
      "Try using .loc[row_indexer,col_indexer] = value instead\n",
      "\n",
      "See the caveats in the documentation: https://pandas.pydata.org/pandas-docs/stable/user_guide/indexing.html#returning-a-view-versus-a-copy\n",
      "  df_categorical['y']= label_encoder.fit_transform(df_categorical['y'])\n"
     ]
    },
    {
     "data": {
      "text/plain": [
       "array([0, 1])"
      ]
     },
     "execution_count": 88,
     "metadata": {},
     "output_type": "execute_result"
    }
   ],
   "source": [
    "#label encoding in target variable column\n",
    "# Encode labels in column 'y'.\n",
    "from sklearn import preprocessing\n",
    "label_encoder = preprocessing.LabelEncoder()\n",
    "df_categorical['y']= label_encoder.fit_transform(df_categorical['y'])\n",
    "  \n",
    "df_categorical['y'].unique()"
   ]
  },
  {
   "cell_type": "code",
   "execution_count": 89,
   "id": "f68aa088",
   "metadata": {},
   "outputs": [],
   "source": [
    "new_data = df_categorical.join(df_numerical)"
   ]
  },
  {
   "cell_type": "code",
   "execution_count": 50,
   "id": "9560465e",
   "metadata": {},
   "outputs": [
    {
     "data": {
      "text/html": [
       "<div>\n",
       "<style scoped>\n",
       "    .dataframe tbody tr th:only-of-type {\n",
       "        vertical-align: middle;\n",
       "    }\n",
       "\n",
       "    .dataframe tbody tr th {\n",
       "        vertical-align: top;\n",
       "    }\n",
       "\n",
       "    .dataframe thead th {\n",
       "        text-align: right;\n",
       "    }\n",
       "</style>\n",
       "<table border=\"1\" class=\"dataframe\">\n",
       "  <thead>\n",
       "    <tr style=\"text-align: right;\">\n",
       "      <th></th>\n",
       "      <th>job</th>\n",
       "      <th>marital</th>\n",
       "      <th>education</th>\n",
       "      <th>default</th>\n",
       "      <th>housing</th>\n",
       "      <th>loan</th>\n",
       "      <th>contact</th>\n",
       "      <th>month</th>\n",
       "      <th>poutcome</th>\n",
       "      <th>y</th>\n",
       "    </tr>\n",
       "  </thead>\n",
       "  <tbody>\n",
       "    <tr>\n",
       "      <th>0</th>\n",
       "      <td>retired</td>\n",
       "      <td>married</td>\n",
       "      <td>secondary</td>\n",
       "      <td>no</td>\n",
       "      <td>no</td>\n",
       "      <td>yes</td>\n",
       "      <td>unknown</td>\n",
       "      <td>jul</td>\n",
       "      <td>unknown</td>\n",
       "      <td>no</td>\n",
       "    </tr>\n",
       "    <tr>\n",
       "      <th>1</th>\n",
       "      <td>blue collar</td>\n",
       "      <td>married</td>\n",
       "      <td>primary</td>\n",
       "      <td>no</td>\n",
       "      <td>yes</td>\n",
       "      <td>no</td>\n",
       "      <td>unknown</td>\n",
       "      <td>jun</td>\n",
       "      <td>unknown</td>\n",
       "      <td>no</td>\n",
       "    </tr>\n",
       "    <tr>\n",
       "      <th>2</th>\n",
       "      <td>management</td>\n",
       "      <td>married</td>\n",
       "      <td>tertiary</td>\n",
       "      <td>no</td>\n",
       "      <td>no</td>\n",
       "      <td>yes</td>\n",
       "      <td>cellular</td>\n",
       "      <td>aug</td>\n",
       "      <td>unknown</td>\n",
       "      <td>no</td>\n",
       "    </tr>\n",
       "    <tr>\n",
       "      <th>3</th>\n",
       "      <td>admin</td>\n",
       "      <td>married</td>\n",
       "      <td>secondary</td>\n",
       "      <td>no</td>\n",
       "      <td>yes</td>\n",
       "      <td>no</td>\n",
       "      <td>cellular</td>\n",
       "      <td>feb</td>\n",
       "      <td>unknown</td>\n",
       "      <td>no</td>\n",
       "    </tr>\n",
       "    <tr>\n",
       "      <th>4</th>\n",
       "      <td>self-employed</td>\n",
       "      <td>divorced</td>\n",
       "      <td>tertiary</td>\n",
       "      <td>no</td>\n",
       "      <td>no</td>\n",
       "      <td>no</td>\n",
       "      <td>cellular</td>\n",
       "      <td>jan</td>\n",
       "      <td>unknown</td>\n",
       "      <td>no</td>\n",
       "    </tr>\n",
       "    <tr>\n",
       "      <th>...</th>\n",
       "      <td>...</td>\n",
       "      <td>...</td>\n",
       "      <td>...</td>\n",
       "      <td>...</td>\n",
       "      <td>...</td>\n",
       "      <td>...</td>\n",
       "      <td>...</td>\n",
       "      <td>...</td>\n",
       "      <td>...</td>\n",
       "      <td>...</td>\n",
       "    </tr>\n",
       "    <tr>\n",
       "      <th>33903</th>\n",
       "      <td>admin</td>\n",
       "      <td>single</td>\n",
       "      <td>secondary</td>\n",
       "      <td>no</td>\n",
       "      <td>no</td>\n",
       "      <td>yes</td>\n",
       "      <td>cellular</td>\n",
       "      <td>apr</td>\n",
       "      <td>unknown</td>\n",
       "      <td>yes</td>\n",
       "    </tr>\n",
       "    <tr>\n",
       "      <th>33904</th>\n",
       "      <td>management</td>\n",
       "      <td>married</td>\n",
       "      <td>tertiary</td>\n",
       "      <td>no</td>\n",
       "      <td>yes</td>\n",
       "      <td>no</td>\n",
       "      <td>cellular</td>\n",
       "      <td>aug</td>\n",
       "      <td>unknown</td>\n",
       "      <td>no</td>\n",
       "    </tr>\n",
       "    <tr>\n",
       "      <th>33905</th>\n",
       "      <td>technician</td>\n",
       "      <td>single</td>\n",
       "      <td>secondary</td>\n",
       "      <td>no</td>\n",
       "      <td>yes</td>\n",
       "      <td>no</td>\n",
       "      <td>unknown</td>\n",
       "      <td>may</td>\n",
       "      <td>unknown</td>\n",
       "      <td>no</td>\n",
       "    </tr>\n",
       "    <tr>\n",
       "      <th>33906</th>\n",
       "      <td>technician</td>\n",
       "      <td>married</td>\n",
       "      <td>tertiary</td>\n",
       "      <td>no</td>\n",
       "      <td>no</td>\n",
       "      <td>no</td>\n",
       "      <td>cellular</td>\n",
       "      <td>aug</td>\n",
       "      <td>unknown</td>\n",
       "      <td>no</td>\n",
       "    </tr>\n",
       "    <tr>\n",
       "      <th>33907</th>\n",
       "      <td>retired</td>\n",
       "      <td>married</td>\n",
       "      <td>primary</td>\n",
       "      <td>no</td>\n",
       "      <td>yes</td>\n",
       "      <td>no</td>\n",
       "      <td>unknown</td>\n",
       "      <td>may</td>\n",
       "      <td>unknown</td>\n",
       "      <td>no</td>\n",
       "    </tr>\n",
       "  </tbody>\n",
       "</table>\n",
       "<p>33908 rows × 10 columns</p>\n",
       "</div>"
      ],
      "text/plain": [
       "                 job   marital  education default housing loan   contact  \\\n",
       "0            retired   married  secondary      no      no  yes   unknown   \n",
       "1        blue collar   married    primary      no     yes   no   unknown   \n",
       "2         management   married   tertiary      no      no  yes  cellular   \n",
       "3              admin   married  secondary      no     yes   no  cellular   \n",
       "4      self-employed  divorced   tertiary      no      no   no  cellular   \n",
       "...              ...       ...        ...     ...     ...  ...       ...   \n",
       "33903          admin    single  secondary      no      no  yes  cellular   \n",
       "33904     management   married   tertiary      no     yes   no  cellular   \n",
       "33905     technician    single  secondary      no     yes   no   unknown   \n",
       "33906     technician   married   tertiary      no      no   no  cellular   \n",
       "33907        retired   married    primary      no     yes   no   unknown   \n",
       "\n",
       "      month poutcome    y  \n",
       "0       jul  unknown   no  \n",
       "1       jun  unknown   no  \n",
       "2       aug  unknown   no  \n",
       "3       feb  unknown   no  \n",
       "4       jan  unknown   no  \n",
       "...     ...      ...  ...  \n",
       "33903   apr  unknown  yes  \n",
       "33904   aug  unknown   no  \n",
       "33905   may  unknown   no  \n",
       "33906   aug  unknown   no  \n",
       "33907   may  unknown   no  \n",
       "\n",
       "[33908 rows x 10 columns]"
      ]
     },
     "execution_count": 50,
     "metadata": {},
     "output_type": "execute_result"
    }
   ],
   "source": [
    "df_categorical"
   ]
  },
  {
   "cell_type": "code",
   "execution_count": 51,
   "id": "3e9bb108",
   "metadata": {},
   "outputs": [
    {
     "data": {
      "text/html": [
       "<div>\n",
       "<style scoped>\n",
       "    .dataframe tbody tr th:only-of-type {\n",
       "        vertical-align: middle;\n",
       "    }\n",
       "\n",
       "    .dataframe tbody tr th {\n",
       "        vertical-align: top;\n",
       "    }\n",
       "\n",
       "    .dataframe thead th {\n",
       "        text-align: right;\n",
       "    }\n",
       "</style>\n",
       "<table border=\"1\" class=\"dataframe\">\n",
       "  <thead>\n",
       "    <tr style=\"text-align: right;\">\n",
       "      <th></th>\n",
       "      <th>job</th>\n",
       "      <th>marital</th>\n",
       "      <th>education</th>\n",
       "      <th>default</th>\n",
       "      <th>housing</th>\n",
       "      <th>loan</th>\n",
       "      <th>contact</th>\n",
       "      <th>month</th>\n",
       "      <th>poutcome</th>\n",
       "      <th>y</th>\n",
       "      <th>age</th>\n",
       "      <th>balance</th>\n",
       "      <th>day</th>\n",
       "      <th>duration</th>\n",
       "      <th>campaign</th>\n",
       "      <th>pdays</th>\n",
       "      <th>previous</th>\n",
       "    </tr>\n",
       "  </thead>\n",
       "  <tbody>\n",
       "    <tr>\n",
       "      <th>0</th>\n",
       "      <td>retired</td>\n",
       "      <td>married</td>\n",
       "      <td>secondary</td>\n",
       "      <td>no</td>\n",
       "      <td>no</td>\n",
       "      <td>yes</td>\n",
       "      <td>unknown</td>\n",
       "      <td>jul</td>\n",
       "      <td>unknown</td>\n",
       "      <td>no</td>\n",
       "      <td>58</td>\n",
       "      <td>166</td>\n",
       "      <td>3</td>\n",
       "      <td>211</td>\n",
       "      <td>1</td>\n",
       "      <td>-1</td>\n",
       "      <td>0</td>\n",
       "    </tr>\n",
       "    <tr>\n",
       "      <th>1</th>\n",
       "      <td>blue collar</td>\n",
       "      <td>married</td>\n",
       "      <td>primary</td>\n",
       "      <td>no</td>\n",
       "      <td>yes</td>\n",
       "      <td>no</td>\n",
       "      <td>unknown</td>\n",
       "      <td>jun</td>\n",
       "      <td>unknown</td>\n",
       "      <td>no</td>\n",
       "      <td>51</td>\n",
       "      <td>2995</td>\n",
       "      <td>11</td>\n",
       "      <td>93</td>\n",
       "      <td>2</td>\n",
       "      <td>-1</td>\n",
       "      <td>0</td>\n",
       "    </tr>\n",
       "    <tr>\n",
       "      <th>2</th>\n",
       "      <td>management</td>\n",
       "      <td>married</td>\n",
       "      <td>tertiary</td>\n",
       "      <td>no</td>\n",
       "      <td>no</td>\n",
       "      <td>yes</td>\n",
       "      <td>cellular</td>\n",
       "      <td>aug</td>\n",
       "      <td>unknown</td>\n",
       "      <td>no</td>\n",
       "      <td>50</td>\n",
       "      <td>569</td>\n",
       "      <td>18</td>\n",
       "      <td>452</td>\n",
       "      <td>4</td>\n",
       "      <td>-1</td>\n",
       "      <td>0</td>\n",
       "    </tr>\n",
       "    <tr>\n",
       "      <th>3</th>\n",
       "      <td>admin</td>\n",
       "      <td>married</td>\n",
       "      <td>secondary</td>\n",
       "      <td>no</td>\n",
       "      <td>yes</td>\n",
       "      <td>no</td>\n",
       "      <td>cellular</td>\n",
       "      <td>feb</td>\n",
       "      <td>unknown</td>\n",
       "      <td>no</td>\n",
       "      <td>27</td>\n",
       "      <td>73</td>\n",
       "      <td>5</td>\n",
       "      <td>140</td>\n",
       "      <td>1</td>\n",
       "      <td>-1</td>\n",
       "      <td>0</td>\n",
       "    </tr>\n",
       "    <tr>\n",
       "      <th>4</th>\n",
       "      <td>self-employed</td>\n",
       "      <td>divorced</td>\n",
       "      <td>tertiary</td>\n",
       "      <td>no</td>\n",
       "      <td>no</td>\n",
       "      <td>no</td>\n",
       "      <td>cellular</td>\n",
       "      <td>jan</td>\n",
       "      <td>unknown</td>\n",
       "      <td>no</td>\n",
       "      <td>38</td>\n",
       "      <td>6447</td>\n",
       "      <td>12</td>\n",
       "      <td>296</td>\n",
       "      <td>1</td>\n",
       "      <td>-1</td>\n",
       "      <td>0</td>\n",
       "    </tr>\n",
       "    <tr>\n",
       "      <th>...</th>\n",
       "      <td>...</td>\n",
       "      <td>...</td>\n",
       "      <td>...</td>\n",
       "      <td>...</td>\n",
       "      <td>...</td>\n",
       "      <td>...</td>\n",
       "      <td>...</td>\n",
       "      <td>...</td>\n",
       "      <td>...</td>\n",
       "      <td>...</td>\n",
       "      <td>...</td>\n",
       "      <td>...</td>\n",
       "      <td>...</td>\n",
       "      <td>...</td>\n",
       "      <td>...</td>\n",
       "      <td>...</td>\n",
       "      <td>...</td>\n",
       "    </tr>\n",
       "    <tr>\n",
       "      <th>33903</th>\n",
       "      <td>admin</td>\n",
       "      <td>single</td>\n",
       "      <td>secondary</td>\n",
       "      <td>no</td>\n",
       "      <td>no</td>\n",
       "      <td>yes</td>\n",
       "      <td>cellular</td>\n",
       "      <td>apr</td>\n",
       "      <td>unknown</td>\n",
       "      <td>yes</td>\n",
       "      <td>32</td>\n",
       "      <td>471</td>\n",
       "      <td>2</td>\n",
       "      <td>243</td>\n",
       "      <td>3</td>\n",
       "      <td>-1</td>\n",
       "      <td>0</td>\n",
       "    </tr>\n",
       "    <tr>\n",
       "      <th>33904</th>\n",
       "      <td>management</td>\n",
       "      <td>married</td>\n",
       "      <td>tertiary</td>\n",
       "      <td>no</td>\n",
       "      <td>yes</td>\n",
       "      <td>no</td>\n",
       "      <td>cellular</td>\n",
       "      <td>aug</td>\n",
       "      <td>unknown</td>\n",
       "      <td>no</td>\n",
       "      <td>44</td>\n",
       "      <td>0</td>\n",
       "      <td>20</td>\n",
       "      <td>141</td>\n",
       "      <td>3</td>\n",
       "      <td>-1</td>\n",
       "      <td>0</td>\n",
       "    </tr>\n",
       "    <tr>\n",
       "      <th>33905</th>\n",
       "      <td>technician</td>\n",
       "      <td>single</td>\n",
       "      <td>secondary</td>\n",
       "      <td>no</td>\n",
       "      <td>yes</td>\n",
       "      <td>no</td>\n",
       "      <td>unknown</td>\n",
       "      <td>may</td>\n",
       "      <td>unknown</td>\n",
       "      <td>no</td>\n",
       "      <td>42</td>\n",
       "      <td>0</td>\n",
       "      <td>6</td>\n",
       "      <td>293</td>\n",
       "      <td>1</td>\n",
       "      <td>-1</td>\n",
       "      <td>0</td>\n",
       "    </tr>\n",
       "    <tr>\n",
       "      <th>33906</th>\n",
       "      <td>technician</td>\n",
       "      <td>married</td>\n",
       "      <td>tertiary</td>\n",
       "      <td>no</td>\n",
       "      <td>no</td>\n",
       "      <td>no</td>\n",
       "      <td>cellular</td>\n",
       "      <td>aug</td>\n",
       "      <td>unknown</td>\n",
       "      <td>no</td>\n",
       "      <td>34</td>\n",
       "      <td>116</td>\n",
       "      <td>11</td>\n",
       "      <td>145</td>\n",
       "      <td>2</td>\n",
       "      <td>-1</td>\n",
       "      <td>0</td>\n",
       "    </tr>\n",
       "    <tr>\n",
       "      <th>33907</th>\n",
       "      <td>retired</td>\n",
       "      <td>married</td>\n",
       "      <td>primary</td>\n",
       "      <td>no</td>\n",
       "      <td>yes</td>\n",
       "      <td>no</td>\n",
       "      <td>unknown</td>\n",
       "      <td>may</td>\n",
       "      <td>unknown</td>\n",
       "      <td>no</td>\n",
       "      <td>60</td>\n",
       "      <td>60</td>\n",
       "      <td>5</td>\n",
       "      <td>219</td>\n",
       "      <td>1</td>\n",
       "      <td>-1</td>\n",
       "      <td>0</td>\n",
       "    </tr>\n",
       "  </tbody>\n",
       "</table>\n",
       "<p>33908 rows × 17 columns</p>\n",
       "</div>"
      ],
      "text/plain": [
       "                 job   marital  education default housing loan   contact  \\\n",
       "0            retired   married  secondary      no      no  yes   unknown   \n",
       "1        blue collar   married    primary      no     yes   no   unknown   \n",
       "2         management   married   tertiary      no      no  yes  cellular   \n",
       "3              admin   married  secondary      no     yes   no  cellular   \n",
       "4      self-employed  divorced   tertiary      no      no   no  cellular   \n",
       "...              ...       ...        ...     ...     ...  ...       ...   \n",
       "33903          admin    single  secondary      no      no  yes  cellular   \n",
       "33904     management   married   tertiary      no     yes   no  cellular   \n",
       "33905     technician    single  secondary      no     yes   no   unknown   \n",
       "33906     technician   married   tertiary      no      no   no  cellular   \n",
       "33907        retired   married    primary      no     yes   no   unknown   \n",
       "\n",
       "      month poutcome    y  age  balance  day  duration  campaign  pdays  \\\n",
       "0       jul  unknown   no   58      166    3       211         1     -1   \n",
       "1       jun  unknown   no   51     2995   11        93         2     -1   \n",
       "2       aug  unknown   no   50      569   18       452         4     -1   \n",
       "3       feb  unknown   no   27       73    5       140         1     -1   \n",
       "4       jan  unknown   no   38     6447   12       296         1     -1   \n",
       "...     ...      ...  ...  ...      ...  ...       ...       ...    ...   \n",
       "33903   apr  unknown  yes   32      471    2       243         3     -1   \n",
       "33904   aug  unknown   no   44        0   20       141         3     -1   \n",
       "33905   may  unknown   no   42        0    6       293         1     -1   \n",
       "33906   aug  unknown   no   34      116   11       145         2     -1   \n",
       "33907   may  unknown   no   60       60    5       219         1     -1   \n",
       "\n",
       "       previous  \n",
       "0             0  \n",
       "1             0  \n",
       "2             0  \n",
       "3             0  \n",
       "4             0  \n",
       "...         ...  \n",
       "33903         0  \n",
       "33904         0  \n",
       "33905         0  \n",
       "33906         0  \n",
       "33907         0  \n",
       "\n",
       "[33908 rows x 17 columns]"
      ]
     },
     "execution_count": 51,
     "metadata": {},
     "output_type": "execute_result"
    }
   ],
   "source": [
    "new_data"
   ]
  },
  {
   "cell_type": "code",
   "execution_count": 52,
   "id": "852ac695",
   "metadata": {},
   "outputs": [
    {
     "name": "stdout",
     "output_type": "stream",
     "text": [
      "Index(['job', 'marital', 'education', 'default', 'housing', 'loan', 'contact',\n",
      "       'month', 'poutcome', 'y', 'age', 'balance', 'day', 'duration',\n",
      "       'campaign', 'pdays', 'previous'],\n",
      "      dtype='object')\n"
     ]
    }
   ],
   "source": [
    "print(new_data.columns)"
   ]
  },
  {
   "cell_type": "markdown",
   "id": "1f20d300",
   "metadata": {},
   "source": [
    "## 5.Splitting Data"
   ]
  },
  {
   "cell_type": "code",
   "execution_count": 90,
   "id": "cba3ea5b",
   "metadata": {},
   "outputs": [],
   "source": [
    "###Splitting Dataset\n",
    "X = new_data.drop(\"y\", axis=1)\n",
    "Y = new_data[\"y\"]"
   ]
  },
  {
   "cell_type": "code",
   "execution_count": 54,
   "id": "ddb8ef67",
   "metadata": {},
   "outputs": [
    {
     "data": {
      "text/plain": [
       "(33908, 16)"
      ]
     },
     "execution_count": 54,
     "metadata": {},
     "output_type": "execute_result"
    }
   ],
   "source": [
    "X.shape"
   ]
  },
  {
   "cell_type": "code",
   "execution_count": 55,
   "id": "fec24483",
   "metadata": {},
   "outputs": [
    {
     "data": {
      "text/plain": [
       "(33908,)"
      ]
     },
     "execution_count": 55,
     "metadata": {},
     "output_type": "execute_result"
    }
   ],
   "source": [
    "Y.shape"
   ]
  },
  {
   "cell_type": "code",
   "execution_count": 91,
   "id": "c1b833a7",
   "metadata": {},
   "outputs": [],
   "source": [
    "from sklearn.model_selection import train_test_split\n",
    "X_train, X_test, Y_train, Y_test = train_test_split(X, Y, test_size=0.3, random_state=101)"
   ]
  },
  {
   "cell_type": "markdown",
   "id": "8d424d5e",
   "metadata": {},
   "source": [
    "### 6.Feature engineering using Pipeline"
   ]
  },
  {
   "cell_type": "code",
   "execution_count": 57,
   "id": "6c5d0b6c",
   "metadata": {},
   "outputs": [],
   "source": [
    "numeric_features = ['age','balance','day','duration','campaign','previous']"
   ]
  },
  {
   "cell_type": "code",
   "execution_count": 58,
   "id": "f48505d2",
   "metadata": {},
   "outputs": [],
   "source": [
    "from sklearn.pipeline import Pipeline\n",
    "from sklearn.preprocessing import StandardScaler\n",
    "from sklearn import preprocessing"
   ]
  },
  {
   "cell_type": "code",
   "execution_count": 59,
   "id": "467f8285",
   "metadata": {},
   "outputs": [],
   "source": [
    "#Preprocessing for numerical data\n",
    "from sklearn.impute import SimpleImputer\n",
    "numerical_transformer = SimpleImputer(strategy='median')"
   ]
  },
  {
   "cell_type": "code",
   "execution_count": 60,
   "id": "24a99866",
   "metadata": {},
   "outputs": [],
   "source": [
    "#Preprocessing for categorical data\n",
    "#from sklearn.preprocessing import OneHotEncoder\n",
    "#categorical_transformer = Pipeline(steps=[\n",
    "#('imputer', SimpleImputer(strategy='most_frequent')),\n",
    "#('one_hot_encoder', OneHotEncoder(sparse=False))\n",
    "#])"
   ]
  },
  {
   "cell_type": "code",
   "execution_count": 61,
   "id": "de88a43b",
   "metadata": {},
   "outputs": [],
   "source": [
    "#Preprocessing for categorical data\n",
    "from sklearn.preprocessing import OneHotEncoder\n",
    "categorical_transformer = Pipeline(steps=[\n",
    "('imputer', SimpleImputer(strategy='most_frequent')),\n",
    "('one_hot_encoder', OneHotEncoder(handle_unknown='ignore'))\n",
    "])"
   ]
  },
  {
   "cell_type": "code",
   "execution_count": 62,
   "id": "1d69da94",
   "metadata": {},
   "outputs": [],
   "source": [
    "#Bundle preprocessing for numerical and categorical data\n",
    "from sklearn.compose import ColumnTransformer\n",
    "categorical_features = ['job', 'marital', 'education', 'default','housing','loan', 'contact','month','poutcome']\n",
    "numeric_features = ['age','balance','day','duration','campaign','previous']\n",
    "preprocessor = ColumnTransformer(\n",
    "transformers=[\n",
    "('num', numerical_transformer, numeric_features),\n",
    "('cat', categorical_transformer, categorical_features)\n",
    "])"
   ]
  },
  {
   "cell_type": "markdown",
   "id": "7ecdbc2a",
   "metadata": {},
   "source": [
    "### 7.Model Building"
   ]
  },
  {
   "cell_type": "markdown",
   "id": "d4be6b66",
   "metadata": {},
   "source": [
    "#### 1.LogisticRegression"
   ]
  },
  {
   "cell_type": "code",
   "execution_count": 63,
   "id": "c2ff29c0",
   "metadata": {},
   "outputs": [],
   "source": [
    "from sklearn.linear_model import LogisticRegression\n",
    "lr = LogisticRegression()"
   ]
  },
  {
   "cell_type": "code",
   "execution_count": 64,
   "id": "5a5696f9",
   "metadata": {},
   "outputs": [],
   "source": [
    "my_pipeline_lr = Pipeline(steps=[('preprocessor', preprocessor),\n",
    "('model', lr)\n",
    "])"
   ]
  },
  {
   "cell_type": "code",
   "execution_count": 65,
   "id": "c33677b0",
   "metadata": {},
   "outputs": [
    {
     "name": "stderr",
     "output_type": "stream",
     "text": [
      "C:\\Users\\Admin\\anaconda3\\lib\\site-packages\\sklearn\\linear_model\\_logistic.py:814: ConvergenceWarning: lbfgs failed to converge (status=1):\n",
      "STOP: TOTAL NO. of ITERATIONS REACHED LIMIT.\n",
      "\n",
      "Increase the number of iterations (max_iter) or scale the data as shown in:\n",
      "    https://scikit-learn.org/stable/modules/preprocessing.html\n",
      "Please also refer to the documentation for alternative solver options:\n",
      "    https://scikit-learn.org/stable/modules/linear_model.html#logistic-regression\n",
      "  n_iter_i = _check_optimize_result(\n"
     ]
    },
    {
     "data": {
      "text/plain": [
       "Pipeline(steps=[('preprocessor',\n",
       "                 ColumnTransformer(transformers=[('num',\n",
       "                                                  SimpleImputer(strategy='median'),\n",
       "                                                  ['age', 'balance', 'day',\n",
       "                                                   'duration', 'campaign',\n",
       "                                                   'previous']),\n",
       "                                                 ('cat',\n",
       "                                                  Pipeline(steps=[('imputer',\n",
       "                                                                   SimpleImputer(strategy='most_frequent')),\n",
       "                                                                  ('one_hot_encoder',\n",
       "                                                                   OneHotEncoder(handle_unknown='ignore'))]),\n",
       "                                                  ['job', 'marital',\n",
       "                                                   'education', 'default',\n",
       "                                                   'housing', 'loan', 'contact',\n",
       "                                                   'month', 'poutcome'])])),\n",
       "                ('model', LogisticRegression())])"
      ]
     },
     "execution_count": 65,
     "metadata": {},
     "output_type": "execute_result"
    }
   ],
   "source": [
    "my_pipeline_lr.fit(X_train, Y_train)"
   ]
  },
  {
   "cell_type": "code",
   "execution_count": 66,
   "id": "4bca8900",
   "metadata": {},
   "outputs": [],
   "source": [
    "#Preprocessing of validation data, get predictions\n",
    "preds_lr = my_pipeline_lr.predict(X_test)"
   ]
  },
  {
   "cell_type": "code",
   "execution_count": 67,
   "id": "890f2566",
   "metadata": {},
   "outputs": [
    {
     "name": "stdout",
     "output_type": "stream",
     "text": [
      "              precision    recall  f1-score   support\n",
      "\n",
      "          no       0.90      0.98      0.94      8998\n",
      "         yes       0.59      0.20      0.30      1175\n",
      "\n",
      "    accuracy                           0.89     10173\n",
      "   macro avg       0.75      0.59      0.62     10173\n",
      "weighted avg       0.87      0.89      0.87     10173\n",
      "\n"
     ]
    }
   ],
   "source": [
    "from sklearn.metrics import classification_report\n",
    "print(classification_report(Y_test, preds_lr))"
   ]
  },
  {
   "cell_type": "markdown",
   "id": "dde699a6",
   "metadata": {},
   "source": [
    "#### Create a logistic regression model with Ridge regularization"
   ]
  },
  {
   "cell_type": "code",
   "execution_count": 68,
   "id": "1763e197",
   "metadata": {},
   "outputs": [],
   "source": [
    "ridge_logistic = LogisticRegression(penalty='l2', solver='liblinear', C=1.0)  # C is the inverse of regularization strength (1/alpha)\n",
    "\n",
    "# Fit the model\n",
    "#ridge_logistic.fit(X_train, y_train)\n",
    "\n",
    "# Predict\n",
    "#y_pred = ridge_logistic.predict(X_test)"
   ]
  },
  {
   "cell_type": "code",
   "execution_count": 69,
   "id": "e74d359e",
   "metadata": {},
   "outputs": [],
   "source": [
    "my_pipeline_lr_r = Pipeline(steps=[('preprocessor', preprocessor),\n",
    "('model', ridge_logistic)\n",
    "])"
   ]
  },
  {
   "cell_type": "code",
   "execution_count": 70,
   "id": "a78085bb",
   "metadata": {},
   "outputs": [
    {
     "data": {
      "text/plain": [
       "Pipeline(steps=[('preprocessor',\n",
       "                 ColumnTransformer(transformers=[('num',\n",
       "                                                  SimpleImputer(strategy='median'),\n",
       "                                                  ['age', 'balance', 'day',\n",
       "                                                   'duration', 'campaign',\n",
       "                                                   'previous']),\n",
       "                                                 ('cat',\n",
       "                                                  Pipeline(steps=[('imputer',\n",
       "                                                                   SimpleImputer(strategy='most_frequent')),\n",
       "                                                                  ('one_hot_encoder',\n",
       "                                                                   OneHotEncoder(handle_unknown='ignore'))]),\n",
       "                                                  ['job', 'marital',\n",
       "                                                   'education', 'default',\n",
       "                                                   'housing', 'loan', 'contact',\n",
       "                                                   'month', 'poutcome'])])),\n",
       "                ('model', LogisticRegression(solver='liblinear'))])"
      ]
     },
     "execution_count": 70,
     "metadata": {},
     "output_type": "execute_result"
    }
   ],
   "source": [
    "my_pipeline_lr_r.fit(X_train, Y_train)"
   ]
  },
  {
   "cell_type": "code",
   "execution_count": 71,
   "id": "26d4ac04",
   "metadata": {},
   "outputs": [],
   "source": [
    "#Preprocessing of validation data, get predictions\n",
    "preds_lr_r = my_pipeline_lr_r.predict(X_test)"
   ]
  },
  {
   "cell_type": "code",
   "execution_count": 72,
   "id": "5a3c0182",
   "metadata": {},
   "outputs": [
    {
     "name": "stdout",
     "output_type": "stream",
     "text": [
      "              precision    recall  f1-score   support\n",
      "\n",
      "          no       0.92      0.97      0.95      8998\n",
      "         yes       0.65      0.36      0.46      1175\n",
      "\n",
      "    accuracy                           0.90     10173\n",
      "   macro avg       0.78      0.67      0.70     10173\n",
      "weighted avg       0.89      0.90      0.89     10173\n",
      "\n"
     ]
    }
   ],
   "source": [
    "from sklearn.metrics import classification_report\n",
    "print(classification_report(Y_test, preds_lr_r))"
   ]
  },
  {
   "cell_type": "markdown",
   "id": "c022b456",
   "metadata": {},
   "source": [
    "Ridge (L2) regularization: Helps to prevent overfitting by penalizing large coefficients.\n",
    "\n",
    "Lasso (L1) regularization: Can lead to feature selection by setting some feature coefficients to zero."
   ]
  },
  {
   "cell_type": "markdown",
   "id": "c10a1594",
   "metadata": {},
   "source": [
    "### 2.DecisionTreeClassifier\n"
   ]
  },
  {
   "cell_type": "code",
   "execution_count": 73,
   "id": "3325fd9b",
   "metadata": {},
   "outputs": [],
   "source": [
    "from sklearn import tree\n",
    "dc = tree.DecisionTreeClassifier()"
   ]
  },
  {
   "cell_type": "code",
   "execution_count": 74,
   "id": "af4e485b",
   "metadata": {},
   "outputs": [],
   "source": [
    "my_pipeline_dc = Pipeline(steps=[('preprocessor', preprocessor),\n",
    "('model', dc)\n",
    "])"
   ]
  },
  {
   "cell_type": "code",
   "execution_count": 75,
   "id": "f7e379a6",
   "metadata": {},
   "outputs": [
    {
     "data": {
      "text/plain": [
       "Pipeline(steps=[('preprocessor',\n",
       "                 ColumnTransformer(transformers=[('num',\n",
       "                                                  SimpleImputer(strategy='median'),\n",
       "                                                  ['age', 'balance', 'day',\n",
       "                                                   'duration', 'campaign',\n",
       "                                                   'previous']),\n",
       "                                                 ('cat',\n",
       "                                                  Pipeline(steps=[('imputer',\n",
       "                                                                   SimpleImputer(strategy='most_frequent')),\n",
       "                                                                  ('one_hot_encoder',\n",
       "                                                                   OneHotEncoder(handle_unknown='ignore'))]),\n",
       "                                                  ['job', 'marital',\n",
       "                                                   'education', 'default',\n",
       "                                                   'housing', 'loan', 'contact',\n",
       "                                                   'month', 'poutcome'])])),\n",
       "                ('model', DecisionTreeClassifier())])"
      ]
     },
     "execution_count": 75,
     "metadata": {},
     "output_type": "execute_result"
    }
   ],
   "source": [
    "my_pipeline_dc.fit(X_train, Y_train)"
   ]
  },
  {
   "cell_type": "code",
   "execution_count": 76,
   "id": "6cd8805b",
   "metadata": {},
   "outputs": [],
   "source": [
    "#Preprocessing of validation data, get predictions\n",
    "preds_dc = my_pipeline_dc.predict(X_test)"
   ]
  },
  {
   "cell_type": "code",
   "execution_count": 77,
   "id": "a151a3ab",
   "metadata": {},
   "outputs": [
    {
     "name": "stdout",
     "output_type": "stream",
     "text": [
      "              precision    recall  f1-score   support\n",
      "\n",
      "          no       0.93      0.93      0.93      8998\n",
      "         yes       0.46      0.46      0.46      1175\n",
      "\n",
      "    accuracy                           0.87     10173\n",
      "   macro avg       0.69      0.69      0.69     10173\n",
      "weighted avg       0.87      0.87      0.87     10173\n",
      "\n"
     ]
    }
   ],
   "source": [
    "from sklearn.metrics import classification_report\n",
    "print(classification_report(Y_test, preds_dc))"
   ]
  },
  {
   "cell_type": "markdown",
   "id": "f23a2a01",
   "metadata": {},
   "source": [
    "#### 3.RandomForestClassifier"
   ]
  },
  {
   "cell_type": "code",
   "execution_count": 78,
   "id": "e20e91a6",
   "metadata": {},
   "outputs": [],
   "source": [
    "#Define model\n",
    "from sklearn.ensemble import RandomForestClassifier\n",
    "rf = RandomForestClassifier(n_estimators=100, random_state=10)"
   ]
  },
  {
   "cell_type": "code",
   "execution_count": 79,
   "id": "f3c8e24d",
   "metadata": {},
   "outputs": [],
   "source": [
    "#Bundle preprocessing and modeling code in a pipeline##worked&\n",
    "my_pipeline_rf = Pipeline(steps=[('preprocessor', preprocessor),\n",
    "('model', rf)\n",
    "])\n"
   ]
  },
  {
   "cell_type": "code",
   "execution_count": 80,
   "id": "99656b91",
   "metadata": {},
   "outputs": [
    {
     "data": {
      "text/plain": [
       "Pipeline(steps=[('preprocessor',\n",
       "                 ColumnTransformer(transformers=[('num',\n",
       "                                                  SimpleImputer(strategy='median'),\n",
       "                                                  ['age', 'balance', 'day',\n",
       "                                                   'duration', 'campaign',\n",
       "                                                   'previous']),\n",
       "                                                 ('cat',\n",
       "                                                  Pipeline(steps=[('imputer',\n",
       "                                                                   SimpleImputer(strategy='most_frequent')),\n",
       "                                                                  ('one_hot_encoder',\n",
       "                                                                   OneHotEncoder(handle_unknown='ignore'))]),\n",
       "                                                  ['job', 'marital',\n",
       "                                                   'education', 'default',\n",
       "                                                   'housing', 'loan', 'contact',\n",
       "                                                   'month', 'poutcome'])])),\n",
       "                ('model', RandomForestClassifier(random_state=10))])"
      ]
     },
     "execution_count": 80,
     "metadata": {},
     "output_type": "execute_result"
    }
   ],
   "source": [
    "#Preprocessing of training data, fit model\n",
    "my_pipeline_rf.fit(X_train, Y_train)"
   ]
  },
  {
   "cell_type": "code",
   "execution_count": 81,
   "id": "fa6ccd39",
   "metadata": {},
   "outputs": [],
   "source": [
    "#Preprocessing of validation data, get predictions\n",
    "preds_rf = my_pipeline_rf.predict(X_test)"
   ]
  },
  {
   "cell_type": "code",
   "execution_count": 83,
   "id": "4f84f868",
   "metadata": {},
   "outputs": [
    {
     "name": "stdout",
     "output_type": "stream",
     "text": [
      "              precision    recall  f1-score   support\n",
      "\n",
      "          no       0.92      0.97      0.95      8998\n",
      "         yes       0.63      0.39      0.48      1175\n",
      "\n",
      "    accuracy                           0.90     10173\n",
      "   macro avg       0.78      0.68      0.71     10173\n",
      "weighted avg       0.89      0.90      0.89     10173\n",
      "\n"
     ]
    }
   ],
   "source": [
    "from sklearn.metrics import classification_report\n",
    "print(classification_report(Y_test, preds_rf ))"
   ]
  },
  {
   "cell_type": "markdown",
   "id": "c915f383",
   "metadata": {},
   "source": [
    "### 4.XGboostClassifier"
   ]
  },
  {
   "cell_type": "code",
   "execution_count": 84,
   "id": "f69851d0",
   "metadata": {},
   "outputs": [],
   "source": [
    "from xgboost import XGBClassifier"
   ]
  },
  {
   "cell_type": "code",
   "execution_count": 85,
   "id": "d673ec57",
   "metadata": {},
   "outputs": [],
   "source": [
    "xg = XGBClassifier()"
   ]
  },
  {
   "cell_type": "code",
   "execution_count": 86,
   "id": "f30f7d8f",
   "metadata": {},
   "outputs": [],
   "source": [
    "my_pipeline_xg = Pipeline(steps=[('preprocessor', preprocessor),\n",
    "('model', xg)\n",
    "])\n"
   ]
  },
  {
   "cell_type": "code",
   "execution_count": 92,
   "id": "9bbef10c",
   "metadata": {},
   "outputs": [
    {
     "data": {
      "text/plain": [
       "Pipeline(steps=[('preprocessor',\n",
       "                 ColumnTransformer(transformers=[('num',\n",
       "                                                  SimpleImputer(strategy='median'),\n",
       "                                                  ['age', 'balance', 'day',\n",
       "                                                   'duration', 'campaign',\n",
       "                                                   'previous']),\n",
       "                                                 ('cat',\n",
       "                                                  Pipeline(steps=[('imputer',\n",
       "                                                                   SimpleImputer(strategy='most_frequent')),\n",
       "                                                                  ('one_hot_encoder',\n",
       "                                                                   OneHotEncoder(handle_unknown='ignore'))]),\n",
       "                                                  ['job', 'marital',\n",
       "                                                   'education', 'default',\n",
       "                                                   'housing', 'lo...\n",
       "                               gamma=0, gpu_id=-1, grow_policy='depthwise',\n",
       "                               importance_type=None, interaction_constraints='',\n",
       "                               learning_rate=0.300000012, max_bin=256,\n",
       "                               max_cat_to_onehot=4, max_delta_step=0,\n",
       "                               max_depth=6, max_leaves=0, min_child_weight=1,\n",
       "                               missing=nan, monotone_constraints='()',\n",
       "                               n_estimators=100, n_jobs=0, num_parallel_tree=1,\n",
       "                               predictor='auto', random_state=0, reg_alpha=0,\n",
       "                               reg_lambda=1, ...))])"
      ]
     },
     "execution_count": 92,
     "metadata": {},
     "output_type": "execute_result"
    }
   ],
   "source": [
    "#Preprocessing of training data, fit model\n",
    "my_pipeline_xg.fit(X_train, Y_train)"
   ]
  },
  {
   "cell_type": "code",
   "execution_count": 93,
   "id": "7e376a86",
   "metadata": {},
   "outputs": [],
   "source": [
    "#Preprocessing of validation data, get predictions\n",
    "preds_xg = my_pipeline_xg.predict(X_test)"
   ]
  },
  {
   "cell_type": "code",
   "execution_count": 94,
   "id": "89a8fef8",
   "metadata": {},
   "outputs": [],
   "source": [
    "from sklearn.metrics import mean_absolute_error\n",
    "score_xg = mean_absolute_error(Y_test, preds_xg)"
   ]
  },
  {
   "cell_type": "code",
   "execution_count": 95,
   "id": "73b0f6a0",
   "metadata": {},
   "outputs": [
    {
     "data": {
      "text/plain": [
       "0.09839771945345523"
      ]
     },
     "execution_count": 95,
     "metadata": {},
     "output_type": "execute_result"
    }
   ],
   "source": [
    "score_xg"
   ]
  },
  {
   "cell_type": "code",
   "execution_count": 96,
   "id": "f41fd940",
   "metadata": {},
   "outputs": [
    {
     "name": "stdout",
     "output_type": "stream",
     "text": [
      "              precision    recall  f1-score   support\n",
      "\n",
      "           0       0.93      0.96      0.95      8998\n",
      "           1       0.59      0.47      0.53      1175\n",
      "\n",
      "    accuracy                           0.90     10173\n",
      "   macro avg       0.76      0.72      0.74     10173\n",
      "weighted avg       0.89      0.90      0.90     10173\n",
      "\n"
     ]
    }
   ],
   "source": [
    "from sklearn.metrics import classification_report\n",
    "print(classification_report(Y_test, preds_xg))"
   ]
  },
  {
   "cell_type": "markdown",
   "id": "5297518f",
   "metadata": {},
   "source": [
    "### 5.AdaBoostClassifier"
   ]
  },
  {
   "cell_type": "code",
   "execution_count": 102,
   "id": "dc97fcbb",
   "metadata": {},
   "outputs": [],
   "source": [
    "from sklearn.ensemble import AdaBoostClassifier\n",
    "ada = AdaBoostClassifier(n_estimators=50, learning_rate=1.0, random_state=42)"
   ]
  },
  {
   "cell_type": "code",
   "execution_count": 103,
   "id": "7bff0db5",
   "metadata": {},
   "outputs": [],
   "source": [
    "my_pipeline_ada = Pipeline(steps=[('preprocessor', preprocessor),\n",
    "('model', ada)\n",
    "])\n"
   ]
  },
  {
   "cell_type": "code",
   "execution_count": 104,
   "id": "0793c044",
   "metadata": {},
   "outputs": [
    {
     "data": {
      "text/plain": [
       "Pipeline(steps=[('preprocessor',\n",
       "                 ColumnTransformer(transformers=[('num',\n",
       "                                                  SimpleImputer(strategy='median'),\n",
       "                                                  ['age', 'balance', 'day',\n",
       "                                                   'duration', 'campaign',\n",
       "                                                   'previous']),\n",
       "                                                 ('cat',\n",
       "                                                  Pipeline(steps=[('imputer',\n",
       "                                                                   SimpleImputer(strategy='most_frequent')),\n",
       "                                                                  ('one_hot_encoder',\n",
       "                                                                   OneHotEncoder(handle_unknown='ignore'))]),\n",
       "                                                  ['job', 'marital',\n",
       "                                                   'education', 'default',\n",
       "                                                   'housing', 'loan', 'contact',\n",
       "                                                   'month', 'poutcome'])])),\n",
       "                ('model', AdaBoostClassifier(random_state=42))])"
      ]
     },
     "execution_count": 104,
     "metadata": {},
     "output_type": "execute_result"
    }
   ],
   "source": [
    "my_pipeline_ada.fit(X_train, Y_train)"
   ]
  },
  {
   "cell_type": "code",
   "execution_count": 105,
   "id": "2bc75025",
   "metadata": {},
   "outputs": [],
   "source": [
    "preds_ada = my_pipeline_ada.predict(X_test)"
   ]
  },
  {
   "cell_type": "code",
   "execution_count": 106,
   "id": "06fd901e",
   "metadata": {},
   "outputs": [
    {
     "name": "stdout",
     "output_type": "stream",
     "text": [
      "              precision    recall  f1-score   support\n",
      "\n",
      "           0       0.92      0.97      0.95      8998\n",
      "           1       0.62      0.38      0.47      1175\n",
      "\n",
      "    accuracy                           0.90     10173\n",
      "   macro avg       0.77      0.68      0.71     10173\n",
      "weighted avg       0.89      0.90      0.89     10173\n",
      "\n"
     ]
    }
   ],
   "source": [
    "from sklearn.metrics import classification_report\n",
    "print(classification_report(Y_test, preds_ada))"
   ]
  },
  {
   "cell_type": "markdown",
   "id": "1d6b771e",
   "metadata": {},
   "source": [
    "###  6.KNeighborsClassifier  "
   ]
  },
  {
   "cell_type": "code",
   "execution_count": 97,
   "id": "4832dbe9",
   "metadata": {},
   "outputs": [],
   "source": [
    "from sklearn.neighbors import KNeighborsClassifier  \n",
    "knn= KNeighborsClassifier(n_neighbors=5, metric='minkowski', p=2 )  "
   ]
  },
  {
   "cell_type": "code",
   "execution_count": 98,
   "id": "35aee21d",
   "metadata": {},
   "outputs": [],
   "source": [
    "my_pipeline_knn = Pipeline(steps=[('preprocessor', preprocessor),\n",
    "('model', knn)\n",
    "])"
   ]
  },
  {
   "cell_type": "code",
   "execution_count": 99,
   "id": "4dd11502",
   "metadata": {},
   "outputs": [
    {
     "data": {
      "text/plain": [
       "Pipeline(steps=[('preprocessor',\n",
       "                 ColumnTransformer(transformers=[('num',\n",
       "                                                  SimpleImputer(strategy='median'),\n",
       "                                                  ['age', 'balance', 'day',\n",
       "                                                   'duration', 'campaign',\n",
       "                                                   'previous']),\n",
       "                                                 ('cat',\n",
       "                                                  Pipeline(steps=[('imputer',\n",
       "                                                                   SimpleImputer(strategy='most_frequent')),\n",
       "                                                                  ('one_hot_encoder',\n",
       "                                                                   OneHotEncoder(handle_unknown='ignore'))]),\n",
       "                                                  ['job', 'marital',\n",
       "                                                   'education', 'default',\n",
       "                                                   'housing', 'loan', 'contact',\n",
       "                                                   'month', 'poutcome'])])),\n",
       "                ('model', KNeighborsClassifier())])"
      ]
     },
     "execution_count": 99,
     "metadata": {},
     "output_type": "execute_result"
    }
   ],
   "source": [
    "my_pipeline_knn.fit(X_train, Y_train)"
   ]
  },
  {
   "cell_type": "code",
   "execution_count": 100,
   "id": "f18eb71e",
   "metadata": {},
   "outputs": [],
   "source": [
    "preds_knn = my_pipeline_knn.predict(X_test)"
   ]
  },
  {
   "cell_type": "code",
   "execution_count": 101,
   "id": "f9d55cbe",
   "metadata": {},
   "outputs": [
    {
     "name": "stdout",
     "output_type": "stream",
     "text": [
      "              precision    recall  f1-score   support\n",
      "\n",
      "           0       0.90      0.97      0.93      8998\n",
      "           1       0.43      0.19      0.27      1175\n",
      "\n",
      "    accuracy                           0.88     10173\n",
      "   macro avg       0.67      0.58      0.60     10173\n",
      "weighted avg       0.85      0.88      0.86     10173\n",
      "\n"
     ]
    }
   ],
   "source": [
    "from sklearn.metrics import classification_report\n",
    "print(classification_report(Y_test, preds_knn))"
   ]
  },
  {
   "cell_type": "markdown",
   "id": "9cc3d42c",
   "metadata": {},
   "source": [
    "#### 7.GaussianNB"
   ]
  },
  {
   "cell_type": "code",
   "execution_count": 107,
   "id": "a2ef0bc0",
   "metadata": {},
   "outputs": [],
   "source": [
    "from sklearn.naive_bayes import GaussianNB\n",
    "gnb = GaussianNB()"
   ]
  },
  {
   "cell_type": "code",
   "execution_count": 108,
   "id": "436e6509",
   "metadata": {},
   "outputs": [],
   "source": [
    "my_pipeline_gnb = Pipeline(steps=[('preprocessor', preprocessor),\n",
    "('model', gnb)\n",
    "])"
   ]
  },
  {
   "cell_type": "code",
   "execution_count": 109,
   "id": "ebc09c38",
   "metadata": {},
   "outputs": [
    {
     "data": {
      "text/plain": [
       "Pipeline(steps=[('preprocessor',\n",
       "                 ColumnTransformer(transformers=[('num',\n",
       "                                                  SimpleImputer(strategy='median'),\n",
       "                                                  ['age', 'balance', 'day',\n",
       "                                                   'duration', 'campaign',\n",
       "                                                   'previous']),\n",
       "                                                 ('cat',\n",
       "                                                  Pipeline(steps=[('imputer',\n",
       "                                                                   SimpleImputer(strategy='most_frequent')),\n",
       "                                                                  ('one_hot_encoder',\n",
       "                                                                   OneHotEncoder(handle_unknown='ignore'))]),\n",
       "                                                  ['job', 'marital',\n",
       "                                                   'education', 'default',\n",
       "                                                   'housing', 'loan', 'contact',\n",
       "                                                   'month', 'poutcome'])])),\n",
       "                ('model', GaussianNB())])"
      ]
     },
     "execution_count": 109,
     "metadata": {},
     "output_type": "execute_result"
    }
   ],
   "source": [
    "my_pipeline_gnb.fit(X_train, Y_train)"
   ]
  },
  {
   "cell_type": "code",
   "execution_count": 110,
   "id": "932d39a4",
   "metadata": {},
   "outputs": [],
   "source": [
    "preds_gnb = my_pipeline_gnb.predict(X_test)"
   ]
  },
  {
   "cell_type": "code",
   "execution_count": 112,
   "id": "5842c132",
   "metadata": {},
   "outputs": [
    {
     "name": "stdout",
     "output_type": "stream",
     "text": [
      "              precision    recall  f1-score   support\n",
      "\n",
      "           0       0.93      0.91      0.92      8998\n",
      "           1       0.42      0.52      0.46      1175\n",
      "\n",
      "    accuracy                           0.86     10173\n",
      "   macro avg       0.68      0.71      0.69     10173\n",
      "weighted avg       0.87      0.86      0.87     10173\n",
      "\n"
     ]
    }
   ],
   "source": [
    "print(classification_report(Y_test, preds_gnb))"
   ]
  },
  {
   "cell_type": "markdown",
   "id": "1b26628f",
   "metadata": {},
   "source": [
    "After comparing all the ML algorithms by their confusion matrix,we came to the conclusion that the XGB classifier gives better performance."
   ]
  },
  {
   "cell_type": "code",
   "execution_count": 113,
   "id": "d329ae17",
   "metadata": {},
   "outputs": [
    {
     "name": "stdout",
     "output_type": "stream",
     "text": [
      "              precision    recall  f1-score   support\n",
      "\n",
      "           0       0.93      0.96      0.95      8998\n",
      "           1       0.59      0.47      0.53      1175\n",
      "\n",
      "    accuracy                           0.90     10173\n",
      "   macro avg       0.76      0.72      0.74     10173\n",
      "weighted avg       0.89      0.90      0.90     10173\n",
      "\n"
     ]
    }
   ],
   "source": [
    "print(classification_report(Y_test, preds_xg))"
   ]
  },
  {
   "cell_type": "code",
   "execution_count": 114,
   "id": "ca8d23d5",
   "metadata": {},
   "outputs": [
    {
     "name": "stdout",
     "output_type": "stream",
     "text": [
      "AUC-ROC: 0.72\n"
     ]
    }
   ],
   "source": [
    "from sklearn.metrics import roc_auc_score\n",
    "auc_roc = roc_auc_score(Y_test, preds_xg)\n",
    "print(f'AUC-ROC: {auc_roc:.2f}')"
   ]
  },
  {
   "cell_type": "markdown",
   "id": "d90a8490",
   "metadata": {},
   "source": [
    "## Thank you...!!"
   ]
  },
  {
   "cell_type": "code",
   "execution_count": null,
   "id": "453edf4e",
   "metadata": {},
   "outputs": [],
   "source": []
  },
  {
   "cell_type": "code",
   "execution_count": null,
   "id": "cdec0ef3",
   "metadata": {},
   "outputs": [],
   "source": []
  },
  {
   "cell_type": "code",
   "execution_count": null,
   "id": "a80a4674",
   "metadata": {},
   "outputs": [],
   "source": []
  }
 ],
 "metadata": {
  "kernelspec": {
   "display_name": "Python 3 (ipykernel)",
   "language": "python",
   "name": "python3"
  },
  "language_info": {
   "codemirror_mode": {
    "name": "ipython",
    "version": 3
   },
   "file_extension": ".py",
   "mimetype": "text/x-python",
   "name": "python",
   "nbconvert_exporter": "python",
   "pygments_lexer": "ipython3",
   "version": "3.11.7"
  }
 },
 "nbformat": 4,
 "nbformat_minor": 5
}
