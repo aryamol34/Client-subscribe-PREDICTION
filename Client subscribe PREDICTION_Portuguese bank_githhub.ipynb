{
 "cells": [
  {
   "cell_type": "code",
   "execution_count": 1,
   "id": "2d4b9f74",
   "metadata": {},
   "outputs": [],
   "source": [
    "#importing neccessary libraries\n",
    "import pandas as pd\n",
    "import numpy as np\n",
    "import matplotlib.pyplot as plt\n",
    "%matplotlib inline\n",
    "import seaborn as sns"
   ]
  },
  {
   "cell_type": "code",
   "execution_count": 2,
   "id": "c258f0d2",
   "metadata": {},
   "outputs": [],
   "source": [
    "df_train = pd.read_csv('C:/Users/Admin/Desktop/Ecolab_hackathon/train.csv')"
   ]
  },
  {
   "cell_type": "code",
   "execution_count": 3,
   "id": "9e29ed2f",
   "metadata": {},
   "outputs": [],
   "source": [
    "df_test = pd.read_csv('C:/Users/Admin/Desktop/Ecolab_hackathon/test.csv')"
   ]
  },
  {
   "cell_type": "code",
   "execution_count": 4,
   "id": "f01405e5",
   "metadata": {},
   "outputs": [
    {
     "data": {
      "text/plain": [
       "(33908, 17)"
      ]
     },
     "execution_count": 4,
     "metadata": {},
     "output_type": "execute_result"
    }
   ],
   "source": [
    "df_train.shape"
   ]
  },
  {
   "cell_type": "code",
   "execution_count": 5,
   "id": "0f93e055",
   "metadata": {},
   "outputs": [
    {
     "data": {
      "text/plain": [
       "(11303, 16)"
      ]
     },
     "execution_count": 5,
     "metadata": {},
     "output_type": "execute_result"
    }
   ],
   "source": [
    "df_test.shape"
   ]
  },
  {
   "cell_type": "code",
   "execution_count": 6,
   "id": "509340d2",
   "metadata": {},
   "outputs": [
    {
     "name": "stdout",
     "output_type": "stream",
     "text": [
      "<class 'pandas.core.frame.DataFrame'>\n",
      "RangeIndex: 33908 entries, 0 to 33907\n",
      "Data columns (total 17 columns):\n",
      " #   Column     Non-Null Count  Dtype \n",
      "---  ------     --------------  ----- \n",
      " 0   age        33908 non-null  int64 \n",
      " 1   job        33908 non-null  object\n",
      " 2   marital    33908 non-null  object\n",
      " 3   education  33908 non-null  object\n",
      " 4   default    33908 non-null  object\n",
      " 5   balance    33908 non-null  int64 \n",
      " 6   housing    33908 non-null  object\n",
      " 7   loan       33908 non-null  object\n",
      " 8   contact    33908 non-null  object\n",
      " 9   day        33908 non-null  int64 \n",
      " 10  month      33908 non-null  object\n",
      " 11  duration   33908 non-null  int64 \n",
      " 12  campaign   33908 non-null  int64 \n",
      " 13  pdays      33908 non-null  int64 \n",
      " 14  previous   33908 non-null  int64 \n",
      " 15  poutcome   33908 non-null  object\n",
      " 16  y          33908 non-null  object\n",
      "dtypes: int64(7), object(10)\n",
      "memory usage: 4.4+ MB\n"
     ]
    }
   ],
   "source": [
    "df_train.info()"
   ]
  },
  {
   "cell_type": "markdown",
   "id": "a7f16e90",
   "metadata": {},
   "source": [
    "-We see 7 numeric values and 10 objects(categorical variable) in the given Dataset."
   ]
  },
  {
   "cell_type": "code",
   "execution_count": 7,
   "id": "879891e6",
   "metadata": {},
   "outputs": [
    {
     "name": "stdout",
     "output_type": "stream",
     "text": [
      "<class 'pandas.core.frame.DataFrame'>\n",
      "RangeIndex: 11303 entries, 0 to 11302\n",
      "Data columns (total 16 columns):\n",
      " #   Column     Non-Null Count  Dtype \n",
      "---  ------     --------------  ----- \n",
      " 0   age        11303 non-null  int64 \n",
      " 1   job        11303 non-null  object\n",
      " 2   marital    11303 non-null  object\n",
      " 3   education  11303 non-null  object\n",
      " 4   default    11303 non-null  object\n",
      " 5   balance    11303 non-null  int64 \n",
      " 6   housing    11303 non-null  object\n",
      " 7   loan       11303 non-null  object\n",
      " 8   contact    11303 non-null  object\n",
      " 9   day        11303 non-null  int64 \n",
      " 10  month      11303 non-null  object\n",
      " 11  duration   11303 non-null  int64 \n",
      " 12  campaign   11303 non-null  int64 \n",
      " 13  pdays      11303 non-null  int64 \n",
      " 14  previous   11303 non-null  int64 \n",
      " 15  poutcome   11303 non-null  object\n",
      "dtypes: int64(7), object(9)\n",
      "memory usage: 1.4+ MB\n"
     ]
    }
   ],
   "source": [
    "df_test.info()"
   ]
  },
  {
   "cell_type": "markdown",
   "id": "342cfa3a",
   "metadata": {},
   "source": [
    "-Given Dataset has 7 numeric values and 9 objects(categorical variable) and doesnt have Target variable.We Would need to find and append the Target Variable using a best ML model."
   ]
  },
  {
   "cell_type": "code",
   "execution_count": 8,
   "id": "c0367918",
   "metadata": {},
   "outputs": [
    {
     "data": {
      "text/html": [
       "<div>\n",
       "<style scoped>\n",
       "    .dataframe tbody tr th:only-of-type {\n",
       "        vertical-align: middle;\n",
       "    }\n",
       "\n",
       "    .dataframe tbody tr th {\n",
       "        vertical-align: top;\n",
       "    }\n",
       "\n",
       "    .dataframe thead th {\n",
       "        text-align: right;\n",
       "    }\n",
       "</style>\n",
       "<table border=\"1\" class=\"dataframe\">\n",
       "  <thead>\n",
       "    <tr style=\"text-align: right;\">\n",
       "      <th></th>\n",
       "      <th>age</th>\n",
       "      <th>job</th>\n",
       "      <th>marital</th>\n",
       "      <th>education</th>\n",
       "      <th>default</th>\n",
       "      <th>balance</th>\n",
       "      <th>housing</th>\n",
       "      <th>loan</th>\n",
       "      <th>contact</th>\n",
       "      <th>day</th>\n",
       "      <th>month</th>\n",
       "      <th>duration</th>\n",
       "      <th>campaign</th>\n",
       "      <th>pdays</th>\n",
       "      <th>previous</th>\n",
       "      <th>poutcome</th>\n",
       "      <th>y</th>\n",
       "    </tr>\n",
       "  </thead>\n",
       "  <tbody>\n",
       "    <tr>\n",
       "      <th>0</th>\n",
       "      <td>58</td>\n",
       "      <td>retired</td>\n",
       "      <td>married</td>\n",
       "      <td>secondary</td>\n",
       "      <td>no</td>\n",
       "      <td>166</td>\n",
       "      <td>no</td>\n",
       "      <td>yes</td>\n",
       "      <td>unknown</td>\n",
       "      <td>3</td>\n",
       "      <td>jul</td>\n",
       "      <td>211</td>\n",
       "      <td>1</td>\n",
       "      <td>-1</td>\n",
       "      <td>0</td>\n",
       "      <td>unknown</td>\n",
       "      <td>no</td>\n",
       "    </tr>\n",
       "    <tr>\n",
       "      <th>1</th>\n",
       "      <td>51</td>\n",
       "      <td>blue-collar</td>\n",
       "      <td>married</td>\n",
       "      <td>primary</td>\n",
       "      <td>no</td>\n",
       "      <td>2995</td>\n",
       "      <td>yes</td>\n",
       "      <td>no</td>\n",
       "      <td>unknown</td>\n",
       "      <td>11</td>\n",
       "      <td>jun</td>\n",
       "      <td>93</td>\n",
       "      <td>2</td>\n",
       "      <td>-1</td>\n",
       "      <td>0</td>\n",
       "      <td>unknown</td>\n",
       "      <td>no</td>\n",
       "    </tr>\n",
       "    <tr>\n",
       "      <th>2</th>\n",
       "      <td>50</td>\n",
       "      <td>management</td>\n",
       "      <td>married</td>\n",
       "      <td>tertiary</td>\n",
       "      <td>no</td>\n",
       "      <td>569</td>\n",
       "      <td>no</td>\n",
       "      <td>yes</td>\n",
       "      <td>cellular</td>\n",
       "      <td>18</td>\n",
       "      <td>aug</td>\n",
       "      <td>452</td>\n",
       "      <td>4</td>\n",
       "      <td>-1</td>\n",
       "      <td>0</td>\n",
       "      <td>unknown</td>\n",
       "      <td>no</td>\n",
       "    </tr>\n",
       "    <tr>\n",
       "      <th>3</th>\n",
       "      <td>27</td>\n",
       "      <td>admin.</td>\n",
       "      <td>married</td>\n",
       "      <td>secondary</td>\n",
       "      <td>no</td>\n",
       "      <td>73</td>\n",
       "      <td>yes</td>\n",
       "      <td>no</td>\n",
       "      <td>cellular</td>\n",
       "      <td>5</td>\n",
       "      <td>feb</td>\n",
       "      <td>140</td>\n",
       "      <td>1</td>\n",
       "      <td>-1</td>\n",
       "      <td>0</td>\n",
       "      <td>unknown</td>\n",
       "      <td>no</td>\n",
       "    </tr>\n",
       "    <tr>\n",
       "      <th>4</th>\n",
       "      <td>38</td>\n",
       "      <td>self-employed</td>\n",
       "      <td>divorced</td>\n",
       "      <td>tertiary</td>\n",
       "      <td>no</td>\n",
       "      <td>6447</td>\n",
       "      <td>no</td>\n",
       "      <td>no</td>\n",
       "      <td>cellular</td>\n",
       "      <td>12</td>\n",
       "      <td>jan</td>\n",
       "      <td>296</td>\n",
       "      <td>1</td>\n",
       "      <td>-1</td>\n",
       "      <td>0</td>\n",
       "      <td>unknown</td>\n",
       "      <td>no</td>\n",
       "    </tr>\n",
       "  </tbody>\n",
       "</table>\n",
       "</div>"
      ],
      "text/plain": [
       "   age            job   marital  education default  balance housing loan  \\\n",
       "0   58        retired   married  secondary      no      166      no  yes   \n",
       "1   51    blue-collar   married    primary      no     2995     yes   no   \n",
       "2   50     management   married   tertiary      no      569      no  yes   \n",
       "3   27         admin.   married  secondary      no       73     yes   no   \n",
       "4   38  self-employed  divorced   tertiary      no     6447      no   no   \n",
       "\n",
       "    contact  day month  duration  campaign  pdays  previous poutcome   y  \n",
       "0   unknown    3   jul       211         1     -1         0  unknown  no  \n",
       "1   unknown   11   jun        93         2     -1         0  unknown  no  \n",
       "2  cellular   18   aug       452         4     -1         0  unknown  no  \n",
       "3  cellular    5   feb       140         1     -1         0  unknown  no  \n",
       "4  cellular   12   jan       296         1     -1         0  unknown  no  "
      ]
     },
     "execution_count": 8,
     "metadata": {},
     "output_type": "execute_result"
    }
   ],
   "source": [
    "df_train.head()"
   ]
  },
  {
   "cell_type": "code",
   "execution_count": 9,
   "id": "d354b1f5",
   "metadata": {},
   "outputs": [
    {
     "data": {
      "text/html": [
       "<div>\n",
       "<style scoped>\n",
       "    .dataframe tbody tr th:only-of-type {\n",
       "        vertical-align: middle;\n",
       "    }\n",
       "\n",
       "    .dataframe tbody tr th {\n",
       "        vertical-align: top;\n",
       "    }\n",
       "\n",
       "    .dataframe thead th {\n",
       "        text-align: right;\n",
       "    }\n",
       "</style>\n",
       "<table border=\"1\" class=\"dataframe\">\n",
       "  <thead>\n",
       "    <tr style=\"text-align: right;\">\n",
       "      <th></th>\n",
       "      <th>age</th>\n",
       "      <th>job</th>\n",
       "      <th>marital</th>\n",
       "      <th>education</th>\n",
       "      <th>default</th>\n",
       "      <th>balance</th>\n",
       "      <th>housing</th>\n",
       "      <th>loan</th>\n",
       "      <th>contact</th>\n",
       "      <th>day</th>\n",
       "      <th>month</th>\n",
       "      <th>duration</th>\n",
       "      <th>campaign</th>\n",
       "      <th>pdays</th>\n",
       "      <th>previous</th>\n",
       "      <th>poutcome</th>\n",
       "    </tr>\n",
       "  </thead>\n",
       "  <tbody>\n",
       "    <tr>\n",
       "      <th>0</th>\n",
       "      <td>41</td>\n",
       "      <td>management</td>\n",
       "      <td>married</td>\n",
       "      <td>tertiary</td>\n",
       "      <td>no</td>\n",
       "      <td>6060</td>\n",
       "      <td>yes</td>\n",
       "      <td>no</td>\n",
       "      <td>unknown</td>\n",
       "      <td>15</td>\n",
       "      <td>may</td>\n",
       "      <td>71</td>\n",
       "      <td>2</td>\n",
       "      <td>-1</td>\n",
       "      <td>0</td>\n",
       "      <td>unknown</td>\n",
       "    </tr>\n",
       "    <tr>\n",
       "      <th>1</th>\n",
       "      <td>59</td>\n",
       "      <td>blue-collar</td>\n",
       "      <td>married</td>\n",
       "      <td>primary</td>\n",
       "      <td>no</td>\n",
       "      <td>99</td>\n",
       "      <td>yes</td>\n",
       "      <td>no</td>\n",
       "      <td>cellular</td>\n",
       "      <td>5</td>\n",
       "      <td>feb</td>\n",
       "      <td>43</td>\n",
       "      <td>1</td>\n",
       "      <td>261</td>\n",
       "      <td>3</td>\n",
       "      <td>failure</td>\n",
       "    </tr>\n",
       "    <tr>\n",
       "      <th>2</th>\n",
       "      <td>37</td>\n",
       "      <td>housemaid</td>\n",
       "      <td>married</td>\n",
       "      <td>primary</td>\n",
       "      <td>no</td>\n",
       "      <td>0</td>\n",
       "      <td>yes</td>\n",
       "      <td>no</td>\n",
       "      <td>cellular</td>\n",
       "      <td>24</td>\n",
       "      <td>jul</td>\n",
       "      <td>347</td>\n",
       "      <td>5</td>\n",
       "      <td>-1</td>\n",
       "      <td>0</td>\n",
       "      <td>unknown</td>\n",
       "    </tr>\n",
       "    <tr>\n",
       "      <th>3</th>\n",
       "      <td>41</td>\n",
       "      <td>blue-collar</td>\n",
       "      <td>divorced</td>\n",
       "      <td>secondary</td>\n",
       "      <td>no</td>\n",
       "      <td>-90</td>\n",
       "      <td>yes</td>\n",
       "      <td>no</td>\n",
       "      <td>cellular</td>\n",
       "      <td>18</td>\n",
       "      <td>nov</td>\n",
       "      <td>103</td>\n",
       "      <td>6</td>\n",
       "      <td>-1</td>\n",
       "      <td>0</td>\n",
       "      <td>unknown</td>\n",
       "    </tr>\n",
       "    <tr>\n",
       "      <th>4</th>\n",
       "      <td>27</td>\n",
       "      <td>student</td>\n",
       "      <td>single</td>\n",
       "      <td>tertiary</td>\n",
       "      <td>no</td>\n",
       "      <td>4869</td>\n",
       "      <td>yes</td>\n",
       "      <td>no</td>\n",
       "      <td>cellular</td>\n",
       "      <td>15</td>\n",
       "      <td>may</td>\n",
       "      <td>258</td>\n",
       "      <td>2</td>\n",
       "      <td>343</td>\n",
       "      <td>4</td>\n",
       "      <td>other</td>\n",
       "    </tr>\n",
       "  </tbody>\n",
       "</table>\n",
       "</div>"
      ],
      "text/plain": [
       "   age          job   marital  education default  balance housing loan  \\\n",
       "0   41   management   married   tertiary      no     6060     yes   no   \n",
       "1   59  blue-collar   married    primary      no       99     yes   no   \n",
       "2   37    housemaid   married    primary      no        0     yes   no   \n",
       "3   41  blue-collar  divorced  secondary      no      -90     yes   no   \n",
       "4   27      student    single   tertiary      no     4869     yes   no   \n",
       "\n",
       "    contact  day month  duration  campaign  pdays  previous poutcome  \n",
       "0   unknown   15   may        71         2     -1         0  unknown  \n",
       "1  cellular    5   feb        43         1    261         3  failure  \n",
       "2  cellular   24   jul       347         5     -1         0  unknown  \n",
       "3  cellular   18   nov       103         6     -1         0  unknown  \n",
       "4  cellular   15   may       258         2    343         4    other  "
      ]
     },
     "execution_count": 9,
     "metadata": {},
     "output_type": "execute_result"
    }
   ],
   "source": [
    "df_test.head()"
   ]
  },
  {
   "cell_type": "code",
   "execution_count": 10,
   "id": "f074b7a9",
   "metadata": {},
   "outputs": [
    {
     "data": {
      "text/html": [
       "<div>\n",
       "<style scoped>\n",
       "    .dataframe tbody tr th:only-of-type {\n",
       "        vertical-align: middle;\n",
       "    }\n",
       "\n",
       "    .dataframe tbody tr th {\n",
       "        vertical-align: top;\n",
       "    }\n",
       "\n",
       "    .dataframe thead th {\n",
       "        text-align: right;\n",
       "    }\n",
       "</style>\n",
       "<table border=\"1\" class=\"dataframe\">\n",
       "  <thead>\n",
       "    <tr style=\"text-align: right;\">\n",
       "      <th></th>\n",
       "      <th>age</th>\n",
       "      <th>balance</th>\n",
       "      <th>day</th>\n",
       "      <th>duration</th>\n",
       "      <th>campaign</th>\n",
       "      <th>pdays</th>\n",
       "      <th>previous</th>\n",
       "    </tr>\n",
       "  </thead>\n",
       "  <tbody>\n",
       "    <tr>\n",
       "      <th>count</th>\n",
       "      <td>33908.000000</td>\n",
       "      <td>33908.000000</td>\n",
       "      <td>33908.000000</td>\n",
       "      <td>33908.000000</td>\n",
       "      <td>33908.000000</td>\n",
       "      <td>33908.000000</td>\n",
       "      <td>33908.000000</td>\n",
       "    </tr>\n",
       "    <tr>\n",
       "      <th>mean</th>\n",
       "      <td>40.966763</td>\n",
       "      <td>1370.713136</td>\n",
       "      <td>15.803763</td>\n",
       "      <td>257.899227</td>\n",
       "      <td>2.752920</td>\n",
       "      <td>40.168515</td>\n",
       "      <td>0.581987</td>\n",
       "    </tr>\n",
       "    <tr>\n",
       "      <th>std</th>\n",
       "      <td>10.613701</td>\n",
       "      <td>3111.689069</td>\n",
       "      <td>8.314558</td>\n",
       "      <td>258.607105</td>\n",
       "      <td>3.068299</td>\n",
       "      <td>99.892114</td>\n",
       "      <td>2.412482</td>\n",
       "    </tr>\n",
       "    <tr>\n",
       "      <th>min</th>\n",
       "      <td>18.000000</td>\n",
       "      <td>-8019.000000</td>\n",
       "      <td>1.000000</td>\n",
       "      <td>0.000000</td>\n",
       "      <td>1.000000</td>\n",
       "      <td>-1.000000</td>\n",
       "      <td>0.000000</td>\n",
       "    </tr>\n",
       "    <tr>\n",
       "      <th>25%</th>\n",
       "      <td>33.000000</td>\n",
       "      <td>74.000000</td>\n",
       "      <td>8.000000</td>\n",
       "      <td>103.000000</td>\n",
       "      <td>1.000000</td>\n",
       "      <td>-1.000000</td>\n",
       "      <td>0.000000</td>\n",
       "    </tr>\n",
       "    <tr>\n",
       "      <th>50%</th>\n",
       "      <td>39.000000</td>\n",
       "      <td>450.000000</td>\n",
       "      <td>16.000000</td>\n",
       "      <td>179.000000</td>\n",
       "      <td>2.000000</td>\n",
       "      <td>-1.000000</td>\n",
       "      <td>0.000000</td>\n",
       "    </tr>\n",
       "    <tr>\n",
       "      <th>75%</th>\n",
       "      <td>48.000000</td>\n",
       "      <td>1430.000000</td>\n",
       "      <td>21.000000</td>\n",
       "      <td>318.000000</td>\n",
       "      <td>3.000000</td>\n",
       "      <td>-1.000000</td>\n",
       "      <td>0.000000</td>\n",
       "    </tr>\n",
       "    <tr>\n",
       "      <th>max</th>\n",
       "      <td>95.000000</td>\n",
       "      <td>102127.000000</td>\n",
       "      <td>31.000000</td>\n",
       "      <td>4918.000000</td>\n",
       "      <td>63.000000</td>\n",
       "      <td>871.000000</td>\n",
       "      <td>275.000000</td>\n",
       "    </tr>\n",
       "  </tbody>\n",
       "</table>\n",
       "</div>"
      ],
      "text/plain": [
       "                age        balance           day      duration      campaign  \\\n",
       "count  33908.000000   33908.000000  33908.000000  33908.000000  33908.000000   \n",
       "mean      40.966763    1370.713136     15.803763    257.899227      2.752920   \n",
       "std       10.613701    3111.689069      8.314558    258.607105      3.068299   \n",
       "min       18.000000   -8019.000000      1.000000      0.000000      1.000000   \n",
       "25%       33.000000      74.000000      8.000000    103.000000      1.000000   \n",
       "50%       39.000000     450.000000     16.000000    179.000000      2.000000   \n",
       "75%       48.000000    1430.000000     21.000000    318.000000      3.000000   \n",
       "max       95.000000  102127.000000     31.000000   4918.000000     63.000000   \n",
       "\n",
       "              pdays      previous  \n",
       "count  33908.000000  33908.000000  \n",
       "mean      40.168515      0.581987  \n",
       "std       99.892114      2.412482  \n",
       "min       -1.000000      0.000000  \n",
       "25%       -1.000000      0.000000  \n",
       "50%       -1.000000      0.000000  \n",
       "75%       -1.000000      0.000000  \n",
       "max      871.000000    275.000000  "
      ]
     },
     "execution_count": 10,
     "metadata": {},
     "output_type": "execute_result"
    }
   ],
   "source": [
    "df_train.describe()"
   ]
  },
  {
   "cell_type": "code",
   "execution_count": 11,
   "id": "7c52991d",
   "metadata": {},
   "outputs": [
    {
     "data": {
      "text/html": [
       "<div>\n",
       "<style scoped>\n",
       "    .dataframe tbody tr th:only-of-type {\n",
       "        vertical-align: middle;\n",
       "    }\n",
       "\n",
       "    .dataframe tbody tr th {\n",
       "        vertical-align: top;\n",
       "    }\n",
       "\n",
       "    .dataframe thead th {\n",
       "        text-align: right;\n",
       "    }\n",
       "</style>\n",
       "<table border=\"1\" class=\"dataframe\">\n",
       "  <thead>\n",
       "    <tr style=\"text-align: right;\">\n",
       "      <th></th>\n",
       "      <th>age</th>\n",
       "      <th>balance</th>\n",
       "      <th>day</th>\n",
       "      <th>duration</th>\n",
       "      <th>campaign</th>\n",
       "      <th>pdays</th>\n",
       "      <th>previous</th>\n",
       "    </tr>\n",
       "  </thead>\n",
       "  <tbody>\n",
       "    <tr>\n",
       "      <th>count</th>\n",
       "      <td>11303.000000</td>\n",
       "      <td>11303.000000</td>\n",
       "      <td>11303.000000</td>\n",
       "      <td>11303.000000</td>\n",
       "      <td>11303.000000</td>\n",
       "      <td>11303.000000</td>\n",
       "      <td>11303.000000</td>\n",
       "    </tr>\n",
       "    <tr>\n",
       "      <th>mean</th>\n",
       "      <td>40.844555</td>\n",
       "      <td>1336.949571</td>\n",
       "      <td>15.814386</td>\n",
       "      <td>258.954614</td>\n",
       "      <td>2.796603</td>\n",
       "      <td>40.285765</td>\n",
       "      <td>0.575334</td>\n",
       "    </tr>\n",
       "    <tr>\n",
       "      <th>std</th>\n",
       "      <td>10.633874</td>\n",
       "      <td>2834.519004</td>\n",
       "      <td>8.346550</td>\n",
       "      <td>254.272247</td>\n",
       "      <td>3.185436</td>\n",
       "      <td>100.839679</td>\n",
       "      <td>1.939986</td>\n",
       "    </tr>\n",
       "    <tr>\n",
       "      <th>min</th>\n",
       "      <td>18.000000</td>\n",
       "      <td>-4057.000000</td>\n",
       "      <td>1.000000</td>\n",
       "      <td>2.000000</td>\n",
       "      <td>1.000000</td>\n",
       "      <td>-1.000000</td>\n",
       "      <td>0.000000</td>\n",
       "    </tr>\n",
       "    <tr>\n",
       "      <th>25%</th>\n",
       "      <td>32.000000</td>\n",
       "      <td>68.000000</td>\n",
       "      <td>8.000000</td>\n",
       "      <td>103.000000</td>\n",
       "      <td>1.000000</td>\n",
       "      <td>-1.000000</td>\n",
       "      <td>0.000000</td>\n",
       "    </tr>\n",
       "    <tr>\n",
       "      <th>50%</th>\n",
       "      <td>39.000000</td>\n",
       "      <td>444.000000</td>\n",
       "      <td>16.000000</td>\n",
       "      <td>181.000000</td>\n",
       "      <td>2.000000</td>\n",
       "      <td>-1.000000</td>\n",
       "      <td>0.000000</td>\n",
       "    </tr>\n",
       "    <tr>\n",
       "      <th>75%</th>\n",
       "      <td>48.000000</td>\n",
       "      <td>1412.500000</td>\n",
       "      <td>21.000000</td>\n",
       "      <td>322.000000</td>\n",
       "      <td>3.000000</td>\n",
       "      <td>-1.000000</td>\n",
       "      <td>0.000000</td>\n",
       "    </tr>\n",
       "    <tr>\n",
       "      <th>max</th>\n",
       "      <td>93.000000</td>\n",
       "      <td>81204.000000</td>\n",
       "      <td>31.000000</td>\n",
       "      <td>3322.000000</td>\n",
       "      <td>58.000000</td>\n",
       "      <td>831.000000</td>\n",
       "      <td>55.000000</td>\n",
       "    </tr>\n",
       "  </tbody>\n",
       "</table>\n",
       "</div>"
      ],
      "text/plain": [
       "                age       balance           day      duration      campaign  \\\n",
       "count  11303.000000  11303.000000  11303.000000  11303.000000  11303.000000   \n",
       "mean      40.844555   1336.949571     15.814386    258.954614      2.796603   \n",
       "std       10.633874   2834.519004      8.346550    254.272247      3.185436   \n",
       "min       18.000000  -4057.000000      1.000000      2.000000      1.000000   \n",
       "25%       32.000000     68.000000      8.000000    103.000000      1.000000   \n",
       "50%       39.000000    444.000000     16.000000    181.000000      2.000000   \n",
       "75%       48.000000   1412.500000     21.000000    322.000000      3.000000   \n",
       "max       93.000000  81204.000000     31.000000   3322.000000     58.000000   \n",
       "\n",
       "              pdays      previous  \n",
       "count  11303.000000  11303.000000  \n",
       "mean      40.285765      0.575334  \n",
       "std      100.839679      1.939986  \n",
       "min       -1.000000      0.000000  \n",
       "25%       -1.000000      0.000000  \n",
       "50%       -1.000000      0.000000  \n",
       "75%       -1.000000      0.000000  \n",
       "max      831.000000     55.000000  "
      ]
     },
     "execution_count": 11,
     "metadata": {},
     "output_type": "execute_result"
    }
   ],
   "source": [
    "df_test.describe()"
   ]
  },
  {
   "cell_type": "markdown",
   "id": "04a7faa1",
   "metadata": {},
   "source": [
    "### Univariate analysis"
   ]
  },
  {
   "cell_type": "code",
   "execution_count": 12,
   "id": "2b740415",
   "metadata": {},
   "outputs": [],
   "source": [
    "#bifurcating Numerical and Categorical variables from Training dataset\n",
    "df_numerical  = df_train[['age','balance','day','duration','campaign','previous','pdays']] # Will use histogram to analyze\n"
   ]
  },
  {
   "cell_type": "code",
   "execution_count": 13,
   "id": "095b3d9d",
   "metadata": {},
   "outputs": [
    {
     "data": {
      "image/png": "[encoded data removed]",
      "text/plain": [
       "<Figure size 432x288 with 1 Axes>"
      ]
     },
     "metadata": {
      "needs_background": "light"
     },
     "output_type": "display_data"
    },
    {
     "data": {
      "image/png": "[encoded data removed]",
      "text/plain": [
       "<Figure size 432x288 with 1 Axes>"
      ]
     },
     "metadata": {
      "needs_background": "light"
     },
     "output_type": "display_data"
    },
    {
     "data": {
      "image/png": "[encoded data removed]",
      "text/plain": [
       "<Figure size 432x288 with 1 Axes>"
      ]
     },
     "metadata": {
      "needs_background": "light"
     },
     "output_type": "display_data"
    },
    {
     "data": {
      "image/png": "[encoded data removed]",
      "text/plain": [
       "<Figure size 432x288 with 1 Axes>"
      ]
     },
     "metadata": {
      "needs_background": "light"
     },
     "output_type": "display_data"
    },
    {
     "data": {
      "image/png": "[encoded data removed]",
      "text/plain": [
       "<Figure size 432x288 with 1 Axes>"
      ]
     },
     "metadata": {
      "needs_background": "light"
     },
     "output_type": "display_data"
    },
    {
     "data": {
      "image/png": "[encoded data removed]",
      "text/plain": [
       "<Figure size 432x288 with 1 Axes>"
      ]
     },
     "metadata": {
      "needs_background": "light"
     },
     "output_type": "display_data"
    },
    {
     "data": {
      "image/png": "[encoded data removed]",
      "text/plain": [
       "<Figure size 432x288 with 1 Axes>"
      ]
     },
     "metadata": {
      "needs_background": "light"
     },
     "output_type": "display_data"
    }
   ],
   "source": [
    "#displaying numeric variables to get insights  \n",
    "for i in df_numerical.columns:\n",
    "    plt.hist(df_numerical[i])\n",
    "    plt.title(i)\n",
    "    plt.show()"
   ]
  },
  {
   "cell_type": "markdown",
   "id": "0d263dcc",
   "metadata": {},
   "source": [
    "## 1.EDA & Data cleaning"
   ]
  },
  {
   "cell_type": "code",
   "execution_count": 14,
   "id": "805d7220",
   "metadata": {},
   "outputs": [
    {
     "name": "stdout",
     "output_type": "stream",
     "text": [
      "['age', 'balance', 'day', 'duration', 'campaign', 'previous', 'pdays']\n"
     ]
    },
    {
     "name": "stderr",
     "output_type": "stream",
     "text": [
      "C:\\Users\\Admin\\anaconda3\\lib\\site-packages\\seaborn\\_decorators.py:36: FutureWarning: Pass the following variable as a keyword arg: x. From version 0.12, the only valid positional argument will be `data`, and passing other arguments without an explicit keyword will result in an error or misinterpretation.\n",
      "  warnings.warn(\n",
      "C:\\Users\\Admin\\anaconda3\\lib\\site-packages\\seaborn\\_decorators.py:36: FutureWarning: Pass the following variable as a keyword arg: x. From version 0.12, the only valid positional argument will be `data`, and passing other arguments without an explicit keyword will result in an error or misinterpretation.\n",
      "  warnings.warn(\n",
      "C:\\Users\\Admin\\anaconda3\\lib\\site-packages\\seaborn\\_decorators.py:36: FutureWarning: Pass the following variable as a keyword arg: x. From version 0.12, the only valid positional argument will be `data`, and passing other arguments without an explicit keyword will result in an error or misinterpretation.\n",
      "  warnings.warn(\n",
      "C:\\Users\\Admin\\anaconda3\\lib\\site-packages\\seaborn\\_decorators.py:36: FutureWarning: Pass the following variable as a keyword arg: x. From version 0.12, the only valid positional argument will be `data`, and passing other arguments without an explicit keyword will result in an error or misinterpretation.\n",
      "  warnings.warn(\n",
      "C:\\Users\\Admin\\anaconda3\\lib\\site-packages\\seaborn\\_decorators.py:36: FutureWarning: Pass the following variable as a keyword arg: x. From version 0.12, the only valid positional argument will be `data`, and passing other arguments without an explicit keyword will result in an error or misinterpretation.\n",
      "  warnings.warn(\n",
      "C:\\Users\\Admin\\anaconda3\\lib\\site-packages\\seaborn\\_decorators.py:36: FutureWarning: Pass the following variable as a keyword arg: x. From version 0.12, the only valid positional argument will be `data`, and passing other arguments without an explicit keyword will result in an error or misinterpretation.\n",
      "  warnings.warn(\n",
      "C:\\Users\\Admin\\anaconda3\\lib\\site-packages\\seaborn\\_decorators.py:36: FutureWarning: Pass the following variable as a keyword arg: x. From version 0.12, the only valid positional argument will be `data`, and passing other arguments without an explicit keyword will result in an error or misinterpretation.\n",
      "  warnings.warn(\n"
     ]
    },
    {
     "data": {
      "image/png": "[encoded data removed]",
      "text/plain": [
       "<Figure size 432x288 with 1 Axes>"
      ]
     },
     "metadata": {
      "needs_background": "light"
     },
     "output_type": "display_data"
    },
    {
     "data": {
      "image/png": "[encoded data removed]",
      "text/plain": [
       "<Figure size 432x288 with 1 Axes>"
      ]
     },
     "metadata": {
      "needs_background": "light"
     },
     "output_type": "display_data"
    },
    {
     "data": {
      "image/png": "[encoded data removed]",
      "text/plain": [
       "<Figure size 432x288 with 1 Axes>"
      ]
     },
     "metadata": {
      "needs_background": "light"
     },
     "output_type": "display_data"
    },
    {
     "data": {
      "image/png": "[encoded data removed]",
      "text/plain": [
       "<Figure size 432x288 with 1 Axes>"
      ]
     },
     "metadata": {
      "needs_background": "light"
     },
     "output_type": "display_data"
    },
    {
     "data": {
      "image/png": "[encoded data removed]",
      "text/plain": [
       "<Figure size 432x288 with 1 Axes>"
      ]
     },
     "metadata": {
      "needs_background": "light"
     },
     "output_type": "display_data"
    },
    {
     "data": {
      "image/png": "[encoded data removed]",
      "text/plain": [
       "<Figure size 432x288 with 1 Axes>"
      ]
     },
     "metadata": {
      "needs_background": "light"
     },
     "output_type": "display_data"
    },
    {
     "data": {
      "image/png": "[encoded data removed]",
      "text/plain": [
       "<Figure size 432x288 with 1 Axes>"
      ]
     },
     "metadata": {
      "needs_background": "light"
     },
     "output_type": "display_data"
    }
   ],
   "source": [
    "my_test=[]\n",
    "for col in df_numerical.columns:\n",
    "    my_test.append(col)\n",
    "    \n",
    "print(my_test)\n",
    "\n",
    "for i in my_test:\n",
    "    plt.figure(i)\n",
    "    sns.boxplot(df_numerical[i])\n",
    "plt.show()"
   ]
  },
  {
   "cell_type": "markdown",
   "id": "5466996a",
   "metadata": {},
   "source": [
    "#### Outlier treatment-IQR for cleanup "
   ]
  },
  {
   "cell_type": "code",
   "execution_count": 15,
   "id": "5258bb99",
   "metadata": {},
   "outputs": [
    {
     "name": "stdout",
     "output_type": "stream",
     "text": [
      "33.0 48.0\n",
      "Iqr: 15.0\n",
      "lower_fence = 10.5 higher_fence= 70.5\n"
     ]
    }
   ],
   "source": [
    "#age\n",
    "#outlier treatment-IQR\n",
    "#IQR-for removing outliers\n",
    "dataset = sorted(df_train.age)\n",
    "q1,q3 = np.percentile(dataset,[25,75])\n",
    "print(q1,q3)\n",
    "iqr = q3 -q1\n",
    "print('Iqr:',iqr)\n",
    "lower_fence = q1 -(1.5*iqr)\n",
    "higher_fence = q3+(1.5*iqr)\n",
    "print('lower_fence =',lower_fence,'higher_fence=',higher_fence)"
   ]
  },
  {
   "cell_type": "code",
   "execution_count": 16,
   "id": "889c14ac",
   "metadata": {},
   "outputs": [],
   "source": [
    "#Outlier Treatment\n",
    "df_train.age = np.where(df_train.age>higher_fence,higher_fence,df_train.age)\n"
   ]
  },
  {
   "cell_type": "code",
   "execution_count": 17,
   "id": "e6fd5931",
   "metadata": {},
   "outputs": [
    {
     "data": {
      "text/plain": [
       "Text(0.5, 1.0, 'Box plot of outliers free-Age')"
      ]
     },
     "execution_count": 17,
     "metadata": {},
     "output_type": "execute_result"
    },
    {
     "data": {
      "image/png": "[encoded data removed]",
      "text/plain": [
       "<Figure size 432x288 with 1 Axes>"
      ]
     },
     "metadata": {
      "needs_background": "light"
     },
     "output_type": "display_data"
    }
   ],
   "source": [
    "sns.boxplot(x=df_train.age,data=df_train)\n",
    "plt.title('Box plot of outliers free-Age') "
   ]
  },
  {
   "cell_type": "code",
   "execution_count": 18,
   "id": "a44739c7",
   "metadata": {},
   "outputs": [
    {
     "name": "stdout",
     "output_type": "stream",
     "text": [
      "74.0 1430.0\n",
      "Iqr: 1356.0\n",
      "lower_fence = -1960.0 higher_fence= 3464.0\n"
     ]
    }
   ],
   "source": [
    "#balance\n",
    "#outlier treatment-IQR\n",
    "#IQR-for removing outliers\n",
    "dataset = sorted(df_train.balance)\n",
    "q1,q3 = np.percentile(dataset,[25,75])\n",
    "print(q1,q3)\n",
    "iqr = q3 -q1\n",
    "print('Iqr:',iqr)\n",
    "lower_fence = q1 -(1.5*iqr)\n",
    "higher_fence = q3+(1.5*iqr)\n",
    "print('lower_fence =',lower_fence,'higher_fence=',higher_fence)"
   ]
  },
  {
   "cell_type": "code",
   "execution_count": 19,
   "id": "02246cc9",
   "metadata": {},
   "outputs": [],
   "source": [
    "df_train.balance = np.where(df_train.balance>higher_fence,higher_fence,df_train.balance)"
   ]
  },
  {
   "cell_type": "code",
   "execution_count": 20,
   "id": "83a6920f",
   "metadata": {},
   "outputs": [],
   "source": [
    "df_train['balance'] = np.where(df_train['balance'] < lower_fence, lower_fence, df_train['balance'])"
   ]
  },
  {
   "cell_type": "code",
   "execution_count": 21,
   "id": "17fe8c0b",
   "metadata": {},
   "outputs": [
    {
     "data": {
      "text/plain": [
       "Text(0.5, 1.0, 'Box plot of outliers free-balance')"
      ]
     },
     "execution_count": 21,
     "metadata": {},
     "output_type": "execute_result"
    },
    {
     "data": {
      "image/png": "[encoded data removed]",
      "text/plain": [
       "<Figure size 432x288 with 1 Axes>"
      ]
     },
     "metadata": {
      "needs_background": "light"
     },
     "output_type": "display_data"
    }
   ],
   "source": [
    "sns.boxplot(x=df_train.balance,data=df_train)\n",
    "plt.title('Box plot of outliers free-balance')"
   ]
  },
  {
   "cell_type": "code",
   "execution_count": 22,
   "id": "39137e95",
   "metadata": {},
   "outputs": [
    {
     "name": "stdout",
     "output_type": "stream",
     "text": [
      "103.0 318.0\n",
      "Iqr: 215.0\n",
      "lower_fence = -219.5 higher_fence= 640.5\n"
     ]
    }
   ],
   "source": [
    "#duration\n",
    "\n",
    "#outlier treatment-IQR\n",
    "#IQR-for removing outliers\n",
    "dataset = sorted(df_train.duration)\n",
    "q1,q3 = np.percentile(dataset,[25,75])\n",
    "print(q1,q3)\n",
    "iqr = q3 -q1\n",
    "print('Iqr:',iqr)\n",
    "lower_fence = q1 -(1.5*iqr)\n",
    "higher_fence = q3+(1.5*iqr)\n",
    "print('lower_fence =',lower_fence,'higher_fence=',higher_fence)"
   ]
  },
  {
   "cell_type": "code",
   "execution_count": 23,
   "id": "19115e02",
   "metadata": {},
   "outputs": [],
   "source": [
    "df_train['duration'] = np.where(df_train['duration'] > higher_fence, higher_fence, df_train['duration'])"
   ]
  },
  {
   "cell_type": "code",
   "execution_count": 24,
   "id": "e0830108",
   "metadata": {},
   "outputs": [
    {
     "data": {
      "text/plain": [
       "Text(0.5, 1.0, 'Box plot of outliers free-duration')"
      ]
     },
     "execution_count": 24,
     "metadata": {},
     "output_type": "execute_result"
    },
    {
     "data": {
      "image/png": "[encoded data removed]",
      "text/plain": [
       "<Figure size 432x288 with 1 Axes>"
      ]
     },
     "metadata": {
      "needs_background": "light"
     },
     "output_type": "display_data"
    }
   ],
   "source": [
    "sns.boxplot(x=df_train.duration,data=df_train)\n",
    "plt.title('Box plot of outliers free-duration') "
   ]
  },
  {
   "cell_type": "code",
   "execution_count": 25,
   "id": "29f876c0",
   "metadata": {},
   "outputs": [
    {
     "name": "stdout",
     "output_type": "stream",
     "text": [
      "1.0 3.0\n",
      "Iqr: 2.0\n",
      "lower_fence = -2.0 higher_fence= 6.0\n"
     ]
    }
   ],
   "source": [
    "#campaign\n",
    "#outlier treatment-IQR\n",
    "#IQR-for removing outliers\n",
    "dataset = sorted(df_train.campaign)\n",
    "q1,q3 = np.percentile(dataset,[25,75])\n",
    "print(q1,q3)\n",
    "iqr = q3 -q1\n",
    "print('Iqr:',iqr)\n",
    "lower_fence = q1 -(1.5*iqr)\n",
    "higher_fence = q3+(1.5*iqr)\n",
    "print('lower_fence =',lower_fence,'higher_fence=',higher_fence)"
   ]
  },
  {
   "cell_type": "code",
   "execution_count": 26,
   "id": "b9495ee4",
   "metadata": {},
   "outputs": [],
   "source": [
    "df_train.campaign = np.where(df_train.campaign>higher_fence,higher_fence,df_train.campaign)"
   ]
  },
  {
   "cell_type": "code",
   "execution_count": 27,
   "id": "59387822",
   "metadata": {},
   "outputs": [
    {
     "data": {
      "text/plain": [
       "Text(0.5, 1.0, 'Box plot of outliers free-campaign')"
      ]
     },
     "execution_count": 27,
     "metadata": {},
     "output_type": "execute_result"
    },
    {
     "data": {
      "image/png": "[encoded data removed]",
      "text/plain": [
       "<Figure size 432x288 with 1 Axes>"
      ]
     },
     "metadata": {
      "needs_background": "light"
     },
     "output_type": "display_data"
    }
   ],
   "source": [
    "sns.boxplot(x=df_train.campaign,data=df_train)\n",
    "plt.title('Box plot of outliers free-campaign') \n"
   ]
  },
  {
   "cell_type": "code",
   "execution_count": 28,
   "id": "b8e5f650",
   "metadata": {},
   "outputs": [
    {
     "name": "stdout",
     "output_type": "stream",
     "text": [
      "-1.0 -1.0\n",
      "Iqr: 0.0\n",
      "lower_fence = -1.0 higher_fence= -1.0\n"
     ]
    }
   ],
   "source": [
    "#pdays\n",
    "\n",
    "#outlier treatment-IQR\n",
    "#IQR-for removing outliers\n",
    "dataset = sorted(df_train.pdays)\n",
    "q1,q3 = np.percentile(dataset,[25,75])\n",
    "print(q1,q3)\n",
    "iqr = q3 -q1\n",
    "print('Iqr:',iqr)\n",
    "lower_fence = q1 -(1.5*iqr)\n",
    "higher_fence = q3+(1.5*iqr)\n",
    "print('lower_fence =',lower_fence,'higher_fence=',higher_fence)"
   ]
  },
  {
   "cell_type": "code",
   "execution_count": 29,
   "id": "7e3eb3ed",
   "metadata": {},
   "outputs": [],
   "source": [
    "df_train.pdays = np.where(df_train.pdays>higher_fence,higher_fence,df_train.pdays)"
   ]
  },
  {
   "cell_type": "code",
   "execution_count": 30,
   "id": "0390854f",
   "metadata": {},
   "outputs": [
    {
     "data": {
      "text/plain": [
       "Text(0.5, 1.0, 'Box plot of outliers free-pdays')"
      ]
     },
     "execution_count": 30,
     "metadata": {},
     "output_type": "execute_result"
    },
    {
     "data": {
      "image/png": "[encoded data removed]",
      "text/plain": [
       "<Figure size 432x288 with 1 Axes>"
      ]
     },
     "metadata": {
      "needs_background": "light"
     },
     "output_type": "display_data"
    }
   ],
   "source": [
    "sns.boxplot(x=df_train.pdays,data=df_train)\n",
    "plt.title('Box plot of outliers free-pdays') \n"
   ]
  },
  {
   "cell_type": "markdown",
   "id": "060a3afd",
   "metadata": {},
   "source": [
    "#\"pdays\" doesnt provide any relevant information,while checking corralation,if it hasnt any significance we may remove this variable"
   ]
  },
  {
   "cell_type": "code",
   "execution_count": 31,
   "id": "501cb4f8",
   "metadata": {},
   "outputs": [
    {
     "name": "stdout",
     "output_type": "stream",
     "text": [
      "0.0 0.0\n",
      "Iqr: 0.0\n",
      "lower_fence = 0.0 higher_fence= 0.0\n"
     ]
    }
   ],
   "source": [
    "#previous\n",
    "\n",
    "\n",
    "#outlier treatment-IQR\n",
    "#IQR-for removing outliers\n",
    "dataset = sorted(df_train.previous)\n",
    "q1,q3 = np.percentile(dataset,[25,75])\n",
    "print(q1,q3)\n",
    "iqr = q3 -q1\n",
    "print('Iqr:',iqr)\n",
    "lower_fence = q1 -(1.5*iqr)\n",
    "higher_fence = q3+(1.5*iqr)\n",
    "print('lower_fence =',lower_fence,'higher_fence=',higher_fence)"
   ]
  },
  {
   "cell_type": "code",
   "execution_count": 32,
   "id": "a99b49c7",
   "metadata": {},
   "outputs": [],
   "source": [
    "df_train.previous = np.where(df_train.previous>higher_fence,higher_fence,df_train.previous)"
   ]
  },
  {
   "cell_type": "code",
   "execution_count": 33,
   "id": "c46ff8ef",
   "metadata": {},
   "outputs": [
    {
     "data": {
      "text/plain": [
       "Text(0.5, 1.0, 'Box plot of outliers free-previous')"
      ]
     },
     "execution_count": 33,
     "metadata": {},
     "output_type": "execute_result"
    },
    {
     "data": {
      "image/png": "[encoded data removed]",
      "text/plain": [
       "<Figure size 432x288 with 1 Axes>"
      ]
     },
     "metadata": {
      "needs_background": "light"
     },
     "output_type": "display_data"
    }
   ],
   "source": [
    "sns.boxplot(x=df_train.previous,data=df_train)\n",
    "plt.title('Box plot of outliers free-previous') "
   ]
  },
  {
   "cell_type": "markdown",
   "id": "ce52e3e6",
   "metadata": {},
   "source": [
    "#\"previous\" is not providing any relevant information and is showing same behaviour as\"pdays\"."
   ]
  },
  {
   "cell_type": "code",
   "execution_count": 34,
   "id": "4f9d1a54",
   "metadata": {},
   "outputs": [
    {
     "name": "stdout",
     "output_type": "stream",
     "text": [
      "               age   balance       day  duration  campaign  previous     pdays\n",
      "age       1.000000  0.102939 -0.008155 -0.004268  0.008213  0.003809 -0.022193\n",
      "balance   0.102939  1.000000  0.004267  0.021571 -0.012657  0.013100  0.000708\n",
      "day      -0.008155  0.004267  1.000000 -0.030962  0.161459 -0.050045 -0.089750\n",
      "duration -0.004268  0.021571 -0.030962  1.000000 -0.082323 -0.002274 -0.003559\n",
      "campaign  0.008213 -0.012657  0.161459 -0.082323  1.000000 -0.030655 -0.087911\n",
      "previous  0.003809  0.013100 -0.050045 -0.002274 -0.030655  1.000000  0.436730\n",
      "pdays    -0.022193  0.000708 -0.089750 -0.003559 -0.087911  0.436730  1.000000\n"
     ]
    },
    {
     "data": {
      "text/plain": [
       "<AxesSubplot:>"
      ]
     },
     "execution_count": 34,
     "metadata": {},
     "output_type": "execute_result"
    },
    {
     "data": {
      "image/png": "[encoded data removed]",
      "text/plain": [
       "<Figure size 432x288 with 2 Axes>"
      ]
     },
     "metadata": {
      "needs_background": "light"
     },
     "output_type": "display_data"
    }
   ],
   "source": [
    "print(df_numerical.corr())\n",
    "sns.heatmap(df_numerical.corr())"
   ]
  },
  {
   "cell_type": "markdown",
   "id": "8d30a954",
   "metadata": {},
   "source": [
    "#As shown in the above heatmap previous & pdays show some kind of correlation\n",
    "\n"
   ]
  },
  {
   "cell_type": "markdown",
   "id": "6e9c3dbe",
   "metadata": {},
   "source": [
    "### 2.DATA MANIPULATION"
   ]
  },
  {
   "cell_type": "code",
   "execution_count": 35,
   "id": "075b9305",
   "metadata": {},
   "outputs": [],
   "source": [
    "#changing required catagorical values \n",
    "df_train['job'].replace('admin.','admin',inplace=True)"
   ]
  },
  {
   "cell_type": "code",
   "execution_count": 36,
   "id": "16292707",
   "metadata": {},
   "outputs": [],
   "source": [
    "df_train['job'].replace('blue-collar','blue collar',inplace=True)"
   ]
  },
  {
   "cell_type": "code",
   "execution_count": 37,
   "id": "f3b90ef1",
   "metadata": {
    "scrolled": false
   },
   "outputs": [
    {
     "data": {
      "text/html": [
       "<div>\n",
       "<style scoped>\n",
       "    .dataframe tbody tr th:only-of-type {\n",
       "        vertical-align: middle;\n",
       "    }\n",
       "\n",
       "    .dataframe tbody tr th {\n",
       "        vertical-align: top;\n",
       "    }\n",
       "\n",
       "    .dataframe thead th {\n",
       "        text-align: right;\n",
       "    }\n",
       "</style>\n",
       "<table border=\"1\" class=\"dataframe\">\n",
       "  <thead>\n",
       "    <tr style=\"text-align: right;\">\n",
       "      <th></th>\n",
       "      <th>age</th>\n",
       "      <th>job</th>\n",
       "      <th>marital</th>\n",
       "      <th>education</th>\n",
       "      <th>default</th>\n",
       "      <th>balance</th>\n",
       "      <th>housing</th>\n",
       "      <th>loan</th>\n",
       "      <th>contact</th>\n",
       "      <th>day</th>\n",
       "      <th>month</th>\n",
       "      <th>duration</th>\n",
       "      <th>campaign</th>\n",
       "      <th>pdays</th>\n",
       "      <th>previous</th>\n",
       "      <th>poutcome</th>\n",
       "      <th>y</th>\n",
       "    </tr>\n",
       "  </thead>\n",
       "  <tbody>\n",
       "    <tr>\n",
       "      <th>0</th>\n",
       "      <td>58.0</td>\n",
       "      <td>retired</td>\n",
       "      <td>married</td>\n",
       "      <td>secondary</td>\n",
       "      <td>no</td>\n",
       "      <td>166.0</td>\n",
       "      <td>no</td>\n",
       "      <td>yes</td>\n",
       "      <td>unknown</td>\n",
       "      <td>3</td>\n",
       "      <td>jul</td>\n",
       "      <td>211.0</td>\n",
       "      <td>1.0</td>\n",
       "      <td>-1.0</td>\n",
       "      <td>0.0</td>\n",
       "      <td>unknown</td>\n",
       "      <td>no</td>\n",
       "    </tr>\n",
       "    <tr>\n",
       "      <th>1</th>\n",
       "      <td>51.0</td>\n",
       "      <td>blue collar</td>\n",
       "      <td>married</td>\n",
       "      <td>primary</td>\n",
       "      <td>no</td>\n",
       "      <td>2995.0</td>\n",
       "      <td>yes</td>\n",
       "      <td>no</td>\n",
       "      <td>unknown</td>\n",
       "      <td>11</td>\n",
       "      <td>jun</td>\n",
       "      <td>93.0</td>\n",
       "      <td>2.0</td>\n",
       "      <td>-1.0</td>\n",
       "      <td>0.0</td>\n",
       "      <td>unknown</td>\n",
       "      <td>no</td>\n",
       "    </tr>\n",
       "    <tr>\n",
       "      <th>2</th>\n",
       "      <td>50.0</td>\n",
       "      <td>management</td>\n",
       "      <td>married</td>\n",
       "      <td>tertiary</td>\n",
       "      <td>no</td>\n",
       "      <td>569.0</td>\n",
       "      <td>no</td>\n",
       "      <td>yes</td>\n",
       "      <td>cellular</td>\n",
       "      <td>18</td>\n",
       "      <td>aug</td>\n",
       "      <td>452.0</td>\n",
       "      <td>4.0</td>\n",
       "      <td>-1.0</td>\n",
       "      <td>0.0</td>\n",
       "      <td>unknown</td>\n",
       "      <td>no</td>\n",
       "    </tr>\n",
       "    <tr>\n",
       "      <th>3</th>\n",
       "      <td>27.0</td>\n",
       "      <td>admin</td>\n",
       "      <td>married</td>\n",
       "      <td>secondary</td>\n",
       "      <td>no</td>\n",
       "      <td>73.0</td>\n",
       "      <td>yes</td>\n",
       "      <td>no</td>\n",
       "      <td>cellular</td>\n",
       "      <td>5</td>\n",
       "      <td>feb</td>\n",
       "      <td>140.0</td>\n",
       "      <td>1.0</td>\n",
       "      <td>-1.0</td>\n",
       "      <td>0.0</td>\n",
       "      <td>unknown</td>\n",
       "      <td>no</td>\n",
       "    </tr>\n",
       "    <tr>\n",
       "      <th>4</th>\n",
       "      <td>38.0</td>\n",
       "      <td>self-employed</td>\n",
       "      <td>divorced</td>\n",
       "      <td>tertiary</td>\n",
       "      <td>no</td>\n",
       "      <td>3464.0</td>\n",
       "      <td>no</td>\n",
       "      <td>no</td>\n",
       "      <td>cellular</td>\n",
       "      <td>12</td>\n",
       "      <td>jan</td>\n",
       "      <td>296.0</td>\n",
       "      <td>1.0</td>\n",
       "      <td>-1.0</td>\n",
       "      <td>0.0</td>\n",
       "      <td>unknown</td>\n",
       "      <td>no</td>\n",
       "    </tr>\n",
       "  </tbody>\n",
       "</table>\n",
       "</div>"
      ],
      "text/plain": [
       "    age            job   marital  education default  balance housing loan  \\\n",
       "0  58.0        retired   married  secondary      no    166.0      no  yes   \n",
       "1  51.0    blue collar   married    primary      no   2995.0     yes   no   \n",
       "2  50.0     management   married   tertiary      no    569.0      no  yes   \n",
       "3  27.0          admin   married  secondary      no     73.0     yes   no   \n",
       "4  38.0  self-employed  divorced   tertiary      no   3464.0      no   no   \n",
       "\n",
       "    contact  day month  duration  campaign  pdays  previous poutcome   y  \n",
       "0   unknown    3   jul     211.0       1.0   -1.0       0.0  unknown  no  \n",
       "1   unknown   11   jun      93.0       2.0   -1.0       0.0  unknown  no  \n",
       "2  cellular   18   aug     452.0       4.0   -1.0       0.0  unknown  no  \n",
       "3  cellular    5   feb     140.0       1.0   -1.0       0.0  unknown  no  \n",
       "4  cellular   12   jan     296.0       1.0   -1.0       0.0  unknown  no  "
      ]
     },
     "execution_count": 37,
     "metadata": {},
     "output_type": "execute_result"
    }
   ],
   "source": [
    "df_train.head()"
   ]
  },
  {
   "cell_type": "markdown",
   "id": "8066c73e",
   "metadata": {},
   "source": [
    "#### Checking categorical variables."
   ]
  },
  {
   "cell_type": "code",
   "execution_count": 38,
   "id": "25976fda",
   "metadata": {},
   "outputs": [],
   "source": [
    "df_categorical = df_train[['job', 'marital', 'education', 'default','housing','loan', 'contact','month','poutcome']]"
   ]
  },
  {
   "cell_type": "code",
   "execution_count": 39,
   "id": "74f5078a",
   "metadata": {},
   "outputs": [
    {
     "name": "stderr",
     "output_type": "stream",
     "text": [
      "C:\\Users\\Admin\\anaconda3\\lib\\site-packages\\seaborn\\_decorators.py:36: FutureWarning: Pass the following variables as keyword args: x, y. From version 0.12, the only valid positional argument will be `data`, and passing other arguments without an explicit keyword will result in an error or misinterpretation.\n",
      "  warnings.warn(\n"
     ]
    },
    {
     "data": {
      "image/png": "[encoded data removed]",
      "text/plain": [
       "<Figure size 432x288 with 1 Axes>"
      ]
     },
     "metadata": {
      "needs_background": "light"
     },
     "output_type": "display_data"
    },
    {
     "name": "stderr",
     "output_type": "stream",
     "text": [
      "C:\\Users\\Admin\\anaconda3\\lib\\site-packages\\seaborn\\_decorators.py:36: FutureWarning: Pass the following variables as keyword args: x, y. From version 0.12, the only valid positional argument will be `data`, and passing other arguments without an explicit keyword will result in an error or misinterpretation.\n",
      "  warnings.warn(\n"
     ]
    },
    {
     "data": {
      "image/png": "[encoded data removed]",
      "text/plain": [
       "<Figure size 432x288 with 1 Axes>"
      ]
     },
     "metadata": {
      "needs_background": "light"
     },
     "output_type": "display_data"
    },
    {
     "name": "stderr",
     "output_type": "stream",
     "text": [
      "C:\\Users\\Admin\\anaconda3\\lib\\site-packages\\seaborn\\_decorators.py:36: FutureWarning: Pass the following variables as keyword args: x, y. From version 0.12, the only valid positional argument will be `data`, and passing other arguments without an explicit keyword will result in an error or misinterpretation.\n",
      "  warnings.warn(\n"
     ]
    },
    {
     "data": {
      "image/png": "[encoded data removed]",
      "text/plain": [
       "<Figure size 432x288 with 1 Axes>"
      ]
     },
     "metadata": {
      "needs_background": "light"
     },
     "output_type": "display_data"
    },
    {
     "name": "stderr",
     "output_type": "stream",
     "text": [
      "C:\\Users\\Admin\\anaconda3\\lib\\site-packages\\seaborn\\_decorators.py:36: FutureWarning: Pass the following variables as keyword args: x, y. From version 0.12, the only valid positional argument will be `data`, and passing other arguments without an explicit keyword will result in an error or misinterpretation.\n",
      "  warnings.warn(\n"
     ]
    },
    {
     "data": {
      "image/png": "[encoded data removed]",
      "text/plain": [
       "<Figure size 432x288 with 1 Axes>"
      ]
     },
     "metadata": {
      "needs_background": "light"
     },
     "output_type": "display_data"
    },
    {
     "name": "stderr",
     "output_type": "stream",
     "text": [
      "C:\\Users\\Admin\\anaconda3\\lib\\site-packages\\seaborn\\_decorators.py:36: FutureWarning: Pass the following variables as keyword args: x, y. From version 0.12, the only valid positional argument will be `data`, and passing other arguments without an explicit keyword will result in an error or misinterpretation.\n",
      "  warnings.warn(\n"
     ]
    },
    {
     "data": {
      "image/png": "[encoded data removed]",
      "text/plain": [
       "<Figure size 432x288 with 1 Axes>"
      ]
     },
     "metadata": {
      "needs_background": "light"
     },
     "output_type": "display_data"
    },
    {
     "name": "stderr",
     "output_type": "stream",
     "text": [
      "C:\\Users\\Admin\\anaconda3\\lib\\site-packages\\seaborn\\_decorators.py:36: FutureWarning: Pass the following variables as keyword args: x, y. From version 0.12, the only valid positional argument will be `data`, and passing other arguments without an explicit keyword will result in an error or misinterpretation.\n",
      "  warnings.warn(\n"
     ]
    },
    {
     "data": {
      "image/png": "[encoded data removed]",
      "text/plain": [
       "<Figure size 432x288 with 1 Axes>"
      ]
     },
     "metadata": {
      "needs_background": "light"
     },
     "output_type": "display_data"
    },
    {
     "name": "stderr",
     "output_type": "stream",
     "text": [
      "C:\\Users\\Admin\\anaconda3\\lib\\site-packages\\seaborn\\_decorators.py:36: FutureWarning: Pass the following variables as keyword args: x, y. From version 0.12, the only valid positional argument will be `data`, and passing other arguments without an explicit keyword will result in an error or misinterpretation.\n",
      "  warnings.warn(\n"
     ]
    },
    {
     "data": {
      "image/png": "[encoded data removed]",
      "text/plain": [
       "<Figure size 432x288 with 1 Axes>"
      ]
     },
     "metadata": {
      "needs_background": "light"
     },
     "output_type": "display_data"
    },
    {
     "name": "stderr",
     "output_type": "stream",
     "text": [
      "C:\\Users\\Admin\\anaconda3\\lib\\site-packages\\seaborn\\_decorators.py:36: FutureWarning: Pass the following variables as keyword args: x, y. From version 0.12, the only valid positional argument will be `data`, and passing other arguments without an explicit keyword will result in an error or misinterpretation.\n",
      "  warnings.warn(\n"
     ]
    },
    {
     "data": {
      "image/png": "[encoded data removed]",
      "text/plain": [
       "<Figure size 432x288 with 1 Axes>"
      ]
     },
     "metadata": {
      "needs_background": "light"
     },
     "output_type": "display_data"
    },
    {
     "name": "stderr",
     "output_type": "stream",
     "text": [
      "C:\\Users\\Admin\\anaconda3\\lib\\site-packages\\seaborn\\_decorators.py:36: FutureWarning: Pass the following variables as keyword args: x, y. From version 0.12, the only valid positional argument will be `data`, and passing other arguments without an explicit keyword will result in an error or misinterpretation.\n",
      "  warnings.warn(\n"
     ]
    },
    {
     "data": {
      "image/png": "[encoded data removed]",
      "text/plain": [
       "<Figure size 432x288 with 1 Axes>"
      ]
     },
     "metadata": {
      "needs_background": "light"
     },
     "output_type": "display_data"
    }
   ],
   "source": [
    "for i in df_categorical.columns:\n",
    "    sns.barplot(df_categorical[i].value_counts().index,df_categorical[i].value_counts()).set_title(i)\n",
    "    plt.show()"
   ]
  },
  {
   "cell_type": "markdown",
   "id": "5cf3e231",
   "metadata": {},
   "source": [
    "## Bivariate Analysis"
   ]
  },
  {
   "cell_type": "code",
   "execution_count": 40,
   "id": "76a40a9c",
   "metadata": {},
   "outputs": [
    {
     "data": {
      "text/plain": [
       "<AxesSubplot:xlabel='count', ylabel='education'>"
      ]
     },
     "execution_count": 40,
     "metadata": {},
     "output_type": "execute_result"
    },
    {
     "data": {
      "image/png": "[encoded data removed]",
      "text/plain": [
       "<Figure size 432x288 with 1 Axes>"
      ]
     },
     "metadata": {
      "needs_background": "light"
     },
     "output_type": "display_data"
    }
   ],
   "source": [
    "sns.countplot(y ='education', hue = \"housing\", data = df_train)"
   ]
  },
  {
   "cell_type": "markdown",
   "id": "b068d5a4",
   "metadata": {},
   "source": [
    "#People with secondary education and tertiary education top the list of housing loan."
   ]
  },
  {
   "cell_type": "code",
   "execution_count": 41,
   "id": "ffaa2d61",
   "metadata": {},
   "outputs": [
    {
     "data": {
      "text/plain": [
       "<AxesSubplot:xlabel='count', ylabel='marital'>"
      ]
     },
     "execution_count": 41,
     "metadata": {},
     "output_type": "execute_result"
    },
    {
     "data": {
      "image/png": "[encoded data removed]",
      "text/plain": [
       "<Figure size 432x288 with 1 Axes>"
      ]
     },
     "metadata": {
      "needs_background": "light"
     },
     "output_type": "display_data"
    }
   ],
   "source": [
    "sns.countplot(y ='marital', hue = \"loan\", data = df_train)"
   ]
  },
  {
   "cell_type": "markdown",
   "id": "454f9d03",
   "metadata": {},
   "source": [
    "#Majority of the people dont have any personal loan.high number of personal loans holders belong to married catogory."
   ]
  },
  {
   "cell_type": "code",
   "execution_count": 42,
   "id": "d039a3fd",
   "metadata": {},
   "outputs": [
    {
     "data": {
      "text/plain": [
       "<AxesSubplot:xlabel='y', ylabel='balance'>"
      ]
     },
     "execution_count": 42,
     "metadata": {},
     "output_type": "execute_result"
    },
    {
     "data": {
      "image/png": "[encoded data removed]",
      "text/plain": [
       "<Figure size 432x288 with 1 Axes>"
      ]
     },
     "metadata": {
      "needs_background": "light"
     },
     "output_type": "display_data"
    }
   ],
   "source": [
    "sns.stripplot(y='balance',x='y',data =df_train)"
   ]
  },
  {
   "cell_type": "markdown",
   "id": "6c275e27",
   "metadata": {},
   "source": [
    "#negative balance account holders are in more number and are non subscribers.We also see few subscribers with negative balance."
   ]
  },
  {
   "cell_type": "code",
   "execution_count": 43,
   "id": "9a2eb1d9",
   "metadata": {},
   "outputs": [
    {
     "data": {
      "text/plain": [
       "<AxesSubplot:xlabel='marital', ylabel='age'>"
      ]
     },
     "execution_count": 43,
     "metadata": {},
     "output_type": "execute_result"
    },
    {
     "data": {
      "image/png": "[encoded data removed]",
      "text/plain": [
       "<Figure size 432x288 with 1 Axes>"
      ]
     },
     "metadata": {
      "needs_background": "light"
     },
     "output_type": "display_data"
    }
   ],
   "source": [
    "sns.stripplot(y='age',x='marital',data =df_train)"
   ]
  },
  {
   "cell_type": "markdown",
   "id": "d9338823",
   "metadata": {},
   "source": [
    "#People in the age group of 25 to 70 are mostly married. Divocees and single people are less in age range of 60 & 70."
   ]
  },
  {
   "cell_type": "markdown",
   "id": "dfad8516",
   "metadata": {},
   "source": [
    "## Multivariate Analysis"
   ]
  },
  {
   "cell_type": "markdown",
   "id": "2c1b8f03",
   "metadata": {},
   "source": [
    "#Ploting pivot tables to  see Target Variable counts in heap of multiple variables ."
   ]
  },
  {
   "cell_type": "code",
   "execution_count": 44,
   "id": "41ab1e9f",
   "metadata": {},
   "outputs": [
    {
     "data": {
      "text/html": [
       "<div>\n",
       "<style scoped>\n",
       "    .dataframe tbody tr th:only-of-type {\n",
       "        vertical-align: middle;\n",
       "    }\n",
       "\n",
       "    .dataframe tbody tr th {\n",
       "        vertical-align: top;\n",
       "    }\n",
       "\n",
       "    .dataframe thead th {\n",
       "        text-align: right;\n",
       "    }\n",
       "</style>\n",
       "<table border=\"1\" class=\"dataframe\">\n",
       "  <thead>\n",
       "    <tr style=\"text-align: right;\">\n",
       "      <th></th>\n",
       "      <th>age</th>\n",
       "      <th>balance</th>\n",
       "      <th>campaign</th>\n",
       "      <th>day</th>\n",
       "      <th>duration</th>\n",
       "      <th>previous</th>\n",
       "    </tr>\n",
       "    <tr>\n",
       "      <th>y</th>\n",
       "      <th></th>\n",
       "      <th></th>\n",
       "      <th></th>\n",
       "      <th></th>\n",
       "      <th></th>\n",
       "      <th></th>\n",
       "    </tr>\n",
       "  </thead>\n",
       "  <tbody>\n",
       "    <tr>\n",
       "      <th>no</th>\n",
       "      <td>40.817892</td>\n",
       "      <td>896.707926</td>\n",
       "      <td>2.436659</td>\n",
       "      <td>15.887679</td>\n",
       "      <td>209.276293</td>\n",
       "      <td>0.0</td>\n",
       "    </tr>\n",
       "    <tr>\n",
       "      <th>yes</th>\n",
       "      <td>41.503151</td>\n",
       "      <td>1234.701034</td>\n",
       "      <td>2.031258</td>\n",
       "      <td>15.170406</td>\n",
       "      <td>424.344467</td>\n",
       "      <td>0.0</td>\n",
       "    </tr>\n",
       "  </tbody>\n",
       "</table>\n",
       "</div>"
      ],
      "text/plain": [
       "           age      balance  campaign        day    duration  previous\n",
       "y                                                                     \n",
       "no   40.817892   896.707926  2.436659  15.887679  209.276293       0.0\n",
       "yes  41.503151  1234.701034  2.031258  15.170406  424.344467       0.0"
      ]
     },
     "execution_count": 44,
     "metadata": {},
     "output_type": "execute_result"
    }
   ],
   "source": [
    "pd.pivot_table (df_train, index = \"y\", values = ['age','balance','day','duration','campaign','previous'])"
   ]
  },
  {
   "cell_type": "code",
   "execution_count": 45,
   "id": "5e9ed6e0",
   "metadata": {},
   "outputs": [
    {
     "data": {
      "text/html": [
       "<div>\n",
       "<style scoped>\n",
       "    .dataframe tbody tr th:only-of-type {\n",
       "        vertical-align: middle;\n",
       "    }\n",
       "\n",
       "    .dataframe tbody tr th {\n",
       "        vertical-align: top;\n",
       "    }\n",
       "\n",
       "    .dataframe thead th {\n",
       "        text-align: right;\n",
       "    }\n",
       "</style>\n",
       "<table border=\"1\" class=\"dataframe\">\n",
       "  <thead>\n",
       "    <tr style=\"text-align: right;\">\n",
       "      <th>marital</th>\n",
       "      <th>divorced</th>\n",
       "      <th>married</th>\n",
       "      <th>single</th>\n",
       "    </tr>\n",
       "    <tr>\n",
       "      <th>y</th>\n",
       "      <th></th>\n",
       "      <th></th>\n",
       "      <th></th>\n",
       "    </tr>\n",
       "  </thead>\n",
       "  <tbody>\n",
       "    <tr>\n",
       "      <th>no</th>\n",
       "      <td>3440</td>\n",
       "      <td>18320</td>\n",
       "      <td>8181</td>\n",
       "    </tr>\n",
       "    <tr>\n",
       "      <th>yes</th>\n",
       "      <td>468</td>\n",
       "      <td>2079</td>\n",
       "      <td>1420</td>\n",
       "    </tr>\n",
       "  </tbody>\n",
       "</table>\n",
       "</div>"
      ],
      "text/plain": [
       "marital  divorced  married  single\n",
       "y                                 \n",
       "no           3440    18320    8181\n",
       "yes           468     2079    1420"
      ]
     },
     "execution_count": 45,
     "metadata": {},
     "output_type": "execute_result"
    }
   ],
   "source": [
    "pd.pivot_table(df_train, index = 'y', columns = 'marital', values = 'balance', aggfunc = 'count')"
   ]
  },
  {
   "cell_type": "code",
   "execution_count": 46,
   "id": "88b3e50a",
   "metadata": {},
   "outputs": [
    {
     "data": {
      "text/html": [
       "<div>\n",
       "<style scoped>\n",
       "    .dataframe tbody tr th:only-of-type {\n",
       "        vertical-align: middle;\n",
       "    }\n",
       "\n",
       "    .dataframe tbody tr th {\n",
       "        vertical-align: top;\n",
       "    }\n",
       "\n",
       "    .dataframe thead th {\n",
       "        text-align: right;\n",
       "    }\n",
       "</style>\n",
       "<table border=\"1\" class=\"dataframe\">\n",
       "  <thead>\n",
       "    <tr style=\"text-align: right;\">\n",
       "      <th>education</th>\n",
       "      <th>primary</th>\n",
       "      <th>secondary</th>\n",
       "      <th>tertiary</th>\n",
       "      <th>unknown</th>\n",
       "    </tr>\n",
       "    <tr>\n",
       "      <th>y</th>\n",
       "      <th></th>\n",
       "      <th></th>\n",
       "      <th></th>\n",
       "      <th></th>\n",
       "    </tr>\n",
       "  </thead>\n",
       "  <tbody>\n",
       "    <tr>\n",
       "      <th>no</th>\n",
       "      <td>4658</td>\n",
       "      <td>15525</td>\n",
       "      <td>8560</td>\n",
       "      <td>1198</td>\n",
       "    </tr>\n",
       "    <tr>\n",
       "      <th>yes</th>\n",
       "      <td>440</td>\n",
       "      <td>1821</td>\n",
       "      <td>1519</td>\n",
       "      <td>187</td>\n",
       "    </tr>\n",
       "  </tbody>\n",
       "</table>\n",
       "</div>"
      ],
      "text/plain": [
       "education  primary  secondary  tertiary  unknown\n",
       "y                                               \n",
       "no            4658      15525      8560     1198\n",
       "yes            440       1821      1519      187"
      ]
     },
     "execution_count": 46,
     "metadata": {},
     "output_type": "execute_result"
    }
   ],
   "source": [
    "pd.pivot_table(df_train, index = 'y', columns = 'education', values = 'balance' ,aggfunc ='count')"
   ]
  },
  {
   "cell_type": "code",
   "execution_count": 47,
   "id": "a0a20fce",
   "metadata": {},
   "outputs": [
    {
     "data": {
      "text/html": [
       "<div>\n",
       "<style scoped>\n",
       "    .dataframe tbody tr th:only-of-type {\n",
       "        vertical-align: middle;\n",
       "    }\n",
       "\n",
       "    .dataframe tbody tr th {\n",
       "        vertical-align: top;\n",
       "    }\n",
       "\n",
       "    .dataframe thead th {\n",
       "        text-align: right;\n",
       "    }\n",
       "</style>\n",
       "<table border=\"1\" class=\"dataframe\">\n",
       "  <thead>\n",
       "    <tr style=\"text-align: right;\">\n",
       "      <th>housing</th>\n",
       "      <th>no</th>\n",
       "      <th>yes</th>\n",
       "    </tr>\n",
       "    <tr>\n",
       "      <th>y</th>\n",
       "      <th></th>\n",
       "      <th></th>\n",
       "    </tr>\n",
       "  </thead>\n",
       "  <tbody>\n",
       "    <tr>\n",
       "      <th>no</th>\n",
       "      <td>12507</td>\n",
       "      <td>17434</td>\n",
       "    </tr>\n",
       "    <tr>\n",
       "      <th>yes</th>\n",
       "      <td>2485</td>\n",
       "      <td>1482</td>\n",
       "    </tr>\n",
       "  </tbody>\n",
       "</table>\n",
       "</div>"
      ],
      "text/plain": [
       "housing     no    yes\n",
       "y                    \n",
       "no       12507  17434\n",
       "yes       2485   1482"
      ]
     },
     "execution_count": 47,
     "metadata": {},
     "output_type": "execute_result"
    }
   ],
   "source": [
    "pd.pivot_table(df_train, index = 'y', columns = 'housing', values = 'duration' ,aggfunc ='count')"
   ]
  },
  {
   "cell_type": "markdown",
   "id": "247d2769",
   "metadata": {},
   "source": [
    "### 3.Data cleaning"
   ]
  },
  {
   "cell_type": "code",
   "execution_count": 48,
   "id": "65f744b1",
   "metadata": {},
   "outputs": [],
   "source": [
    "#removing \"pdays\" column as it doesnt give any relevant insights or information\n",
    "df_train = df_train.drop(['pdays'], axis = 1)"
   ]
  },
  {
   "cell_type": "markdown",
   "id": "5e5067e9",
   "metadata": {},
   "source": [
    "### 4.Feature engineering"
   ]
  },
  {
   "cell_type": "code",
   "execution_count": 49,
   "id": "b505a4ea",
   "metadata": {},
   "outputs": [
    {
     "data": {
      "text/plain": [
       "array([0, 1])"
      ]
     },
     "execution_count": 49,
     "metadata": {},
     "output_type": "execute_result"
    }
   ],
   "source": [
    "#label encoding in target variable column\n",
    "# Encode labels in column 'y'.\n",
    "from sklearn import preprocessing\n",
    "label_encoder = preprocessing.LabelEncoder()\n",
    "df_train['y']= label_encoder.fit_transform(df_train['y'])\n",
    "  \n",
    "df_train['y'].unique()"
   ]
  },
  {
   "cell_type": "markdown",
   "id": "1f20d300",
   "metadata": {},
   "source": [
    "## 5.Splitting Data"
   ]
  },
  {
   "cell_type": "code",
   "execution_count": 50,
   "id": "cba3ea5b",
   "metadata": {},
   "outputs": [],
   "source": [
    "###Splitting Dataset\n",
    "X = df_train.drop(\"y\", axis=1)\n",
    "Y = df_train[\"y\"]"
   ]
  },
  {
   "cell_type": "code",
   "execution_count": 51,
   "id": "ddb8ef67",
   "metadata": {},
   "outputs": [
    {
     "data": {
      "text/plain": [
       "(33908, 15)"
      ]
     },
     "execution_count": 51,
     "metadata": {},
     "output_type": "execute_result"
    }
   ],
   "source": [
    "X.shape"
   ]
  },
  {
   "cell_type": "code",
   "execution_count": 52,
   "id": "fec24483",
   "metadata": {},
   "outputs": [
    {
     "data": {
      "text/plain": [
       "(33908,)"
      ]
     },
     "execution_count": 52,
     "metadata": {},
     "output_type": "execute_result"
    }
   ],
   "source": [
    "Y.shape"
   ]
  },
  {
   "cell_type": "code",
   "execution_count": 53,
   "id": "c1b833a7",
   "metadata": {},
   "outputs": [],
   "source": [
    "from sklearn.model_selection import train_test_split\n",
    "X_train, X_test, Y_train, Y_test = train_test_split(X, Y, test_size=0.3, random_state=101)"
   ]
  },
  {
   "cell_type": "markdown",
   "id": "8d424d5e",
   "metadata": {},
   "source": [
    "### 6.Feature engineering using Pipeline"
   ]
  },
  {
   "cell_type": "code",
   "execution_count": 54,
   "id": "6c5d0b6c",
   "metadata": {},
   "outputs": [],
   "source": [
    "numeric_features = ['age','balance','day','duration','campaign','previous']"
   ]
  },
  {
   "cell_type": "code",
   "execution_count": 55,
   "id": "f48505d2",
   "metadata": {},
   "outputs": [],
   "source": [
    "from sklearn.pipeline import Pipeline\n",
    "from sklearn.preprocessing import StandardScaler\n",
    "from sklearn import preprocessing"
   ]
  },
  {
   "cell_type": "code",
   "execution_count": 56,
   "id": "467f8285",
   "metadata": {},
   "outputs": [],
   "source": [
    "#Preprocessing for numerical data\n",
    "from sklearn.impute import SimpleImputer\n",
    "numerical_transformer = SimpleImputer(strategy='median')"
   ]
  },
  {
   "cell_type": "code",
   "execution_count": 57,
   "id": "24a99866",
   "metadata": {},
   "outputs": [],
   "source": [
    "#Preprocessing for categorical data\n",
    "#from sklearn.preprocessing import OneHotEncoder\n",
    "#categorical_transformer = Pipeline(steps=[\n",
    "#('imputer', SimpleImputer(strategy='most_frequent')),\n",
    "#('one_hot_encoder', OneHotEncoder(sparse=False))\n",
    "#])"
   ]
  },
  {
   "cell_type": "code",
   "execution_count": 58,
   "id": "de88a43b",
   "metadata": {},
   "outputs": [],
   "source": [
    "#Preprocessing for categorical data\n",
    "from sklearn.preprocessing import OneHotEncoder\n",
    "categorical_transformer = Pipeline(steps=[\n",
    "('imputer', SimpleImputer(strategy='most_frequent')),\n",
    "('one_hot_encoder', OneHotEncoder(handle_unknown='ignore'))\n",
    "])"
   ]
  },
  {
   "cell_type": "code",
   "execution_count": 59,
   "id": "1d69da94",
   "metadata": {},
   "outputs": [],
   "source": [
    "#Bundle preprocessing for numerical and categorical data\n",
    "from sklearn.compose import ColumnTransformer\n",
    "categorical_features = ['job', 'marital', 'education', 'default','housing','loan', 'contact','month','poutcome']\n",
    "numeric_features = ['age','balance','day','duration','campaign','previous']\n",
    "preprocessor = ColumnTransformer(\n",
    "transformers=[\n",
    "('num', numerical_transformer, numeric_features),\n",
    "('cat', categorical_transformer, categorical_features)\n",
    "])"
   ]
  },
  {
   "cell_type": "markdown",
   "id": "7ecdbc2a",
   "metadata": {},
   "source": [
    "### 7.Model Building"
   ]
  },
  {
   "cell_type": "code",
   "execution_count": 60,
   "id": "e20e91a6",
   "metadata": {},
   "outputs": [],
   "source": [
    "#Define model\n",
    "from sklearn.ensemble import RandomForestClassifier\n",
    "model_final = RandomForestClassifier(n_estimators=100, random_state=10)"
   ]
  },
  {
   "cell_type": "code",
   "execution_count": 61,
   "id": "f3c8e24d",
   "metadata": {},
   "outputs": [],
   "source": [
    "#Bundle preprocessing and modeling code in a pipeline##worked&\n",
    "my_pipeline_final = Pipeline(steps=[('preprocessor', preprocessor),\n",
    "('model', model_final)\n",
    "])\n"
   ]
  },
  {
   "cell_type": "code",
   "execution_count": 62,
   "id": "99656b91",
   "metadata": {},
   "outputs": [
    {
     "data": {
      "text/plain": [
       "Pipeline(steps=[('preprocessor',\n",
       "                 ColumnTransformer(transformers=[('num',\n",
       "                                                  SimpleImputer(strategy='median'),\n",
       "                                                  ['age', 'balance', 'day',\n",
       "                                                   'duration', 'campaign',\n",
       "                                                   'previous']),\n",
       "                                                 ('cat',\n",
       "                                                  Pipeline(steps=[('imputer',\n",
       "                                                                   SimpleImputer(strategy='most_frequent')),\n",
       "                                                                  ('one_hot_encoder',\n",
       "                                                                   OneHotEncoder(handle_unknown='ignore'))]),\n",
       "                                                  ['job', 'marital',\n",
       "                                                   'education', 'default',\n",
       "                                                   'housing', 'loan', 'contact',\n",
       "                                                   'month', 'poutcome'])])),\n",
       "                ('model', RandomForestClassifier(random_state=10))])"
      ]
     },
     "execution_count": 62,
     "metadata": {},
     "output_type": "execute_result"
    }
   ],
   "source": [
    "#Preprocessing of training data, fit model\n",
    "my_pipeline_final.fit(X_train, Y_train)"
   ]
  },
  {
   "cell_type": "code",
   "execution_count": 63,
   "id": "fa6ccd39",
   "metadata": {},
   "outputs": [],
   "source": [
    "#Preprocessing of validation data, get predictions\n",
    "preds_final = my_pipeline_final.predict(X_test)"
   ]
  },
  {
   "cell_type": "code",
   "execution_count": 64,
   "id": "2bf15f06",
   "metadata": {},
   "outputs": [],
   "source": [
    "#model_rf_trail2.fit(X_train, Y_train)"
   ]
  },
  {
   "cell_type": "code",
   "execution_count": 65,
   "id": "047a7063",
   "metadata": {},
   "outputs": [],
   "source": [
    "#Preprocessing of validation data, get predictions\n",
    "#preds_trial = model_rf_trail2.predict(X_test)"
   ]
  },
  {
   "cell_type": "code",
   "execution_count": 66,
   "id": "5aa23e76",
   "metadata": {},
   "outputs": [],
   "source": [
    "from sklearn.metrics import mean_absolute_error\n",
    "score_final = mean_absolute_error(Y_test, preds_final)"
   ]
  },
  {
   "cell_type": "code",
   "execution_count": 67,
   "id": "87ab4d9a",
   "metadata": {},
   "outputs": [
    {
     "data": {
      "text/plain": [
       "0.09525213801238573"
      ]
     },
     "execution_count": 67,
     "metadata": {},
     "output_type": "execute_result"
    }
   ],
   "source": [
    "score_final"
   ]
  },
  {
   "cell_type": "markdown",
   "id": "a941c0ba",
   "metadata": {},
   "source": [
    "### 8.Checking accuracy & F1 score"
   ]
  },
  {
   "cell_type": "code",
   "execution_count": 69,
   "id": "e5aa4917",
   "metadata": {},
   "outputs": [
    {
     "name": "stdout",
     "output_type": "stream",
     "text": [
      "Accuracy: 0.489\n"
     ]
    }
   ],
   "source": [
    "from sklearn.metrics import accuracy_score\n",
    "from sklearn.metrics import f1_score\n",
    "accuracy_score(Y_test, preds_final)\n",
    "print('Accuracy: %.3f' % f1_score(Y_test, preds_final))"
   ]
  },
  {
   "cell_type": "code",
   "execution_count": 70,
   "id": "86b5c4e0",
   "metadata": {},
   "outputs": [
    {
     "name": "stdout",
     "output_type": "stream",
     "text": [
      "F1 Score: 0.489\n"
     ]
    }
   ],
   "source": [
    "from sklearn.metrics import f1_score\n",
    "print('F1 Score: %.3f' % f1_score(Y_test, preds_final))\n"
   ]
  },
  {
   "cell_type": "markdown",
   "id": "e2e55577",
   "metadata": {},
   "source": [
    "### 9.Prediction"
   ]
  },
  {
   "cell_type": "code",
   "execution_count": 71,
   "id": "5f4ae8f2",
   "metadata": {},
   "outputs": [],
   "source": [
    "#prediction\n",
    "y_pred = my_pipeline_final.predict(X_test)"
   ]
  },
  {
   "cell_type": "code",
   "execution_count": 72,
   "id": "8962e61e",
   "metadata": {},
   "outputs": [
    {
     "data": {
      "text/plain": [
       "array([0, 0, 0, ..., 0, 0, 1])"
      ]
     },
     "execution_count": 72,
     "metadata": {},
     "output_type": "execute_result"
    }
   ],
   "source": [
    "y_pred"
   ]
  },
  {
   "cell_type": "code",
   "execution_count": 73,
   "id": "a7790baa",
   "metadata": {},
   "outputs": [
    {
     "data": {
      "text/plain": [
       "0.9047478619876143"
      ]
     },
     "execution_count": 73,
     "metadata": {},
     "output_type": "execute_result"
    }
   ],
   "source": [
    "from sklearn.metrics import accuracy_score\n",
    "accuracy_score(Y_test, y_pred)"
   ]
  },
  {
   "cell_type": "markdown",
   "id": "e27463bf",
   "metadata": {},
   "source": [
    "### 10.Evaluating the model [Perfomance matrix]"
   ]
  },
  {
   "cell_type": "code",
   "execution_count": 74,
   "id": "7e4225b7",
   "metadata": {},
   "outputs": [
    {
     "data": {
      "text/plain": [
       "array([[8741,  257],\n",
       "       [ 712,  463]], dtype=int64)"
      ]
     },
     "execution_count": 74,
     "metadata": {},
     "output_type": "execute_result"
    }
   ],
   "source": [
    "from sklearn.metrics import confusion_matrix\n",
    "confusion_matrix(Y_test, y_pred)"
   ]
  },
  {
   "cell_type": "code",
   "execution_count": 76,
   "id": "171840b1",
   "metadata": {},
   "outputs": [
    {
     "data": {
      "text/plain": [
       "array([0, 0, 0, ..., 0, 0, 1])"
      ]
     },
     "execution_count": 76,
     "metadata": {},
     "output_type": "execute_result"
    }
   ],
   "source": [
    "y_pred"
   ]
  },
  {
   "cell_type": "code",
   "execution_count": null,
   "id": "d4f30675",
   "metadata": {},
   "outputs": [],
   "source": [
    "#XGboost"
   ]
  },
  {
   "cell_type": "code",
   "execution_count": 77,
   "id": "f69851d0",
   "metadata": {},
   "outputs": [],
   "source": [
    "from xgboost import XGBClassifier"
   ]
  },
  {
   "cell_type": "code",
   "execution_count": 78,
   "id": "d673ec57",
   "metadata": {},
   "outputs": [],
   "source": [
    "model_xg = XGBClassifier()"
   ]
  },
  {
   "cell_type": "code",
   "execution_count": 80,
   "id": "f30f7d8f",
   "metadata": {},
   "outputs": [],
   "source": [
    "my_pipeline_xg = Pipeline(steps=[('preprocessor', preprocessor),\n",
    "('model', model_xg)\n",
    "])\n"
   ]
  },
  {
   "cell_type": "code",
   "execution_count": 81,
   "id": "9bbef10c",
   "metadata": {},
   "outputs": [
    {
     "data": {
      "text/plain": [
       "Pipeline(steps=[('preprocessor',\n",
       "                 ColumnTransformer(transformers=[('num',\n",
       "                                                  SimpleImputer(strategy='median'),\n",
       "                                                  ['age', 'balance', 'day',\n",
       "                                                   'duration', 'campaign',\n",
       "                                                   'previous']),\n",
       "                                                 ('cat',\n",
       "                                                  Pipeline(steps=[('imputer',\n",
       "                                                                   SimpleImputer(strategy='most_frequent')),\n",
       "                                                                  ('one_hot_encoder',\n",
       "                                                                   OneHotEncoder(handle_unknown='ignore'))]),\n",
       "                                                  ['job', 'marital',\n",
       "                                                   'education', 'default',\n",
       "                                                   'housing', 'lo...\n",
       "                               gamma=0, gpu_id=-1, grow_policy='depthwise',\n",
       "                               importance_type=None, interaction_constraints='',\n",
       "                               learning_rate=0.300000012, max_bin=256,\n",
       "                               max_cat_to_onehot=4, max_delta_step=0,\n",
       "                               max_depth=6, max_leaves=0, min_child_weight=1,\n",
       "                               missing=nan, monotone_constraints='()',\n",
       "                               n_estimators=100, n_jobs=0, num_parallel_tree=1,\n",
       "                               predictor='auto', random_state=0, reg_alpha=0,\n",
       "                               reg_lambda=1, ...))])"
      ]
     },
     "execution_count": 81,
     "metadata": {},
     "output_type": "execute_result"
    }
   ],
   "source": [
    "#Preprocessing of training data, fit model\n",
    "my_pipeline_xg.fit(X_train, Y_train)"
   ]
  },
  {
   "cell_type": "code",
   "execution_count": 82,
   "id": "7e376a86",
   "metadata": {},
   "outputs": [],
   "source": [
    "#Preprocessing of validation data, get predictions\n",
    "preds_xg = my_pipeline_xg.predict(X_test)"
   ]
  },
  {
   "cell_type": "code",
   "execution_count": 83,
   "id": "89a8fef8",
   "metadata": {},
   "outputs": [],
   "source": [
    "from sklearn.metrics import mean_absolute_error\n",
    "score_xg = mean_absolute_error(Y_test, preds_xg)"
   ]
  },
  {
   "cell_type": "code",
   "execution_count": 84,
   "id": "73b0f6a0",
   "metadata": {},
   "outputs": [
    {
     "data": {
      "text/plain": [
       "0.09790622235328812"
      ]
     },
     "execution_count": 84,
     "metadata": {},
     "output_type": "execute_result"
    }
   ],
   "source": [
    "score_xg"
   ]
  },
  {
   "cell_type": "code",
   "execution_count": 85,
   "id": "f41fd940",
   "metadata": {},
   "outputs": [
    {
     "name": "stdout",
     "output_type": "stream",
     "text": [
      "              precision    recall  f1-score   support\n",
      "\n",
      "           0       0.93      0.96      0.95      8998\n",
      "           1       0.60      0.47      0.53      1175\n",
      "\n",
      "    accuracy                           0.90     10173\n",
      "   macro avg       0.76      0.72      0.74     10173\n",
      "weighted avg       0.89      0.90      0.90     10173\n",
      "\n"
     ]
    }
   ],
   "source": [
    "from sklearn.metrics import classification_report\n",
    "print(classification_report(Y_test, preds_xg))"
   ]
  },
  {
   "cell_type": "markdown",
   "id": "5131bcf2",
   "metadata": {},
   "source": [
    "### 11.Final Submission"
   ]
  },
  {
   "cell_type": "code",
   "execution_count": 86,
   "id": "1505293b",
   "metadata": {},
   "outputs": [],
   "source": [
    "#writing the prediction data to the submission file\n",
    "submission = pd.read_csv('C:/Users/Admin/Desktop/Ecolab_hackathon/submission.csv')"
   ]
  },
  {
   "cell_type": "code",
   "execution_count": 87,
   "id": "d71e9605",
   "metadata": {},
   "outputs": [
    {
     "data": {
      "text/plain": [
       "11303"
      ]
     },
     "execution_count": 87,
     "metadata": {},
     "output_type": "execute_result"
    }
   ],
   "source": [
    "#Doing a sanity check on the submition file \n",
    "len(submission)"
   ]
  },
  {
   "cell_type": "code",
   "execution_count": 88,
   "id": "2589999f",
   "metadata": {},
   "outputs": [
    {
     "data": {
      "text/plain": [
       "11303"
      ]
     },
     "execution_count": 88,
     "metadata": {},
     "output_type": "execute_result"
    }
   ],
   "source": [
    "#Doing a sanity check on the Test file \n",
    "len(df_test)"
   ]
  },
  {
   "cell_type": "code",
   "execution_count": 89,
   "id": "ba77acb8",
   "metadata": {},
   "outputs": [],
   "source": [
    "df_test = pd.read_csv('C:/Users/Admin/Desktop/Ecolab_hackathon/test.csv')"
   ]
  },
  {
   "cell_type": "code",
   "execution_count": 90,
   "id": "f9b5d0d4",
   "metadata": {},
   "outputs": [],
   "source": [
    "predictions = my_pipeline_final.predict(df_test)"
   ]
  },
  {
   "cell_type": "code",
   "execution_count": 91,
   "id": "6a8e4c42",
   "metadata": {},
   "outputs": [
    {
     "data": {
      "text/plain": [
       "array([0, 0, 0, ..., 0, 0, 0])"
      ]
     },
     "execution_count": 91,
     "metadata": {},
     "output_type": "execute_result"
    }
   ],
   "source": [
    "predictions"
   ]
  },
  {
   "cell_type": "code",
   "execution_count": 92,
   "id": "d6ac6e3a",
   "metadata": {},
   "outputs": [],
   "source": [
    "checking_submission = pd.DataFrame({ \"Serial_no\": submission[\"Serial_no\"],\"pred\": predictions})"
   ]
  },
  {
   "cell_type": "code",
   "execution_count": 93,
   "id": "1f9afd60",
   "metadata": {},
   "outputs": [],
   "source": [
    "checking_submission.to_csv('final_submission.csv', index=False)"
   ]
  },
  {
   "cell_type": "markdown",
   "id": "d90a8490",
   "metadata": {},
   "source": [
    "## Thank you...!!"
   ]
  },
  {
   "cell_type": "code",
   "execution_count": null,
   "id": "d329ae17",
   "metadata": {},
   "outputs": [],
   "source": []
  }
 ],
 "metadata": {
  "kernelspec": {
   "display_name": "Python 3 (ipykernel)",
   "language": "python",
   "name": "python3"
  },
  "language_info": {
   "codemirror_mode": {
    "name": "ipython",
    "version": 3
   },
   "file_extension": ".py",
   "mimetype": "text/x-python",
   "name": "python",
   "nbconvert_exporter": "python",
   "pygments_lexer": "ipython3",
   "version": "3.9.7"
  }
 },
 "nbformat": 4,
 "nbformat_minor": 5
}
